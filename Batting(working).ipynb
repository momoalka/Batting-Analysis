{
 "cells": [
  {
   "cell_type": "code",
   "execution_count": 1,
   "id": "7bd8ef24",
   "metadata": {},
   "outputs": [],
   "source": [
    "# Import Necessary Libraries\n",
    "\n",
    "import sys\n",
    "import pandas as pd\n",
    "from sklearn import tree\n",
    "from sklearn import neighbors\n",
    "from sklearn import svm\n",
    "from sklearn import linear_model\n",
    "from sklearn.model_selection import train_test_split\n",
    "from sklearn.preprocessing import PolynomialFeatures\n",
    "from sklearn.linear_model import LinearRegression\n",
    "from sklearn import metrics\n",
    "import numpy as np\n",
    "import plotly.express as px\n",
    "import ipywidgets as widgets"
   ]
  },
  {
   "cell_type": "code",
   "execution_count": 2,
   "id": "b78653c3",
   "metadata": {},
   "outputs": [],
   "source": [
    "# Import CSV file using pd.read\n",
    "\n",
    "battingData = pd.read_csv('batting.csv')\n",
    "#print(battingData.describe())\n",
    "\n",
    "# When printing battingData (csv data stored as a dataframe, need arises to convert percentages 'strings' to floats)\n",
    "\n",
    "columns = battingData.columns\n",
    "for i in [10,11,17,18,19,20,21,22,23,24,25,26,27]:\n",
    "    \n",
    "    battingData[columns[i]] = battingData[columns[i]].str.rstrip('%').astype('float') / 100.0\n",
    "    \n",
    "\n",
    "#Verify Inputs Imported/Converted Correctly\n",
    "#print(battingData)            \n",
    "#print(battingData.columns)"
   ]
  },
  {
   "cell_type": "code",
   "execution_count": 37,
   "id": "9b29c85f",
   "metadata": {
    "scrolled": true
   },
   "outputs": [],
   "source": [
    "# Create Testing and Training Sets\n",
    "\n",
    "independentSet = battingData[columns[3:28]]\n",
    "independentColumns = independentSet.columns\n",
    "dependentSet = battingData[columns[28]]\n",
    "\n",
    "# Split the data set into testing and training sets, setting test_size to percentage\n",
    "# of those to be held back for testing. Generally, try to target 20% for test\n",
    "\n",
    "independentTrain, independentTest, dependentTrain, dependentTest = train_test_split(\n",
    "    independentSet, dependentSet, test_size=0.20, random_state=0)\n",
    "\n",
    "\n",
    "# Providing Ability to quickly investigate different regression algorithms to see which provides cleanest\n",
    "# fit to the data. \n",
    "\n",
    "method = 'Decision Tree'\n",
    "\n",
    "if method == 'Linear Regression':\n",
    "    regressor = LinearRegression()\n",
    "    regressor.fit(independentTrain, dependentTrain)\n",
    "    coeff_Data = pd.DataFrame(regressor.coef_, independentSet.columns, columns=['Coefficient'])\n",
    "    print(coeff_Data)\n",
    "\n",
    "elif method == 'Decision Tree':\n",
    "    regressor = tree.DecisionTreeRegressor( max_depth = 10 )\n",
    "    regressor.fit(independentTrain, dependentTrain)\n",
    "\n",
    "elif method == \"Support Vector\":\n",
    "    regressor = svm.SVR(kernel='poly')\n",
    "    regressor.fit(independentTrain, dependentTrain)\n",
    "    \n",
    "elif method == \"Nearest Neighbor\":\n",
    "    regressor = neighbors.KNeighborsRegressor( n_neighbors = 3, weights='distance')\n",
    "    regressor.fit(independentTrain, dependentTrain)\n"
   ]
  },
  {
   "cell_type": "code",
   "execution_count": 52,
   "id": "8daadbaa",
   "metadata": {
    "scrolled": false
   },
   "outputs": [],
   "source": [
    "prediction = regressor.predict(independentTest)\n",
    "resultFrame = pd.DataFrame({'Actual': dependentTest, 'Predicted': prediction})\n",
    "\n",
    "#print(resultFrame)"
   ]
  },
  {
   "cell_type": "code",
   "execution_count": 45,
   "id": "33447e4e",
   "metadata": {
    "scrolled": false
   },
   "outputs": [
    {
     "data": {
      "application/vnd.plotly.v1+json": {
       "config": {
        "plotlyServerURL": "https://plot.ly"
       },
       "data": [
        {
         "hovertemplate": "Actual=%{x}<br>Predicted=%{y}<extra></extra>",
         "legendgroup": "",
         "marker": {
          "color": "#636efa",
          "symbol": "circle"
         },
         "mode": "markers",
         "name": "",
         "orientation": "v",
         "showlegend": false,
         "type": "scatter",
         "x": [
          0.314,
          0.342,
          0.357,
          0.365,
          0.331,
          0.3289999999999999,
          0.2319999999999999,
          0.315,
          0.325,
          0.271,
          0.321,
          0.352,
          0.276,
          0.317,
          0.26,
          0.379,
          0.271,
          0.289,
          0.346,
          0.395,
          0.312,
          0.331,
          0.382,
          0.283,
          0.278,
          0.3339999999999999,
          0.318,
          0.324,
          0.365,
          0.305,
          0.31,
          0.371,
          0.365,
          0.326,
          0.391,
          0.297,
          0.4379999999999999,
          0.313,
          0.372,
          0.293,
          0.342,
          0.31,
          0.408,
          0.374,
          0.3429999999999999,
          0.363,
          0.364,
          0.259,
          0.356,
          0.405,
          0.325,
          0.3429999999999999,
          0.278,
          0.358,
          0.3279999999999999,
          0.3289999999999999,
          0.379,
          0.325,
          0.321,
          0.355,
          0.429,
          0.348,
          0.311,
          0.3339999999999999
         ],
         "xaxis": "x",
         "y": [
          0.316,
          0.30762500000000004,
          0.364,
          0.3643846153846153,
          0.312,
          0.3389999999999999,
          0.335,
          0.33249999999999996,
          0.312,
          0.3185,
          0.28900000000000003,
          0.364,
          0.361,
          0.252,
          0.209,
          0.367,
          0.3,
          0.3123333333333333,
          0.316,
          0.361,
          0.30762500000000004,
          0.3185,
          0.361,
          0.252,
          0.3185,
          0.3185,
          0.3475,
          0.315,
          0.412,
          0.312,
          0.3475,
          0.34259999999999996,
          0.313,
          0.34259999999999996,
          0.345,
          0.361,
          0.3429999999999999,
          0.3565,
          0.3456,
          0.33249999999999996,
          0.3185,
          0.29179999999999995,
          0.3185,
          0.3185,
          0.3185,
          0.346,
          0.361,
          0.302,
          0.3643846153846153,
          0.345,
          0.252,
          0.30762500000000004,
          0.3185,
          0.3643846153846153,
          0.357,
          0.3475,
          0.372,
          0.3643846153846153,
          0.276,
          0.3229999999999999,
          0.389,
          0.381,
          0.335,
          0.354
         ],
         "yaxis": "y"
        },
        {
         "hovertemplate": "<b>OLS trendline</b><br>Predicted = 0.395641 * Actual + 0.198285<br>R<sup>2</sup>=0.217298<br><br>Actual=%{x}<br>Predicted=%{y} <b>(trend)</b><extra></extra>",
         "legendgroup": "",
         "marker": {
          "color": "#636efa",
          "symbol": "circle"
         },
         "mode": "lines",
         "name": "",
         "showlegend": false,
         "type": "scatter",
         "x": [
          0.2319999999999999,
          0.259,
          0.26,
          0.271,
          0.271,
          0.276,
          0.278,
          0.278,
          0.283,
          0.289,
          0.293,
          0.297,
          0.305,
          0.31,
          0.31,
          0.311,
          0.312,
          0.313,
          0.314,
          0.315,
          0.317,
          0.318,
          0.321,
          0.321,
          0.324,
          0.325,
          0.325,
          0.325,
          0.326,
          0.3279999999999999,
          0.3289999999999999,
          0.3289999999999999,
          0.331,
          0.331,
          0.3339999999999999,
          0.3339999999999999,
          0.342,
          0.342,
          0.3429999999999999,
          0.3429999999999999,
          0.346,
          0.348,
          0.352,
          0.355,
          0.356,
          0.357,
          0.358,
          0.363,
          0.364,
          0.365,
          0.365,
          0.365,
          0.371,
          0.372,
          0.374,
          0.379,
          0.379,
          0.382,
          0.391,
          0.395,
          0.405,
          0.408,
          0.429,
          0.4379999999999999
         ],
         "xaxis": "x",
         "y": [
          0.2900738953000314,
          0.30075619900114625,
          0.3011518398789653,
          0.3055038895349751,
          0.3055038895349751,
          0.30748209392407044,
          0.3082733756797086,
          0.3082733756797086,
          0.3102515800688039,
          0.3126254253357183,
          0.3142079888469946,
          0.31579055235827086,
          0.31895567938082336,
          0.3209338837699187,
          0.3209338837699187,
          0.3213295246477378,
          0.32172516552555686,
          0.3221208064033759,
          0.322516447281195,
          0.32291208815901407,
          0.3237033699146522,
          0.3240990107924713,
          0.3252859334259285,
          0.3252859334259285,
          0.3264728560593857,
          0.32686849693720477,
          0.32686849693720477,
          0.32686849693720477,
          0.32726413781502384,
          0.32805541957066187,
          0.32845106044848094,
          0.32845106044848094,
          0.32924234220411913,
          0.32924234220411913,
          0.3304292648375763,
          0.3304292648375763,
          0.3335943918601289,
          0.3335943918601289,
          0.3339900327379479,
          0.3339900327379479,
          0.3351769553714051,
          0.33596823712704327,
          0.33755080063831955,
          0.33873772327177676,
          0.33913336414959583,
          0.3395290050274149,
          0.33992464590523397,
          0.3419028502943293,
          0.3422984911721484,
          0.34269413204996746,
          0.34269413204996746,
          0.34269413204996746,
          0.3450679773168818,
          0.3454636181947009,
          0.34625489995033903,
          0.3482331043394344,
          0.3482331043394344,
          0.34942002697289154,
          0.35298079487326317,
          0.35456335838453945,
          0.35851976716273015,
          0.3597066897961873,
          0.3680151482303877,
          0.3715759161307593
         ],
         "yaxis": "y"
        }
       ],
       "layout": {
        "legend": {
         "tracegroupgap": 0
        },
        "margin": {
         "t": 60
        },
        "template": {
         "data": {
          "bar": [
           {
            "error_x": {
             "color": "#2a3f5f"
            },
            "error_y": {
             "color": "#2a3f5f"
            },
            "marker": {
             "line": {
              "color": "#E5ECF6",
              "width": 0.5
             },
             "pattern": {
              "fillmode": "overlay",
              "size": 10,
              "solidity": 0.2
             }
            },
            "type": "bar"
           }
          ],
          "barpolar": [
           {
            "marker": {
             "line": {
              "color": "#E5ECF6",
              "width": 0.5
             },
             "pattern": {
              "fillmode": "overlay",
              "size": 10,
              "solidity": 0.2
             }
            },
            "type": "barpolar"
           }
          ],
          "carpet": [
           {
            "aaxis": {
             "endlinecolor": "#2a3f5f",
             "gridcolor": "white",
             "linecolor": "white",
             "minorgridcolor": "white",
             "startlinecolor": "#2a3f5f"
            },
            "baxis": {
             "endlinecolor": "#2a3f5f",
             "gridcolor": "white",
             "linecolor": "white",
             "minorgridcolor": "white",
             "startlinecolor": "#2a3f5f"
            },
            "type": "carpet"
           }
          ],
          "choropleth": [
           {
            "colorbar": {
             "outlinewidth": 0,
             "ticks": ""
            },
            "type": "choropleth"
           }
          ],
          "contour": [
           {
            "colorbar": {
             "outlinewidth": 0,
             "ticks": ""
            },
            "colorscale": [
             [
              0,
              "#0d0887"
             ],
             [
              0.1111111111111111,
              "#46039f"
             ],
             [
              0.2222222222222222,
              "#7201a8"
             ],
             [
              0.3333333333333333,
              "#9c179e"
             ],
             [
              0.4444444444444444,
              "#bd3786"
             ],
             [
              0.5555555555555556,
              "#d8576b"
             ],
             [
              0.6666666666666666,
              "#ed7953"
             ],
             [
              0.7777777777777778,
              "#fb9f3a"
             ],
             [
              0.8888888888888888,
              "#fdca26"
             ],
             [
              1,
              "#f0f921"
             ]
            ],
            "type": "contour"
           }
          ],
          "contourcarpet": [
           {
            "colorbar": {
             "outlinewidth": 0,
             "ticks": ""
            },
            "type": "contourcarpet"
           }
          ],
          "heatmap": [
           {
            "colorbar": {
             "outlinewidth": 0,
             "ticks": ""
            },
            "colorscale": [
             [
              0,
              "#0d0887"
             ],
             [
              0.1111111111111111,
              "#46039f"
             ],
             [
              0.2222222222222222,
              "#7201a8"
             ],
             [
              0.3333333333333333,
              "#9c179e"
             ],
             [
              0.4444444444444444,
              "#bd3786"
             ],
             [
              0.5555555555555556,
              "#d8576b"
             ],
             [
              0.6666666666666666,
              "#ed7953"
             ],
             [
              0.7777777777777778,
              "#fb9f3a"
             ],
             [
              0.8888888888888888,
              "#fdca26"
             ],
             [
              1,
              "#f0f921"
             ]
            ],
            "type": "heatmap"
           }
          ],
          "heatmapgl": [
           {
            "colorbar": {
             "outlinewidth": 0,
             "ticks": ""
            },
            "colorscale": [
             [
              0,
              "#0d0887"
             ],
             [
              0.1111111111111111,
              "#46039f"
             ],
             [
              0.2222222222222222,
              "#7201a8"
             ],
             [
              0.3333333333333333,
              "#9c179e"
             ],
             [
              0.4444444444444444,
              "#bd3786"
             ],
             [
              0.5555555555555556,
              "#d8576b"
             ],
             [
              0.6666666666666666,
              "#ed7953"
             ],
             [
              0.7777777777777778,
              "#fb9f3a"
             ],
             [
              0.8888888888888888,
              "#fdca26"
             ],
             [
              1,
              "#f0f921"
             ]
            ],
            "type": "heatmapgl"
           }
          ],
          "histogram": [
           {
            "marker": {
             "pattern": {
              "fillmode": "overlay",
              "size": 10,
              "solidity": 0.2
             }
            },
            "type": "histogram"
           }
          ],
          "histogram2d": [
           {
            "colorbar": {
             "outlinewidth": 0,
             "ticks": ""
            },
            "colorscale": [
             [
              0,
              "#0d0887"
             ],
             [
              0.1111111111111111,
              "#46039f"
             ],
             [
              0.2222222222222222,
              "#7201a8"
             ],
             [
              0.3333333333333333,
              "#9c179e"
             ],
             [
              0.4444444444444444,
              "#bd3786"
             ],
             [
              0.5555555555555556,
              "#d8576b"
             ],
             [
              0.6666666666666666,
              "#ed7953"
             ],
             [
              0.7777777777777778,
              "#fb9f3a"
             ],
             [
              0.8888888888888888,
              "#fdca26"
             ],
             [
              1,
              "#f0f921"
             ]
            ],
            "type": "histogram2d"
           }
          ],
          "histogram2dcontour": [
           {
            "colorbar": {
             "outlinewidth": 0,
             "ticks": ""
            },
            "colorscale": [
             [
              0,
              "#0d0887"
             ],
             [
              0.1111111111111111,
              "#46039f"
             ],
             [
              0.2222222222222222,
              "#7201a8"
             ],
             [
              0.3333333333333333,
              "#9c179e"
             ],
             [
              0.4444444444444444,
              "#bd3786"
             ],
             [
              0.5555555555555556,
              "#d8576b"
             ],
             [
              0.6666666666666666,
              "#ed7953"
             ],
             [
              0.7777777777777778,
              "#fb9f3a"
             ],
             [
              0.8888888888888888,
              "#fdca26"
             ],
             [
              1,
              "#f0f921"
             ]
            ],
            "type": "histogram2dcontour"
           }
          ],
          "mesh3d": [
           {
            "colorbar": {
             "outlinewidth": 0,
             "ticks": ""
            },
            "type": "mesh3d"
           }
          ],
          "parcoords": [
           {
            "line": {
             "colorbar": {
              "outlinewidth": 0,
              "ticks": ""
             }
            },
            "type": "parcoords"
           }
          ],
          "pie": [
           {
            "automargin": true,
            "type": "pie"
           }
          ],
          "scatter": [
           {
            "marker": {
             "colorbar": {
              "outlinewidth": 0,
              "ticks": ""
             }
            },
            "type": "scatter"
           }
          ],
          "scatter3d": [
           {
            "line": {
             "colorbar": {
              "outlinewidth": 0,
              "ticks": ""
             }
            },
            "marker": {
             "colorbar": {
              "outlinewidth": 0,
              "ticks": ""
             }
            },
            "type": "scatter3d"
           }
          ],
          "scattercarpet": [
           {
            "marker": {
             "colorbar": {
              "outlinewidth": 0,
              "ticks": ""
             }
            },
            "type": "scattercarpet"
           }
          ],
          "scattergeo": [
           {
            "marker": {
             "colorbar": {
              "outlinewidth": 0,
              "ticks": ""
             }
            },
            "type": "scattergeo"
           }
          ],
          "scattergl": [
           {
            "marker": {
             "colorbar": {
              "outlinewidth": 0,
              "ticks": ""
             }
            },
            "type": "scattergl"
           }
          ],
          "scattermapbox": [
           {
            "marker": {
             "colorbar": {
              "outlinewidth": 0,
              "ticks": ""
             }
            },
            "type": "scattermapbox"
           }
          ],
          "scatterpolar": [
           {
            "marker": {
             "colorbar": {
              "outlinewidth": 0,
              "ticks": ""
             }
            },
            "type": "scatterpolar"
           }
          ],
          "scatterpolargl": [
           {
            "marker": {
             "colorbar": {
              "outlinewidth": 0,
              "ticks": ""
             }
            },
            "type": "scatterpolargl"
           }
          ],
          "scatterternary": [
           {
            "marker": {
             "colorbar": {
              "outlinewidth": 0,
              "ticks": ""
             }
            },
            "type": "scatterternary"
           }
          ],
          "surface": [
           {
            "colorbar": {
             "outlinewidth": 0,
             "ticks": ""
            },
            "colorscale": [
             [
              0,
              "#0d0887"
             ],
             [
              0.1111111111111111,
              "#46039f"
             ],
             [
              0.2222222222222222,
              "#7201a8"
             ],
             [
              0.3333333333333333,
              "#9c179e"
             ],
             [
              0.4444444444444444,
              "#bd3786"
             ],
             [
              0.5555555555555556,
              "#d8576b"
             ],
             [
              0.6666666666666666,
              "#ed7953"
             ],
             [
              0.7777777777777778,
              "#fb9f3a"
             ],
             [
              0.8888888888888888,
              "#fdca26"
             ],
             [
              1,
              "#f0f921"
             ]
            ],
            "type": "surface"
           }
          ],
          "table": [
           {
            "cells": {
             "fill": {
              "color": "#EBF0F8"
             },
             "line": {
              "color": "white"
             }
            },
            "header": {
             "fill": {
              "color": "#C8D4E3"
             },
             "line": {
              "color": "white"
             }
            },
            "type": "table"
           }
          ]
         },
         "layout": {
          "annotationdefaults": {
           "arrowcolor": "#2a3f5f",
           "arrowhead": 0,
           "arrowwidth": 1
          },
          "autotypenumbers": "strict",
          "coloraxis": {
           "colorbar": {
            "outlinewidth": 0,
            "ticks": ""
           }
          },
          "colorscale": {
           "diverging": [
            [
             0,
             "#8e0152"
            ],
            [
             0.1,
             "#c51b7d"
            ],
            [
             0.2,
             "#de77ae"
            ],
            [
             0.3,
             "#f1b6da"
            ],
            [
             0.4,
             "#fde0ef"
            ],
            [
             0.5,
             "#f7f7f7"
            ],
            [
             0.6,
             "#e6f5d0"
            ],
            [
             0.7,
             "#b8e186"
            ],
            [
             0.8,
             "#7fbc41"
            ],
            [
             0.9,
             "#4d9221"
            ],
            [
             1,
             "#276419"
            ]
           ],
           "sequential": [
            [
             0,
             "#0d0887"
            ],
            [
             0.1111111111111111,
             "#46039f"
            ],
            [
             0.2222222222222222,
             "#7201a8"
            ],
            [
             0.3333333333333333,
             "#9c179e"
            ],
            [
             0.4444444444444444,
             "#bd3786"
            ],
            [
             0.5555555555555556,
             "#d8576b"
            ],
            [
             0.6666666666666666,
             "#ed7953"
            ],
            [
             0.7777777777777778,
             "#fb9f3a"
            ],
            [
             0.8888888888888888,
             "#fdca26"
            ],
            [
             1,
             "#f0f921"
            ]
           ],
           "sequentialminus": [
            [
             0,
             "#0d0887"
            ],
            [
             0.1111111111111111,
             "#46039f"
            ],
            [
             0.2222222222222222,
             "#7201a8"
            ],
            [
             0.3333333333333333,
             "#9c179e"
            ],
            [
             0.4444444444444444,
             "#bd3786"
            ],
            [
             0.5555555555555556,
             "#d8576b"
            ],
            [
             0.6666666666666666,
             "#ed7953"
            ],
            [
             0.7777777777777778,
             "#fb9f3a"
            ],
            [
             0.8888888888888888,
             "#fdca26"
            ],
            [
             1,
             "#f0f921"
            ]
           ]
          },
          "colorway": [
           "#636efa",
           "#EF553B",
           "#00cc96",
           "#ab63fa",
           "#FFA15A",
           "#19d3f3",
           "#FF6692",
           "#B6E880",
           "#FF97FF",
           "#FECB52"
          ],
          "font": {
           "color": "#2a3f5f"
          },
          "geo": {
           "bgcolor": "white",
           "lakecolor": "white",
           "landcolor": "#E5ECF6",
           "showlakes": true,
           "showland": true,
           "subunitcolor": "white"
          },
          "hoverlabel": {
           "align": "left"
          },
          "hovermode": "closest",
          "mapbox": {
           "style": "light"
          },
          "paper_bgcolor": "white",
          "plot_bgcolor": "#E5ECF6",
          "polar": {
           "angularaxis": {
            "gridcolor": "white",
            "linecolor": "white",
            "ticks": ""
           },
           "bgcolor": "#E5ECF6",
           "radialaxis": {
            "gridcolor": "white",
            "linecolor": "white",
            "ticks": ""
           }
          },
          "scene": {
           "xaxis": {
            "backgroundcolor": "#E5ECF6",
            "gridcolor": "white",
            "gridwidth": 2,
            "linecolor": "white",
            "showbackground": true,
            "ticks": "",
            "zerolinecolor": "white"
           },
           "yaxis": {
            "backgroundcolor": "#E5ECF6",
            "gridcolor": "white",
            "gridwidth": 2,
            "linecolor": "white",
            "showbackground": true,
            "ticks": "",
            "zerolinecolor": "white"
           },
           "zaxis": {
            "backgroundcolor": "#E5ECF6",
            "gridcolor": "white",
            "gridwidth": 2,
            "linecolor": "white",
            "showbackground": true,
            "ticks": "",
            "zerolinecolor": "white"
           }
          },
          "shapedefaults": {
           "line": {
            "color": "#2a3f5f"
           }
          },
          "ternary": {
           "aaxis": {
            "gridcolor": "white",
            "linecolor": "white",
            "ticks": ""
           },
           "baxis": {
            "gridcolor": "white",
            "linecolor": "white",
            "ticks": ""
           },
           "bgcolor": "#E5ECF6",
           "caxis": {
            "gridcolor": "white",
            "linecolor": "white",
            "ticks": ""
           }
          },
          "title": {
           "x": 0.05
          },
          "xaxis": {
           "automargin": true,
           "gridcolor": "white",
           "linecolor": "white",
           "ticks": "",
           "title": {
            "standoff": 15
           },
           "zerolinecolor": "white",
           "zerolinewidth": 2
          },
          "yaxis": {
           "automargin": true,
           "gridcolor": "white",
           "linecolor": "white",
           "ticks": "",
           "title": {
            "standoff": 15
           },
           "zerolinecolor": "white",
           "zerolinewidth": 2
          }
         }
        },
        "title": {
         "text": "Testing Actual vs. Predicted for Testing Data Set",
         "x": 0.5
        },
        "xaxis": {
         "anchor": "y",
         "domain": [
          0,
          1
         ],
         "range": [
          0.2,
          0.45
         ],
         "title": {
          "text": "Actual"
         }
        },
        "yaxis": {
         "anchor": "x",
         "domain": [
          0,
          1
         ],
         "range": [
          0.2,
          0.45
         ],
         "title": {
          "text": "Predicted"
         }
        }
       }
      },
      "text/html": [
       "<div>                            <div id=\"98834966-54c2-4899-8219-70df33845157\" class=\"plotly-graph-div\" style=\"height:525px; width:100%;\"></div>            <script type=\"text/javascript\">                require([\"plotly\"], function(Plotly) {                    window.PLOTLYENV=window.PLOTLYENV || {};                                    if (document.getElementById(\"98834966-54c2-4899-8219-70df33845157\")) {                    Plotly.newPlot(                        \"98834966-54c2-4899-8219-70df33845157\",                        [{\"hovertemplate\":\"Actual=%{x}<br>Predicted=%{y}<extra></extra>\",\"legendgroup\":\"\",\"marker\":{\"color\":\"#636efa\",\"symbol\":\"circle\"},\"mode\":\"markers\",\"name\":\"\",\"orientation\":\"v\",\"showlegend\":false,\"type\":\"scatter\",\"x\":[0.314,0.342,0.357,0.365,0.331,0.3289999999999999,0.2319999999999999,0.315,0.325,0.271,0.321,0.352,0.276,0.317,0.26,0.379,0.271,0.289,0.346,0.395,0.312,0.331,0.382,0.283,0.278,0.3339999999999999,0.318,0.324,0.365,0.305,0.31,0.371,0.365,0.326,0.391,0.297,0.4379999999999999,0.313,0.372,0.293,0.342,0.31,0.408,0.374,0.3429999999999999,0.363,0.364,0.259,0.356,0.405,0.325,0.3429999999999999,0.278,0.358,0.3279999999999999,0.3289999999999999,0.379,0.325,0.321,0.355,0.429,0.348,0.311,0.3339999999999999],\"xaxis\":\"x\",\"y\":[0.316,0.30762500000000004,0.364,0.3643846153846153,0.312,0.3389999999999999,0.335,0.33249999999999996,0.312,0.3185,0.28900000000000003,0.364,0.361,0.252,0.209,0.367,0.3,0.3123333333333333,0.316,0.361,0.30762500000000004,0.3185,0.361,0.252,0.3185,0.3185,0.3475,0.315,0.412,0.312,0.3475,0.34259999999999996,0.313,0.34259999999999996,0.345,0.361,0.3429999999999999,0.3565,0.3456,0.33249999999999996,0.3185,0.29179999999999995,0.3185,0.3185,0.3185,0.346,0.361,0.302,0.3643846153846153,0.345,0.252,0.30762500000000004,0.3185,0.3643846153846153,0.357,0.3475,0.372,0.3643846153846153,0.276,0.3229999999999999,0.389,0.381,0.335,0.354],\"yaxis\":\"y\"},{\"hovertemplate\":\"<b>OLS trendline</b><br>Predicted = 0.395641 * Actual + 0.198285<br>R<sup>2</sup>=0.217298<br><br>Actual=%{x}<br>Predicted=%{y} <b>(trend)</b><extra></extra>\",\"legendgroup\":\"\",\"marker\":{\"color\":\"#636efa\",\"symbol\":\"circle\"},\"mode\":\"lines\",\"name\":\"\",\"showlegend\":false,\"type\":\"scatter\",\"x\":[0.2319999999999999,0.259,0.26,0.271,0.271,0.276,0.278,0.278,0.283,0.289,0.293,0.297,0.305,0.31,0.31,0.311,0.312,0.313,0.314,0.315,0.317,0.318,0.321,0.321,0.324,0.325,0.325,0.325,0.326,0.3279999999999999,0.3289999999999999,0.3289999999999999,0.331,0.331,0.3339999999999999,0.3339999999999999,0.342,0.342,0.3429999999999999,0.3429999999999999,0.346,0.348,0.352,0.355,0.356,0.357,0.358,0.363,0.364,0.365,0.365,0.365,0.371,0.372,0.374,0.379,0.379,0.382,0.391,0.395,0.405,0.408,0.429,0.4379999999999999],\"xaxis\":\"x\",\"y\":[0.2900738953000314,0.30075619900114625,0.3011518398789653,0.3055038895349751,0.3055038895349751,0.30748209392407044,0.3082733756797086,0.3082733756797086,0.3102515800688039,0.3126254253357183,0.3142079888469946,0.31579055235827086,0.31895567938082336,0.3209338837699187,0.3209338837699187,0.3213295246477378,0.32172516552555686,0.3221208064033759,0.322516447281195,0.32291208815901407,0.3237033699146522,0.3240990107924713,0.3252859334259285,0.3252859334259285,0.3264728560593857,0.32686849693720477,0.32686849693720477,0.32686849693720477,0.32726413781502384,0.32805541957066187,0.32845106044848094,0.32845106044848094,0.32924234220411913,0.32924234220411913,0.3304292648375763,0.3304292648375763,0.3335943918601289,0.3335943918601289,0.3339900327379479,0.3339900327379479,0.3351769553714051,0.33596823712704327,0.33755080063831955,0.33873772327177676,0.33913336414959583,0.3395290050274149,0.33992464590523397,0.3419028502943293,0.3422984911721484,0.34269413204996746,0.34269413204996746,0.34269413204996746,0.3450679773168818,0.3454636181947009,0.34625489995033903,0.3482331043394344,0.3482331043394344,0.34942002697289154,0.35298079487326317,0.35456335838453945,0.35851976716273015,0.3597066897961873,0.3680151482303877,0.3715759161307593],\"yaxis\":\"y\"}],                        {\"legend\":{\"tracegroupgap\":0},\"margin\":{\"t\":60},\"template\":{\"data\":{\"bar\":[{\"error_x\":{\"color\":\"#2a3f5f\"},\"error_y\":{\"color\":\"#2a3f5f\"},\"marker\":{\"line\":{\"color\":\"#E5ECF6\",\"width\":0.5},\"pattern\":{\"fillmode\":\"overlay\",\"size\":10,\"solidity\":0.2}},\"type\":\"bar\"}],\"barpolar\":[{\"marker\":{\"line\":{\"color\":\"#E5ECF6\",\"width\":0.5},\"pattern\":{\"fillmode\":\"overlay\",\"size\":10,\"solidity\":0.2}},\"type\":\"barpolar\"}],\"carpet\":[{\"aaxis\":{\"endlinecolor\":\"#2a3f5f\",\"gridcolor\":\"white\",\"linecolor\":\"white\",\"minorgridcolor\":\"white\",\"startlinecolor\":\"#2a3f5f\"},\"baxis\":{\"endlinecolor\":\"#2a3f5f\",\"gridcolor\":\"white\",\"linecolor\":\"white\",\"minorgridcolor\":\"white\",\"startlinecolor\":\"#2a3f5f\"},\"type\":\"carpet\"}],\"choropleth\":[{\"colorbar\":{\"outlinewidth\":0,\"ticks\":\"\"},\"type\":\"choropleth\"}],\"contour\":[{\"colorbar\":{\"outlinewidth\":0,\"ticks\":\"\"},\"colorscale\":[[0.0,\"#0d0887\"],[0.1111111111111111,\"#46039f\"],[0.2222222222222222,\"#7201a8\"],[0.3333333333333333,\"#9c179e\"],[0.4444444444444444,\"#bd3786\"],[0.5555555555555556,\"#d8576b\"],[0.6666666666666666,\"#ed7953\"],[0.7777777777777778,\"#fb9f3a\"],[0.8888888888888888,\"#fdca26\"],[1.0,\"#f0f921\"]],\"type\":\"contour\"}],\"contourcarpet\":[{\"colorbar\":{\"outlinewidth\":0,\"ticks\":\"\"},\"type\":\"contourcarpet\"}],\"heatmap\":[{\"colorbar\":{\"outlinewidth\":0,\"ticks\":\"\"},\"colorscale\":[[0.0,\"#0d0887\"],[0.1111111111111111,\"#46039f\"],[0.2222222222222222,\"#7201a8\"],[0.3333333333333333,\"#9c179e\"],[0.4444444444444444,\"#bd3786\"],[0.5555555555555556,\"#d8576b\"],[0.6666666666666666,\"#ed7953\"],[0.7777777777777778,\"#fb9f3a\"],[0.8888888888888888,\"#fdca26\"],[1.0,\"#f0f921\"]],\"type\":\"heatmap\"}],\"heatmapgl\":[{\"colorbar\":{\"outlinewidth\":0,\"ticks\":\"\"},\"colorscale\":[[0.0,\"#0d0887\"],[0.1111111111111111,\"#46039f\"],[0.2222222222222222,\"#7201a8\"],[0.3333333333333333,\"#9c179e\"],[0.4444444444444444,\"#bd3786\"],[0.5555555555555556,\"#d8576b\"],[0.6666666666666666,\"#ed7953\"],[0.7777777777777778,\"#fb9f3a\"],[0.8888888888888888,\"#fdca26\"],[1.0,\"#f0f921\"]],\"type\":\"heatmapgl\"}],\"histogram\":[{\"marker\":{\"pattern\":{\"fillmode\":\"overlay\",\"size\":10,\"solidity\":0.2}},\"type\":\"histogram\"}],\"histogram2d\":[{\"colorbar\":{\"outlinewidth\":0,\"ticks\":\"\"},\"colorscale\":[[0.0,\"#0d0887\"],[0.1111111111111111,\"#46039f\"],[0.2222222222222222,\"#7201a8\"],[0.3333333333333333,\"#9c179e\"],[0.4444444444444444,\"#bd3786\"],[0.5555555555555556,\"#d8576b\"],[0.6666666666666666,\"#ed7953\"],[0.7777777777777778,\"#fb9f3a\"],[0.8888888888888888,\"#fdca26\"],[1.0,\"#f0f921\"]],\"type\":\"histogram2d\"}],\"histogram2dcontour\":[{\"colorbar\":{\"outlinewidth\":0,\"ticks\":\"\"},\"colorscale\":[[0.0,\"#0d0887\"],[0.1111111111111111,\"#46039f\"],[0.2222222222222222,\"#7201a8\"],[0.3333333333333333,\"#9c179e\"],[0.4444444444444444,\"#bd3786\"],[0.5555555555555556,\"#d8576b\"],[0.6666666666666666,\"#ed7953\"],[0.7777777777777778,\"#fb9f3a\"],[0.8888888888888888,\"#fdca26\"],[1.0,\"#f0f921\"]],\"type\":\"histogram2dcontour\"}],\"mesh3d\":[{\"colorbar\":{\"outlinewidth\":0,\"ticks\":\"\"},\"type\":\"mesh3d\"}],\"parcoords\":[{\"line\":{\"colorbar\":{\"outlinewidth\":0,\"ticks\":\"\"}},\"type\":\"parcoords\"}],\"pie\":[{\"automargin\":true,\"type\":\"pie\"}],\"scatter\":[{\"marker\":{\"colorbar\":{\"outlinewidth\":0,\"ticks\":\"\"}},\"type\":\"scatter\"}],\"scatter3d\":[{\"line\":{\"colorbar\":{\"outlinewidth\":0,\"ticks\":\"\"}},\"marker\":{\"colorbar\":{\"outlinewidth\":0,\"ticks\":\"\"}},\"type\":\"scatter3d\"}],\"scattercarpet\":[{\"marker\":{\"colorbar\":{\"outlinewidth\":0,\"ticks\":\"\"}},\"type\":\"scattercarpet\"}],\"scattergeo\":[{\"marker\":{\"colorbar\":{\"outlinewidth\":0,\"ticks\":\"\"}},\"type\":\"scattergeo\"}],\"scattergl\":[{\"marker\":{\"colorbar\":{\"outlinewidth\":0,\"ticks\":\"\"}},\"type\":\"scattergl\"}],\"scattermapbox\":[{\"marker\":{\"colorbar\":{\"outlinewidth\":0,\"ticks\":\"\"}},\"type\":\"scattermapbox\"}],\"scatterpolar\":[{\"marker\":{\"colorbar\":{\"outlinewidth\":0,\"ticks\":\"\"}},\"type\":\"scatterpolar\"}],\"scatterpolargl\":[{\"marker\":{\"colorbar\":{\"outlinewidth\":0,\"ticks\":\"\"}},\"type\":\"scatterpolargl\"}],\"scatterternary\":[{\"marker\":{\"colorbar\":{\"outlinewidth\":0,\"ticks\":\"\"}},\"type\":\"scatterternary\"}],\"surface\":[{\"colorbar\":{\"outlinewidth\":0,\"ticks\":\"\"},\"colorscale\":[[0.0,\"#0d0887\"],[0.1111111111111111,\"#46039f\"],[0.2222222222222222,\"#7201a8\"],[0.3333333333333333,\"#9c179e\"],[0.4444444444444444,\"#bd3786\"],[0.5555555555555556,\"#d8576b\"],[0.6666666666666666,\"#ed7953\"],[0.7777777777777778,\"#fb9f3a\"],[0.8888888888888888,\"#fdca26\"],[1.0,\"#f0f921\"]],\"type\":\"surface\"}],\"table\":[{\"cells\":{\"fill\":{\"color\":\"#EBF0F8\"},\"line\":{\"color\":\"white\"}},\"header\":{\"fill\":{\"color\":\"#C8D4E3\"},\"line\":{\"color\":\"white\"}},\"type\":\"table\"}]},\"layout\":{\"annotationdefaults\":{\"arrowcolor\":\"#2a3f5f\",\"arrowhead\":0,\"arrowwidth\":1},\"autotypenumbers\":\"strict\",\"coloraxis\":{\"colorbar\":{\"outlinewidth\":0,\"ticks\":\"\"}},\"colorscale\":{\"diverging\":[[0,\"#8e0152\"],[0.1,\"#c51b7d\"],[0.2,\"#de77ae\"],[0.3,\"#f1b6da\"],[0.4,\"#fde0ef\"],[0.5,\"#f7f7f7\"],[0.6,\"#e6f5d0\"],[0.7,\"#b8e186\"],[0.8,\"#7fbc41\"],[0.9,\"#4d9221\"],[1,\"#276419\"]],\"sequential\":[[0.0,\"#0d0887\"],[0.1111111111111111,\"#46039f\"],[0.2222222222222222,\"#7201a8\"],[0.3333333333333333,\"#9c179e\"],[0.4444444444444444,\"#bd3786\"],[0.5555555555555556,\"#d8576b\"],[0.6666666666666666,\"#ed7953\"],[0.7777777777777778,\"#fb9f3a\"],[0.8888888888888888,\"#fdca26\"],[1.0,\"#f0f921\"]],\"sequentialminus\":[[0.0,\"#0d0887\"],[0.1111111111111111,\"#46039f\"],[0.2222222222222222,\"#7201a8\"],[0.3333333333333333,\"#9c179e\"],[0.4444444444444444,\"#bd3786\"],[0.5555555555555556,\"#d8576b\"],[0.6666666666666666,\"#ed7953\"],[0.7777777777777778,\"#fb9f3a\"],[0.8888888888888888,\"#fdca26\"],[1.0,\"#f0f921\"]]},\"colorway\":[\"#636efa\",\"#EF553B\",\"#00cc96\",\"#ab63fa\",\"#FFA15A\",\"#19d3f3\",\"#FF6692\",\"#B6E880\",\"#FF97FF\",\"#FECB52\"],\"font\":{\"color\":\"#2a3f5f\"},\"geo\":{\"bgcolor\":\"white\",\"lakecolor\":\"white\",\"landcolor\":\"#E5ECF6\",\"showlakes\":true,\"showland\":true,\"subunitcolor\":\"white\"},\"hoverlabel\":{\"align\":\"left\"},\"hovermode\":\"closest\",\"mapbox\":{\"style\":\"light\"},\"paper_bgcolor\":\"white\",\"plot_bgcolor\":\"#E5ECF6\",\"polar\":{\"angularaxis\":{\"gridcolor\":\"white\",\"linecolor\":\"white\",\"ticks\":\"\"},\"bgcolor\":\"#E5ECF6\",\"radialaxis\":{\"gridcolor\":\"white\",\"linecolor\":\"white\",\"ticks\":\"\"}},\"scene\":{\"xaxis\":{\"backgroundcolor\":\"#E5ECF6\",\"gridcolor\":\"white\",\"gridwidth\":2,\"linecolor\":\"white\",\"showbackground\":true,\"ticks\":\"\",\"zerolinecolor\":\"white\"},\"yaxis\":{\"backgroundcolor\":\"#E5ECF6\",\"gridcolor\":\"white\",\"gridwidth\":2,\"linecolor\":\"white\",\"showbackground\":true,\"ticks\":\"\",\"zerolinecolor\":\"white\"},\"zaxis\":{\"backgroundcolor\":\"#E5ECF6\",\"gridcolor\":\"white\",\"gridwidth\":2,\"linecolor\":\"white\",\"showbackground\":true,\"ticks\":\"\",\"zerolinecolor\":\"white\"}},\"shapedefaults\":{\"line\":{\"color\":\"#2a3f5f\"}},\"ternary\":{\"aaxis\":{\"gridcolor\":\"white\",\"linecolor\":\"white\",\"ticks\":\"\"},\"baxis\":{\"gridcolor\":\"white\",\"linecolor\":\"white\",\"ticks\":\"\"},\"bgcolor\":\"#E5ECF6\",\"caxis\":{\"gridcolor\":\"white\",\"linecolor\":\"white\",\"ticks\":\"\"}},\"title\":{\"x\":0.05},\"xaxis\":{\"automargin\":true,\"gridcolor\":\"white\",\"linecolor\":\"white\",\"ticks\":\"\",\"title\":{\"standoff\":15},\"zerolinecolor\":\"white\",\"zerolinewidth\":2},\"yaxis\":{\"automargin\":true,\"gridcolor\":\"white\",\"linecolor\":\"white\",\"ticks\":\"\",\"title\":{\"standoff\":15},\"zerolinecolor\":\"white\",\"zerolinewidth\":2}}},\"title\":{\"text\":\"Testing Actual vs. Predicted for Testing Data Set\",\"x\":0.5},\"xaxis\":{\"anchor\":\"y\",\"domain\":[0.0,1.0],\"range\":[0.2,0.45],\"title\":{\"text\":\"Actual\"}},\"yaxis\":{\"anchor\":\"x\",\"domain\":[0.0,1.0],\"range\":[0.2,0.45],\"title\":{\"text\":\"Predicted\"}}},                        {\"responsive\": true}                    ).then(function(){\n",
       "                            \n",
       "var gd = document.getElementById('98834966-54c2-4899-8219-70df33845157');\n",
       "var x = new MutationObserver(function (mutations, observer) {{\n",
       "        var display = window.getComputedStyle(gd).display;\n",
       "        if (!display || display === 'none') {{\n",
       "            console.log([gd, 'removed!']);\n",
       "            Plotly.purge(gd);\n",
       "            observer.disconnect();\n",
       "        }}\n",
       "}});\n",
       "\n",
       "// Listen for the removal of the full notebook cells\n",
       "var notebookContainer = gd.closest('#notebook-container');\n",
       "if (notebookContainer) {{\n",
       "    x.observe(notebookContainer, {childList: true});\n",
       "}}\n",
       "\n",
       "// Listen for the clearing of the current output cell\n",
       "var outputEl = gd.closest('.output');\n",
       "if (outputEl) {{\n",
       "    x.observe(outputEl, {childList: true});\n",
       "}}\n",
       "\n",
       "                        })                };                });            </script>        </div>"
      ]
     },
     "metadata": {},
     "output_type": "display_data"
    },
    {
     "name": "stdout",
     "output_type": "stream",
     "text": [
      "Mean Absolute Error: 0.03248949318910256\n",
      "Mean Squared Error: 0.0015818324693034494\n",
      "Root Mean Squared Error: 0.03977225753340448\n"
     ]
    }
   ],
   "source": [
    "# Print XY Scatter Plot using plotly. The closer to the line, the smaller the error. \n",
    "\n",
    "fig = px.scatter(resultFrame, x=\"Actual\", y=\"Predicted\",  trendline=\"ols\")\n",
    "fig.update_layout(title_text='Testing Actual vs. Predicted for Testing Data Set', title_x=0.5)\n",
    "fig.update_xaxes(range=[0.2, 0.45])\n",
    "fig.update_yaxes(range=[0.2, 0.45])\n",
    "fig.show()\n",
    "\n",
    "print('Mean Absolute Error:', metrics.mean_absolute_error(dependentTest, prediction))\n",
    "print('Mean Squared Error:', metrics.mean_squared_error(dependentTest, prediction))\n",
    "print('Root Mean Squared Error:', np.sqrt(metrics.mean_squared_error(dependentTest, prediction)))\n"
   ]
  },
  {
   "cell_type": "code",
   "execution_count": 49,
   "id": "edb87259",
   "metadata": {},
   "outputs": [
    {
     "data": {
      "application/vnd.plotly.v1+json": {
       "config": {
        "plotlyServerURL": "https://plot.ly"
       },
       "data": [
        {
         "hovertemplate": "<b>%{hovertext}</b><br><br>Actual=%{x}<br>Predicted=%{y}<extra></extra>",
         "hovertext": [
          "Cody Bellinger",
          "Christian Yelich",
          "Scott Kingery",
          "Eric Sogard",
          "Daniel Vogelbach",
          "Anthony Rendon",
          "Mitch Garver",
          "Tom Murphy",
          "Hunter Dozier",
          "Austin Meadows",
          "Michael Chavis",
          "Joey Gallo",
          "Mike Trout",
          "Willson Contreras",
          "Elvis Andrus",
          "Tim Anderson",
          "Trey Mancini",
          "Dominic Smith",
          "Paul DeJong",
          "Pete Alonso",
          "Rhys Hoskins",
          "Brian Goodwin",
          "Shin-Soo Choo",
          "Jeff McNeil",
          "Christian Walker",
          "Jorge Polanco",
          "Howie Kendrick",
          "Omar Narvaez",
          "Alex Verdugo",
          "Yandy Diaz",
          "Tyler Flowers",
          "Nelson Cruz",
          "James McCann",
          "Joc Pederson",
          "Gary Sanchez",
          "Clint Frazier",
          "Yoan Moncada",
          "Freddie Freeman",
          "Ronny Rodriguez",
          "Jason Heyward",
          "Matt Chapman",
          "J.D. Davis",
          "Alex Gordon",
          "Marcell Ozuna",
          "Luke Voit",
          "Aaron Judge",
          "Josh Bell",
          "Gio Urshela",
          "Javier Baez",
          "Michael Conforto",
          "Eduardo Escobar",
          "George Springer",
          "Carlos Correa",
          "Jarrod Dyson",
          "Alex Bregman",
          "Mookie Betts",
          "Josh Donaldson",
          "Max Kepler",
          "Tommy Pham",
          "Matt Joyce",
          "Fernando Tatis Jr.",
          "Brandon Lowe",
          "Josh Reddick",
          "Mike Moustakas",
          "Pedro Severino",
          "Ronald Acuna Jr.",
          "Eric Thames",
          "David Dahl",
          "Michael Brantley",
          "Carlos Santana",
          "J.D. Martinez",
          "Tommy La Stella",
          "Edwin Encarnacion",
          "Danny Santana",
          "Nick Markakis",
          "Jean Segura",
          "Ji-Man Choi",
          "Dexter Fowler",
          "David Peralta",
          "David Bote",
          "Brian McCann",
          "Anthony Rizzo",
          "Jose Martinez",
          "Justin Smoak",
          "Bryce Harper",
          "Kolten Wong",
          "Hunter Pence",
          "David Freese",
          "Adam Jones",
          "Paul Goldschmidt",
          "Logan Forsythe",
          "Yasmani Grandal",
          "Trevor Story",
          "Eddie Rosario",
          "Daniel Murphy",
          "John Hicks",
          "Robinson Chirinos",
          "Juan Soto",
          "Marcus Semien",
          "Domingo Santana",
          "Willians Astudillo",
          "Brandon Belt",
          "Andrew McCutchen",
          "Ozzie Albies",
          "Jose Abreu",
          "Ryan Cordell",
          "Harrison Bader",
          "Pablo Sandoval",
          "Melky Cabrera",
          "Freddy Galvis",
          "Enrique Hernandez",
          "Dansby Swanson",
          "Niko Goodrum",
          "Xander Bogaerts",
          "Jose Altuve",
          "Hunter Renfroe",
          "Derek Dietrich",
          "Kevin Plawecki",
          "Raimel Tapia",
          "Mitch Haniger",
          "Jay Bruce",
          "Jorge Alfaro",
          "Gordon Beckham",
          "Ben Gamel",
          "Matt Adams",
          "Whit Merrifield",
          "Josh Phegley",
          "Franmil Reyes",
          "Jason Castro",
          "Dwight Smith Jr.",
          "Kevan Smith",
          "Jesse Winker",
          "DJ LeMahieu",
          "Mitch Moreland",
          "Max Muncy",
          "Tyler Austin",
          "Kris Bryant",
          "Rafael Devers",
          "Eugenio Suarez",
          "Jonathan Schoop",
          "Nolan Arenado",
          "Jake Marisnick",
          "Mark Canha",
          "J.T. Realmuto",
          "Tim Beckham",
          "Charlie Blackmon",
          "Christin Stewart",
          "Adalberto Mondesi",
          "Joey Votto",
          "Nick Castellanos",
          "Renato Nunez",
          "Neil Walker",
          "Adam Eaton",
          "Colin Moran",
          "Brandon Nimmo",
          "Tyler O'Neill",
          "Daniel Descalso",
          "Maikel Franco",
          "Curt Casali",
          "Victor Robles",
          "Nomar Mazara",
          "David Fletcher",
          "Andrew Benintendi",
          "Ketel Marte",
          "Kevin Kiermaier",
          "Justin Turner",
          "Robinson Cano",
          "Brett Gardner",
          "Jose Rondon",
          "Chad Pinder",
          "Asdrubal Cabrera",
          "Welington Castillo",
          "Gleyber Torres",
          "Dee Gordon",
          "Lorenzo Cain",
          "Greg Garcia",
          "Brad Miller",
          "Miguel Cabrera",
          "Andrelton Simmons",
          "Jorge Soler",
          "Tyler White",
          "Byron Buxton",
          "Carlos Gonzalez",
          "Jonathan Villar",
          "Kyle Schwarber",
          "Eric Hosmer",
          "Leonys Martin",
          "Leury Garcia",
          "Khris Davis",
          "Rowdy Tellez",
          "Stephen Piscotty",
          "Jose Iglesias",
          "Yonder Alonso",
          "Yan Gomes",
          "Cesar Hernandez",
          "Ryon Healy",
          "Wil Myers",
          "Hanser Alberto",
          "Avisail Garcia",
          "C.J. Cron",
          "Robbie Grossman",
          "Mark Reynolds",
          "Albert Pujols",
          "Randal Grichuk",
          "Amed Rosario",
          "Jake Bauers",
          "Manny Machado",
          "Corey Seager",
          "Mike Ford",
          "Matt Carpenter",
          "Buster Posey",
          "Adam Frazier",
          "Martin Prado",
          "Kole Calhoun",
          "Austin Barnes",
          "Kurt Suzuki",
          "Miguel Rojas",
          "Chris Iannetta",
          "Brian Anderson",
          "Tony Wolters",
          "Nick Ahmed",
          "Brandon Drury",
          "Guillermo Heredia",
          "Delino DeShields",
          "Ryan Zimmerman",
          "Curtis Granderson",
          "Ryan McMahon",
          "Francisco Lindor",
          "Eloy Jimenez",
          "Ramon Laureano",
          "Jonathan Lucroy",
          "Ender Inciarte",
          "Cole Tucker",
          "Mike Tauchman",
          "Yadier Molina",
          "Christian Vazquez",
          "Yuli Gurriel",
          "Rio Ruiz",
          "Hernan Perez",
          "Orlando Arcia",
          "Mike Zunino",
          "Johan Camargo",
          "Starlin Castro",
          "Brian Dozier",
          "Tucker Barnhart",
          "Grayson Greiner",
          "Jeimer Candelario",
          "Tyler Naquin",
          "Roberto Perez",
          "Juan Lagares",
          "Wilmer Flores",
          "Joey Rickard",
          "Albert Almora Jr.",
          "Manuel Margot",
          "Jordy Mercer",
          "Todd Frazier",
          "Teoscar Hernandez",
          "Ben Zobrist",
          "Starling Marte",
          "Ryan Braun",
          "Travis Shaw",
          "Ryan O'Hearn",
          "Tony Kemp",
          "Wilson Ramos",
          "Steven Duggar",
          "Billy McKinney",
          "Dylan Moore",
          "Justin Bour",
          "A.J. Pollock",
          "Aledmys Diaz",
          "Evan Longoria",
          "Billy Hamilton",
          "Yolmer Sanchez",
          "Isiah Kiner-Falefa",
          "Ehire Adrianza",
          "Chris Davis",
          "Austin Hedges",
          "Austin Romine",
          "Ian Desmond",
          "Kevin Pillar",
          "Willy Adames",
          "Jose Ramirez",
          "Joe Panik",
          "Jung Ho Kang",
          "Jake Cave",
          "Yasiel Puig",
          "Daniel Robertson",
          "Erik Gonzalez",
          "Jesus Aguilar",
          "Kendrys Morales",
          "Manny Pina",
          "Carson Kelly",
          "Chris Taylor",
          "Lourdes Gurriel Jr.",
          "Jason Kipnis",
          "Danny Jansen",
          "Martin Maldonado",
          "Gerardo Parra",
          "Jose Peraza",
          "Mallex Smith",
          "Ildemaro Vargas",
          "Lewis Brinson",
          "Adam Engel",
          "Brandon Crawford",
          "Marwin Gonzalez",
          "Francisco Cervelli",
          "Jurickson Profar",
          "Chris Owings",
          "Jeff Mathis",
          "Rougned Odor",
          "Richie Martin Jr.",
          "Ian Kinsler",
          "Garrett Hampson",
          "JaCoby Jones",
          "Francisco Mejia",
          "Jackie Bradley Jr.",
          "Keon Broxton",
          "Pablo Reyes",
          "Eduardo Nunez",
          "Greg Allen"
         ],
         "legendgroup": "",
         "marker": {
          "color": "#636efa",
          "symbol": "circle"
         },
         "mode": "markers",
         "name": "",
         "orientation": "v",
         "showlegend": false,
         "type": "scatter",
         "x": [
          0.406,
          0.429,
          0.315,
          0.353,
          0.341,
          0.412,
          0.365,
          0.324,
          0.348,
          0.364,
          0.322,
          0.389,
          0.4379999999999999,
          0.355,
          0.313,
          0.357,
          0.364,
          0.355,
          0.318,
          0.358,
          0.364,
          0.326,
          0.371,
          0.384,
          0.348,
          0.356,
          0.395,
          0.353,
          0.342,
          0.34,
          0.319,
          0.392,
          0.3279999999999999,
          0.3389999999999999,
          0.316,
          0.317,
          0.367,
          0.389,
          0.252,
          0.3429999999999999,
          0.342,
          0.369,
          0.345,
          0.3279999999999999,
          0.3779999999999999,
          0.381,
          0.367,
          0.355,
          0.316,
          0.363,
          0.32,
          0.3829999999999999,
          0.358,
          0.313,
          0.423,
          0.391,
          0.379,
          0.336,
          0.369,
          0.408,
          0.379,
          0.336,
          0.319,
          0.3289999999999999,
          0.321,
          0.365,
          0.346,
          0.353,
          0.372,
          0.397,
          0.3829999999999999,
          0.346,
          0.344,
          0.324,
          0.356,
          0.3229999999999999,
          0.363,
          0.346,
          0.3429999999999999,
          0.362,
          0.3229999999999999,
          0.405,
          0.34,
          0.342,
          0.372,
          0.361,
          0.358,
          0.4029999999999999,
          0.313,
          0.346,
          0.325,
          0.38,
          0.363,
          0.3,
          0.3279999999999999,
          0.24,
          0.347,
          0.401,
          0.369,
          0.3289999999999999,
          0.299,
          0.3389999999999999,
          0.3779999999999999,
          0.352,
          0.33,
          0.29,
          0.314,
          0.313,
          0.313,
          0.296,
          0.304,
          0.325,
          0.322,
          0.384,
          0.353,
          0.289,
          0.3279999999999999,
          0.287,
          0.309,
          0.314,
          0.261,
          0.312,
          0.271,
          0.337,
          0.276,
          0.348,
          0.282,
          0.31,
          0.332,
          0.297,
          0.318,
          0.357,
          0.375,
          0.3279999999999999,
          0.374,
          0.296,
          0.382,
          0.361,
          0.358,
          0.304,
          0.379,
          0.289,
          0.396,
          0.3279999999999999,
          0.293,
          0.364,
          0.305,
          0.291,
          0.357,
          0.337,
          0.311,
          0.344,
          0.365,
          0.322,
          0.375,
          0.311,
          0.271,
          0.297,
          0.331,
          0.326,
          0.318,
          0.35,
          0.3429999999999999,
          0.389,
          0.278,
          0.372,
          0.307,
          0.325,
          0.263,
          0.29,
          0.342,
          0.267,
          0.337,
          0.304,
          0.325,
          0.364,
          0.3289999999999999,
          0.346,
          0.309,
          0.354,
          0.308,
          0.314,
          0.289,
          0.3389999999999999,
          0.3389999999999999,
          0.31,
          0.276,
          0.31,
          0.293,
          0.293,
          0.309,
          0.318,
          0.296,
          0.316,
          0.3329999999999999,
          0.289,
          0.321,
          0.3289999999999999,
          0.332,
          0.311,
          0.3339999999999999,
          0.29,
          0.305,
          0.28,
          0.3229999999999999,
          0.312,
          0.3339999999999999,
          0.335,
          0.35,
          0.3339999999999999,
          0.32,
          0.336,
          0.265,
          0.325,
          0.293,
          0.324,
          0.331,
          0.311,
          0.342,
          0.337,
          0.316,
          0.262,
          0.306,
          0.325,
          0.321,
          0.281,
          0.3289999999999999,
          0.335,
          0.315,
          0.34,
          0.305,
          0.3429999999999999,
          0.266,
          0.361,
          0.312,
          0.32,
          0.3429999999999999,
          0.306,
          0.262,
          0.283,
          0.2319999999999999,
          0.2789999999999999,
          0.3,
          0.34,
          0.3279999999999999,
          0.251,
          0.306,
          0.325,
          0.321,
          0.2789999999999999,
          0.361,
          0.312,
          0.271,
          0.304,
          0.31,
          0.3289999999999999,
          0.306,
          0.358,
          0.342,
          0.3429999999999999,
          0.281,
          0.281,
          0.291,
          0.351,
          0.278,
          0.2739999999999999,
          0.302,
          0.259,
          0.327,
          0.356,
          0.325,
          0.289,
          0.318,
          0.299,
          0.349,
          0.276,
          0.252,
          0.31,
          0.31,
          0.287,
          0.317,
          0.327,
          0.315,
          0.222,
          0.351,
          0.327,
          0.312,
          0.301,
          0.325,
          0.313,
          0.313,
          0.348,
          0.3329999999999999,
          0.327,
          0.304,
          0.2789999999999999,
          0.293,
          0.293,
          0.285,
          0.3,
          0.299,
          0.236,
          0.304,
          0.304,
          0.322,
          0.302,
          0.301,
          0.209,
          0.209,
          0.283,
          0.26,
          0.278,
          0.302,
          0.31,
          0.316,
          0.317,
          0.242,
          0.2739999999999999,
          0.243,
          0.29
         ],
         "xaxis": "x",
         "y": [
          0.406,
          0.389,
          0.315,
          0.34259999999999996,
          0.341,
          0.412,
          0.412,
          0.315,
          0.381,
          0.374,
          0.322,
          0.389,
          0.3429999999999999,
          0.3643846153846153,
          0.313,
          0.364,
          0.364,
          0.3229999999999999,
          0.318,
          0.3643846153846153,
          0.364,
          0.34259999999999996,
          0.34259999999999996,
          0.374,
          0.34259999999999996,
          0.3643846153846153,
          0.361,
          0.3643846153846153,
          0.3456,
          0.34,
          0.319,
          0.38219999999999993,
          0.3279999999999999,
          0.3389999999999999,
          0.316,
          0.316,
          0.367,
          0.389,
          0.252,
          0.3429999999999999,
          0.342,
          0.369,
          0.345,
          0.3279999999999999,
          0.38219999999999993,
          0.381,
          0.3643846153846153,
          0.3565,
          0.316,
          0.363,
          0.32,
          0.38219999999999993,
          0.3643846153846153,
          0.313,
          0.423,
          0.345,
          0.372,
          0.336,
          0.369,
          0.3185,
          0.367,
          0.336,
          0.319,
          0.3389999999999999,
          0.28900000000000003,
          0.3643846153846153,
          0.316,
          0.3456,
          0.3456,
          0.397,
          0.38219999999999993,
          0.345,
          0.345,
          0.324,
          0.3643846153846153,
          0.3229999999999999,
          0.3643846153846153,
          0.34259999999999996,
          0.3456,
          0.3643846153846153,
          0.3229999999999999,
          0.345,
          0.3456,
          0.342,
          0.372,
          0.361,
          0.3565,
          0.4029999999999999,
          0.313,
          0.346,
          0.3643846153846153,
          0.3643846153846153,
          0.346,
          0.3,
          0.3279999999999999,
          0.24,
          0.347,
          0.401,
          0.3643846153846153,
          0.34259999999999996,
          0.299,
          0.3389999999999999,
          0.3779999999999999,
          0.364,
          0.3185,
          0.29,
          0.314,
          0.313,
          0.3565,
          0.3185,
          0.3185,
          0.3185,
          0.322,
          0.3643846153846153,
          0.353,
          0.287,
          0.3123333333333333,
          0.287,
          0.3105,
          0.314,
          0.261,
          0.3105,
          0.3,
          0.34259999999999996,
          0.361,
          0.348,
          0.28900000000000003,
          0.316,
          0.332,
          0.3185,
          0.318,
          0.357,
          0.375,
          0.357,
          0.3185,
          0.296,
          0.361,
          0.3643846153846153,
          0.358,
          0.304,
          0.379,
          0.289,
          0.396,
          0.3279999999999999,
          0.33249999999999996,
          0.364,
          0.3185,
          0.291,
          0.3643846153846153,
          0.3185,
          0.335,
          0.3475,
          0.313,
          0.3123333333333333,
          0.38219999999999993,
          0.311,
          0.3185,
          0.361,
          0.3185,
          0.3185,
          0.3185,
          0.3456,
          0.3185,
          0.389,
          0.3185,
          0.3643846153846153,
          0.3185,
          0.312,
          0.263,
          0.28900000000000003,
          0.3185,
          0.267,
          0.3185,
          0.3185,
          0.325,
          0.361,
          0.3475,
          0.346,
          0.312,
          0.354,
          0.308,
          0.316,
          0.289,
          0.3389999999999999,
          0.3185,
          0.3185,
          0.278,
          0.3185,
          0.293,
          0.3,
          0.309,
          0.318,
          0.30762500000000004,
          0.3185,
          0.33749999999999997,
          0.28900000000000003,
          0.316,
          0.3289999999999999,
          0.33249999999999996,
          0.3185,
          0.3185,
          0.3,
          0.3123333333333333,
          0.278,
          0.3229999999999999,
          0.3123333333333333,
          0.354,
          0.335,
          0.35,
          0.3339999999999999,
          0.3185,
          0.33749999999999997,
          0.265,
          0.325,
          0.29179999999999995,
          0.3185,
          0.312,
          0.3,
          0.3185,
          0.33749999999999997,
          0.3185,
          0.262,
          0.305,
          0.30762500000000004,
          0.3185,
          0.281,
          0.3185,
          0.335,
          0.33249999999999996,
          0.3185,
          0.312,
          0.3185,
          0.266,
          0.361,
          0.312,
          0.3185,
          0.33749999999999997,
          0.3123333333333333,
          0.262,
          0.28900000000000003,
          0.335,
          0.2789999999999999,
          0.3185,
          0.34,
          0.3185,
          0.251,
          0.3185,
          0.325,
          0.276,
          0.3185,
          0.361,
          0.312,
          0.28900000000000003,
          0.28900000000000003,
          0.3475,
          0.3289999999999999,
          0.3,
          0.357,
          0.30762500000000004,
          0.30762500000000004,
          0.281,
          0.29179999999999995,
          0.30762500000000004,
          0.351,
          0.3185,
          0.28900000000000003,
          0.29179999999999995,
          0.302,
          0.3185,
          0.357,
          0.3185,
          0.3123333333333333,
          0.3475,
          0.30762500000000004,
          0.33749999999999997,
          0.276,
          0.252,
          0.28900000000000003,
          0.29179999999999995,
          0.287,
          0.317,
          0.33749999999999997,
          0.312,
          0.222,
          0.3475,
          0.327,
          0.30762500000000004,
          0.3123333333333333,
          0.252,
          0.30762500000000004,
          0.30762500000000004,
          0.348,
          0.33249999999999996,
          0.327,
          0.29179999999999995,
          0.29179999999999995,
          0.28900000000000003,
          0.28900000000000003,
          0.287,
          0.3,
          0.299,
          0.236,
          0.304,
          0.305,
          0.30762500000000004,
          0.30762500000000004,
          0.28900000000000003,
          0.209,
          0.209,
          0.252,
          0.209,
          0.28900000000000003,
          0.302,
          0.31,
          0.316,
          0.252,
          0.242,
          0.2739999999999999,
          0.243,
          0.29
         ],
         "yaxis": "y"
        },
        {
         "hovertemplate": "<b>OLS trendline</b><br>Predicted = 0.820579 * Actual + 0.0576984<br>R<sup>2</sup>=0.752012<br><br>Actual=%{x}<br>Predicted=%{y} <b>(trend)</b><extra></extra>",
         "legendgroup": "",
         "marker": {
          "color": "#636efa",
          "symbol": "circle"
         },
         "mode": "lines",
         "name": "",
         "showlegend": false,
         "type": "scatter",
         "x": [
          0.209,
          0.209,
          0.222,
          0.2319999999999999,
          0.236,
          0.24,
          0.242,
          0.243,
          0.251,
          0.252,
          0.252,
          0.259,
          0.26,
          0.261,
          0.262,
          0.262,
          0.263,
          0.265,
          0.266,
          0.267,
          0.271,
          0.271,
          0.271,
          0.2739999999999999,
          0.2739999999999999,
          0.276,
          0.276,
          0.276,
          0.278,
          0.278,
          0.278,
          0.2789999999999999,
          0.2789999999999999,
          0.2789999999999999,
          0.28,
          0.281,
          0.281,
          0.281,
          0.282,
          0.283,
          0.283,
          0.285,
          0.287,
          0.287,
          0.289,
          0.289,
          0.289,
          0.289,
          0.289,
          0.29,
          0.29,
          0.29,
          0.29,
          0.291,
          0.291,
          0.293,
          0.293,
          0.293,
          0.293,
          0.293,
          0.293,
          0.296,
          0.296,
          0.296,
          0.297,
          0.297,
          0.299,
          0.299,
          0.299,
          0.3,
          0.3,
          0.3,
          0.301,
          0.301,
          0.302,
          0.302,
          0.302,
          0.304,
          0.304,
          0.304,
          0.304,
          0.304,
          0.304,
          0.304,
          0.305,
          0.305,
          0.305,
          0.306,
          0.306,
          0.306,
          0.306,
          0.307,
          0.308,
          0.309,
          0.309,
          0.309,
          0.31,
          0.31,
          0.31,
          0.31,
          0.31,
          0.31,
          0.31,
          0.311,
          0.311,
          0.311,
          0.311,
          0.312,
          0.312,
          0.312,
          0.312,
          0.312,
          0.313,
          0.313,
          0.313,
          0.313,
          0.313,
          0.313,
          0.313,
          0.314,
          0.314,
          0.314,
          0.315,
          0.315,
          0.315,
          0.316,
          0.316,
          0.316,
          0.316,
          0.316,
          0.317,
          0.317,
          0.317,
          0.318,
          0.318,
          0.318,
          0.318,
          0.318,
          0.319,
          0.319,
          0.32,
          0.32,
          0.32,
          0.321,
          0.321,
          0.321,
          0.321,
          0.322,
          0.322,
          0.322,
          0.322,
          0.3229999999999999,
          0.3229999999999999,
          0.3229999999999999,
          0.324,
          0.324,
          0.324,
          0.325,
          0.325,
          0.325,
          0.325,
          0.325,
          0.325,
          0.325,
          0.325,
          0.325,
          0.326,
          0.326,
          0.327,
          0.327,
          0.327,
          0.327,
          0.3279999999999999,
          0.3279999999999999,
          0.3279999999999999,
          0.3279999999999999,
          0.3279999999999999,
          0.3279999999999999,
          0.3279999999999999,
          0.3289999999999999,
          0.3289999999999999,
          0.3289999999999999,
          0.3289999999999999,
          0.3289999999999999,
          0.3289999999999999,
          0.33,
          0.331,
          0.331,
          0.332,
          0.332,
          0.3329999999999999,
          0.3329999999999999,
          0.3339999999999999,
          0.3339999999999999,
          0.3339999999999999,
          0.335,
          0.335,
          0.336,
          0.336,
          0.336,
          0.337,
          0.337,
          0.337,
          0.337,
          0.3389999999999999,
          0.3389999999999999,
          0.3389999999999999,
          0.3389999999999999,
          0.34,
          0.34,
          0.34,
          0.34,
          0.341,
          0.342,
          0.342,
          0.342,
          0.342,
          0.342,
          0.342,
          0.3429999999999999,
          0.3429999999999999,
          0.3429999999999999,
          0.3429999999999999,
          0.3429999999999999,
          0.3429999999999999,
          0.344,
          0.344,
          0.345,
          0.346,
          0.346,
          0.346,
          0.346,
          0.346,
          0.347,
          0.348,
          0.348,
          0.348,
          0.348,
          0.349,
          0.35,
          0.35,
          0.351,
          0.351,
          0.352,
          0.353,
          0.353,
          0.353,
          0.353,
          0.354,
          0.355,
          0.355,
          0.355,
          0.356,
          0.356,
          0.356,
          0.357,
          0.357,
          0.357,
          0.358,
          0.358,
          0.358,
          0.358,
          0.358,
          0.361,
          0.361,
          0.361,
          0.361,
          0.362,
          0.363,
          0.363,
          0.363,
          0.364,
          0.364,
          0.364,
          0.364,
          0.364,
          0.365,
          0.365,
          0.365,
          0.367,
          0.367,
          0.369,
          0.369,
          0.369,
          0.371,
          0.372,
          0.372,
          0.372,
          0.374,
          0.375,
          0.375,
          0.3779999999999999,
          0.3779999999999999,
          0.379,
          0.379,
          0.379,
          0.38,
          0.381,
          0.382,
          0.3829999999999999,
          0.3829999999999999,
          0.384,
          0.384,
          0.389,
          0.389,
          0.389,
          0.391,
          0.392,
          0.395,
          0.396,
          0.397,
          0.401,
          0.4029999999999999,
          0.405,
          0.406,
          0.408,
          0.412,
          0.423,
          0.429,
          0.4379999999999999
         ],
         "xaxis": "x",
         "y": [
          0.2291994680894411,
          0.2291994680894411,
          0.23986699812913181,
          0.24807279046735534,
          0.25135510740264483,
          0.2546374243379343,
          0.256278582805579,
          0.25709916203940136,
          0.2636637959099803,
          0.26448437514380263,
          0.26448437514380263,
          0.27022842978055917,
          0.2710490090143815,
          0.2718695882482039,
          0.27269016748202624,
          0.27269016748202624,
          0.27351074671584863,
          0.27515190518349336,
          0.2759724844173157,
          0.27679306365113804,
          0.2800753805864275,
          0.2800753805864275,
          0.2800753805864275,
          0.2825371182878945,
          0.2825371182878945,
          0.2841782767555393,
          0.2841782767555393,
          0.2841782767555393,
          0.28581943522318404,
          0.28581943522318404,
          0.28581943522318404,
          0.2866400144570063,
          0.2866400144570063,
          0.2866400144570063,
          0.28746059369082877,
          0.2882811729246511,
          0.2882811729246511,
          0.2882811729246511,
          0.28910175215847345,
          0.2899223313922958,
          0.2899223313922958,
          0.2915634898599405,
          0.29320464832758525,
          0.29320464832758525,
          0.29484580679523,
          0.29484580679523,
          0.29484580679523,
          0.29484580679523,
          0.29484580679523,
          0.2956663860290523,
          0.2956663860290523,
          0.2956663860290523,
          0.2956663860290523,
          0.2964869652628747,
          0.2964869652628747,
          0.2981281237305194,
          0.2981281237305194,
          0.2981281237305194,
          0.2981281237305194,
          0.2981281237305194,
          0.2981281237305194,
          0.3005898614319865,
          0.3005898614319865,
          0.3005898614319865,
          0.30141044066580885,
          0.30141044066580885,
          0.3030515991334536,
          0.3030515991334536,
          0.3030515991334536,
          0.3038721783672759,
          0.3038721783672759,
          0.3038721783672759,
          0.3046927576010983,
          0.3046927576010983,
          0.30551333683492066,
          0.30551333683492066,
          0.30551333683492066,
          0.3071544953025654,
          0.3071544953025654,
          0.3071544953025654,
          0.3071544953025654,
          0.3071544953025654,
          0.3071544953025654,
          0.3071544953025654,
          0.3079750745363878,
          0.3079750745363878,
          0.3079750745363878,
          0.3087956537702101,
          0.3087956537702101,
          0.3087956537702101,
          0.3087956537702101,
          0.3096162330040325,
          0.31043681223785485,
          0.3112573914716772,
          0.3112573914716772,
          0.3112573914716772,
          0.3120779707054996,
          0.3120779707054996,
          0.3120779707054996,
          0.3120779707054996,
          0.3120779707054996,
          0.3120779707054996,
          0.3120779707054996,
          0.3128985499393219,
          0.3128985499393219,
          0.3128985499393219,
          0.3128985499393219,
          0.3137191291731443,
          0.3137191291731443,
          0.3137191291731443,
          0.3137191291731443,
          0.3137191291731443,
          0.31453970840696666,
          0.31453970840696666,
          0.31453970840696666,
          0.31453970840696666,
          0.31453970840696666,
          0.31453970840696666,
          0.31453970840696666,
          0.31536028764078905,
          0.31536028764078905,
          0.31536028764078905,
          0.3161808668746114,
          0.3161808668746114,
          0.3161808668746114,
          0.3170014461084337,
          0.3170014461084337,
          0.3170014461084337,
          0.3170014461084337,
          0.3170014461084337,
          0.3178220253422561,
          0.3178220253422561,
          0.3178220253422561,
          0.31864260457607846,
          0.31864260457607846,
          0.31864260457607846,
          0.31864260457607846,
          0.31864260457607846,
          0.31946318380990085,
          0.31946318380990085,
          0.3202837630437232,
          0.3202837630437232,
          0.3202837630437232,
          0.32110434227754553,
          0.32110434227754553,
          0.32110434227754553,
          0.32110434227754553,
          0.3219249215113679,
          0.3219249215113679,
          0.3219249215113679,
          0.3219249215113679,
          0.3227455007451902,
          0.3227455007451902,
          0.3227455007451902,
          0.32356607997901266,
          0.32356607997901266,
          0.32356607997901266,
          0.324386659212835,
          0.324386659212835,
          0.324386659212835,
          0.324386659212835,
          0.324386659212835,
          0.324386659212835,
          0.324386659212835,
          0.324386659212835,
          0.324386659212835,
          0.3252072384466574,
          0.3252072384466574,
          0.3260278176804797,
          0.3260278176804797,
          0.3260278176804797,
          0.3260278176804797,
          0.326848396914302,
          0.326848396914302,
          0.326848396914302,
          0.326848396914302,
          0.326848396914302,
          0.326848396914302,
          0.326848396914302,
          0.32766897614812435,
          0.32766897614812435,
          0.32766897614812435,
          0.32766897614812435,
          0.32766897614812435,
          0.32766897614812435,
          0.3284895553819468,
          0.3293101346157692,
          0.3293101346157692,
          0.33013071384959153,
          0.33013071384959153,
          0.3309512930834138,
          0.3309512930834138,
          0.33177187231723615,
          0.33177187231723615,
          0.33177187231723615,
          0.3325924515510586,
          0.3325924515510586,
          0.333413030784881,
          0.333413030784881,
          0.333413030784881,
          0.33423361001870333,
          0.33423361001870333,
          0.33423361001870333,
          0.33423361001870333,
          0.33587476848634795,
          0.33587476848634795,
          0.33587476848634795,
          0.33587476848634795,
          0.3366953477201704,
          0.3366953477201704,
          0.3366953477201704,
          0.3366953477201704,
          0.3375159269539928,
          0.33833650618781513,
          0.33833650618781513,
          0.33833650618781513,
          0.33833650618781513,
          0.33833650618781513,
          0.33833650618781513,
          0.3391570854216374,
          0.3391570854216374,
          0.3391570854216374,
          0.3391570854216374,
          0.3391570854216374,
          0.3391570854216374,
          0.3399776646554598,
          0.3399776646554598,
          0.3407982438892822,
          0.34161882312310454,
          0.34161882312310454,
          0.34161882312310454,
          0.34161882312310454,
          0.34161882312310454,
          0.34243940235692694,
          0.3432599815907493,
          0.3432599815907493,
          0.3432599815907493,
          0.3432599815907493,
          0.3440805608245716,
          0.344901140058394,
          0.344901140058394,
          0.34572171929221635,
          0.34572171929221635,
          0.34654229852603874,
          0.3473628777598611,
          0.3473628777598611,
          0.3473628777598611,
          0.3473628777598611,
          0.3481834569936834,
          0.3490040362275058,
          0.3490040362275058,
          0.3490040362275058,
          0.34982461546132815,
          0.34982461546132815,
          0.34982461546132815,
          0.35064519469515054,
          0.35064519469515054,
          0.35064519469515054,
          0.3514657739289729,
          0.3514657739289729,
          0.3514657739289729,
          0.3514657739289729,
          0.3514657739289729,
          0.35392751163043995,
          0.35392751163043995,
          0.35392751163043995,
          0.35392751163043995,
          0.35474809086426234,
          0.3555686700980847,
          0.3555686700980847,
          0.3555686700980847,
          0.3563892493319071,
          0.3563892493319071,
          0.3563892493319071,
          0.3563892493319071,
          0.3563892493319071,
          0.3572098285657294,
          0.3572098285657294,
          0.3572098285657294,
          0.35885098703337415,
          0.35885098703337415,
          0.3604921455010189,
          0.3604921455010189,
          0.3604921455010189,
          0.3621333039686636,
          0.36295388320248595,
          0.36295388320248595,
          0.36295388320248595,
          0.3645950416701307,
          0.365415620903953,
          0.365415620903953,
          0.36787735860542004,
          0.36787735860542004,
          0.3686979378392425,
          0.3686979378392425,
          0.3686979378392425,
          0.3695185170730648,
          0.3703390963068872,
          0.37115967554070955,
          0.37198025477453184,
          0.37198025477453184,
          0.3728008340083543,
          0.3728008340083543,
          0.3769037301774661,
          0.3769037301774661,
          0.3769037301774661,
          0.3785448886451108,
          0.37936546787893316,
          0.3818272055804003,
          0.3826477848142226,
          0.38346836404804496,
          0.3867506809833344,
          0.38839183945097905,
          0.3900329979186239,
          0.39085357715244623,
          0.3924947356200909,
          0.39577705255538037,
          0.40480342412742637,
          0.4097268995303605,
          0.41711211263476167
         ],
         "yaxis": "y"
        }
       ],
       "layout": {
        "legend": {
         "tracegroupgap": 0
        },
        "margin": {
         "t": 60
        },
        "template": {
         "data": {
          "bar": [
           {
            "error_x": {
             "color": "#2a3f5f"
            },
            "error_y": {
             "color": "#2a3f5f"
            },
            "marker": {
             "line": {
              "color": "#E5ECF6",
              "width": 0.5
             },
             "pattern": {
              "fillmode": "overlay",
              "size": 10,
              "solidity": 0.2
             }
            },
            "type": "bar"
           }
          ],
          "barpolar": [
           {
            "marker": {
             "line": {
              "color": "#E5ECF6",
              "width": 0.5
             },
             "pattern": {
              "fillmode": "overlay",
              "size": 10,
              "solidity": 0.2
             }
            },
            "type": "barpolar"
           }
          ],
          "carpet": [
           {
            "aaxis": {
             "endlinecolor": "#2a3f5f",
             "gridcolor": "white",
             "linecolor": "white",
             "minorgridcolor": "white",
             "startlinecolor": "#2a3f5f"
            },
            "baxis": {
             "endlinecolor": "#2a3f5f",
             "gridcolor": "white",
             "linecolor": "white",
             "minorgridcolor": "white",
             "startlinecolor": "#2a3f5f"
            },
            "type": "carpet"
           }
          ],
          "choropleth": [
           {
            "colorbar": {
             "outlinewidth": 0,
             "ticks": ""
            },
            "type": "choropleth"
           }
          ],
          "contour": [
           {
            "colorbar": {
             "outlinewidth": 0,
             "ticks": ""
            },
            "colorscale": [
             [
              0,
              "#0d0887"
             ],
             [
              0.1111111111111111,
              "#46039f"
             ],
             [
              0.2222222222222222,
              "#7201a8"
             ],
             [
              0.3333333333333333,
              "#9c179e"
             ],
             [
              0.4444444444444444,
              "#bd3786"
             ],
             [
              0.5555555555555556,
              "#d8576b"
             ],
             [
              0.6666666666666666,
              "#ed7953"
             ],
             [
              0.7777777777777778,
              "#fb9f3a"
             ],
             [
              0.8888888888888888,
              "#fdca26"
             ],
             [
              1,
              "#f0f921"
             ]
            ],
            "type": "contour"
           }
          ],
          "contourcarpet": [
           {
            "colorbar": {
             "outlinewidth": 0,
             "ticks": ""
            },
            "type": "contourcarpet"
           }
          ],
          "heatmap": [
           {
            "colorbar": {
             "outlinewidth": 0,
             "ticks": ""
            },
            "colorscale": [
             [
              0,
              "#0d0887"
             ],
             [
              0.1111111111111111,
              "#46039f"
             ],
             [
              0.2222222222222222,
              "#7201a8"
             ],
             [
              0.3333333333333333,
              "#9c179e"
             ],
             [
              0.4444444444444444,
              "#bd3786"
             ],
             [
              0.5555555555555556,
              "#d8576b"
             ],
             [
              0.6666666666666666,
              "#ed7953"
             ],
             [
              0.7777777777777778,
              "#fb9f3a"
             ],
             [
              0.8888888888888888,
              "#fdca26"
             ],
             [
              1,
              "#f0f921"
             ]
            ],
            "type": "heatmap"
           }
          ],
          "heatmapgl": [
           {
            "colorbar": {
             "outlinewidth": 0,
             "ticks": ""
            },
            "colorscale": [
             [
              0,
              "#0d0887"
             ],
             [
              0.1111111111111111,
              "#46039f"
             ],
             [
              0.2222222222222222,
              "#7201a8"
             ],
             [
              0.3333333333333333,
              "#9c179e"
             ],
             [
              0.4444444444444444,
              "#bd3786"
             ],
             [
              0.5555555555555556,
              "#d8576b"
             ],
             [
              0.6666666666666666,
              "#ed7953"
             ],
             [
              0.7777777777777778,
              "#fb9f3a"
             ],
             [
              0.8888888888888888,
              "#fdca26"
             ],
             [
              1,
              "#f0f921"
             ]
            ],
            "type": "heatmapgl"
           }
          ],
          "histogram": [
           {
            "marker": {
             "pattern": {
              "fillmode": "overlay",
              "size": 10,
              "solidity": 0.2
             }
            },
            "type": "histogram"
           }
          ],
          "histogram2d": [
           {
            "colorbar": {
             "outlinewidth": 0,
             "ticks": ""
            },
            "colorscale": [
             [
              0,
              "#0d0887"
             ],
             [
              0.1111111111111111,
              "#46039f"
             ],
             [
              0.2222222222222222,
              "#7201a8"
             ],
             [
              0.3333333333333333,
              "#9c179e"
             ],
             [
              0.4444444444444444,
              "#bd3786"
             ],
             [
              0.5555555555555556,
              "#d8576b"
             ],
             [
              0.6666666666666666,
              "#ed7953"
             ],
             [
              0.7777777777777778,
              "#fb9f3a"
             ],
             [
              0.8888888888888888,
              "#fdca26"
             ],
             [
              1,
              "#f0f921"
             ]
            ],
            "type": "histogram2d"
           }
          ],
          "histogram2dcontour": [
           {
            "colorbar": {
             "outlinewidth": 0,
             "ticks": ""
            },
            "colorscale": [
             [
              0,
              "#0d0887"
             ],
             [
              0.1111111111111111,
              "#46039f"
             ],
             [
              0.2222222222222222,
              "#7201a8"
             ],
             [
              0.3333333333333333,
              "#9c179e"
             ],
             [
              0.4444444444444444,
              "#bd3786"
             ],
             [
              0.5555555555555556,
              "#d8576b"
             ],
             [
              0.6666666666666666,
              "#ed7953"
             ],
             [
              0.7777777777777778,
              "#fb9f3a"
             ],
             [
              0.8888888888888888,
              "#fdca26"
             ],
             [
              1,
              "#f0f921"
             ]
            ],
            "type": "histogram2dcontour"
           }
          ],
          "mesh3d": [
           {
            "colorbar": {
             "outlinewidth": 0,
             "ticks": ""
            },
            "type": "mesh3d"
           }
          ],
          "parcoords": [
           {
            "line": {
             "colorbar": {
              "outlinewidth": 0,
              "ticks": ""
             }
            },
            "type": "parcoords"
           }
          ],
          "pie": [
           {
            "automargin": true,
            "type": "pie"
           }
          ],
          "scatter": [
           {
            "marker": {
             "colorbar": {
              "outlinewidth": 0,
              "ticks": ""
             }
            },
            "type": "scatter"
           }
          ],
          "scatter3d": [
           {
            "line": {
             "colorbar": {
              "outlinewidth": 0,
              "ticks": ""
             }
            },
            "marker": {
             "colorbar": {
              "outlinewidth": 0,
              "ticks": ""
             }
            },
            "type": "scatter3d"
           }
          ],
          "scattercarpet": [
           {
            "marker": {
             "colorbar": {
              "outlinewidth": 0,
              "ticks": ""
             }
            },
            "type": "scattercarpet"
           }
          ],
          "scattergeo": [
           {
            "marker": {
             "colorbar": {
              "outlinewidth": 0,
              "ticks": ""
             }
            },
            "type": "scattergeo"
           }
          ],
          "scattergl": [
           {
            "marker": {
             "colorbar": {
              "outlinewidth": 0,
              "ticks": ""
             }
            },
            "type": "scattergl"
           }
          ],
          "scattermapbox": [
           {
            "marker": {
             "colorbar": {
              "outlinewidth": 0,
              "ticks": ""
             }
            },
            "type": "scattermapbox"
           }
          ],
          "scatterpolar": [
           {
            "marker": {
             "colorbar": {
              "outlinewidth": 0,
              "ticks": ""
             }
            },
            "type": "scatterpolar"
           }
          ],
          "scatterpolargl": [
           {
            "marker": {
             "colorbar": {
              "outlinewidth": 0,
              "ticks": ""
             }
            },
            "type": "scatterpolargl"
           }
          ],
          "scatterternary": [
           {
            "marker": {
             "colorbar": {
              "outlinewidth": 0,
              "ticks": ""
             }
            },
            "type": "scatterternary"
           }
          ],
          "surface": [
           {
            "colorbar": {
             "outlinewidth": 0,
             "ticks": ""
            },
            "colorscale": [
             [
              0,
              "#0d0887"
             ],
             [
              0.1111111111111111,
              "#46039f"
             ],
             [
              0.2222222222222222,
              "#7201a8"
             ],
             [
              0.3333333333333333,
              "#9c179e"
             ],
             [
              0.4444444444444444,
              "#bd3786"
             ],
             [
              0.5555555555555556,
              "#d8576b"
             ],
             [
              0.6666666666666666,
              "#ed7953"
             ],
             [
              0.7777777777777778,
              "#fb9f3a"
             ],
             [
              0.8888888888888888,
              "#fdca26"
             ],
             [
              1,
              "#f0f921"
             ]
            ],
            "type": "surface"
           }
          ],
          "table": [
           {
            "cells": {
             "fill": {
              "color": "#EBF0F8"
             },
             "line": {
              "color": "white"
             }
            },
            "header": {
             "fill": {
              "color": "#C8D4E3"
             },
             "line": {
              "color": "white"
             }
            },
            "type": "table"
           }
          ]
         },
         "layout": {
          "annotationdefaults": {
           "arrowcolor": "#2a3f5f",
           "arrowhead": 0,
           "arrowwidth": 1
          },
          "autotypenumbers": "strict",
          "coloraxis": {
           "colorbar": {
            "outlinewidth": 0,
            "ticks": ""
           }
          },
          "colorscale": {
           "diverging": [
            [
             0,
             "#8e0152"
            ],
            [
             0.1,
             "#c51b7d"
            ],
            [
             0.2,
             "#de77ae"
            ],
            [
             0.3,
             "#f1b6da"
            ],
            [
             0.4,
             "#fde0ef"
            ],
            [
             0.5,
             "#f7f7f7"
            ],
            [
             0.6,
             "#e6f5d0"
            ],
            [
             0.7,
             "#b8e186"
            ],
            [
             0.8,
             "#7fbc41"
            ],
            [
             0.9,
             "#4d9221"
            ],
            [
             1,
             "#276419"
            ]
           ],
           "sequential": [
            [
             0,
             "#0d0887"
            ],
            [
             0.1111111111111111,
             "#46039f"
            ],
            [
             0.2222222222222222,
             "#7201a8"
            ],
            [
             0.3333333333333333,
             "#9c179e"
            ],
            [
             0.4444444444444444,
             "#bd3786"
            ],
            [
             0.5555555555555556,
             "#d8576b"
            ],
            [
             0.6666666666666666,
             "#ed7953"
            ],
            [
             0.7777777777777778,
             "#fb9f3a"
            ],
            [
             0.8888888888888888,
             "#fdca26"
            ],
            [
             1,
             "#f0f921"
            ]
           ],
           "sequentialminus": [
            [
             0,
             "#0d0887"
            ],
            [
             0.1111111111111111,
             "#46039f"
            ],
            [
             0.2222222222222222,
             "#7201a8"
            ],
            [
             0.3333333333333333,
             "#9c179e"
            ],
            [
             0.4444444444444444,
             "#bd3786"
            ],
            [
             0.5555555555555556,
             "#d8576b"
            ],
            [
             0.6666666666666666,
             "#ed7953"
            ],
            [
             0.7777777777777778,
             "#fb9f3a"
            ],
            [
             0.8888888888888888,
             "#fdca26"
            ],
            [
             1,
             "#f0f921"
            ]
           ]
          },
          "colorway": [
           "#636efa",
           "#EF553B",
           "#00cc96",
           "#ab63fa",
           "#FFA15A",
           "#19d3f3",
           "#FF6692",
           "#B6E880",
           "#FF97FF",
           "#FECB52"
          ],
          "font": {
           "color": "#2a3f5f"
          },
          "geo": {
           "bgcolor": "white",
           "lakecolor": "white",
           "landcolor": "#E5ECF6",
           "showlakes": true,
           "showland": true,
           "subunitcolor": "white"
          },
          "hoverlabel": {
           "align": "left"
          },
          "hovermode": "closest",
          "mapbox": {
           "style": "light"
          },
          "paper_bgcolor": "white",
          "plot_bgcolor": "#E5ECF6",
          "polar": {
           "angularaxis": {
            "gridcolor": "white",
            "linecolor": "white",
            "ticks": ""
           },
           "bgcolor": "#E5ECF6",
           "radialaxis": {
            "gridcolor": "white",
            "linecolor": "white",
            "ticks": ""
           }
          },
          "scene": {
           "xaxis": {
            "backgroundcolor": "#E5ECF6",
            "gridcolor": "white",
            "gridwidth": 2,
            "linecolor": "white",
            "showbackground": true,
            "ticks": "",
            "zerolinecolor": "white"
           },
           "yaxis": {
            "backgroundcolor": "#E5ECF6",
            "gridcolor": "white",
            "gridwidth": 2,
            "linecolor": "white",
            "showbackground": true,
            "ticks": "",
            "zerolinecolor": "white"
           },
           "zaxis": {
            "backgroundcolor": "#E5ECF6",
            "gridcolor": "white",
            "gridwidth": 2,
            "linecolor": "white",
            "showbackground": true,
            "ticks": "",
            "zerolinecolor": "white"
           }
          },
          "shapedefaults": {
           "line": {
            "color": "#2a3f5f"
           }
          },
          "ternary": {
           "aaxis": {
            "gridcolor": "white",
            "linecolor": "white",
            "ticks": ""
           },
           "baxis": {
            "gridcolor": "white",
            "linecolor": "white",
            "ticks": ""
           },
           "bgcolor": "#E5ECF6",
           "caxis": {
            "gridcolor": "white",
            "linecolor": "white",
            "ticks": ""
           }
          },
          "title": {
           "x": 0.05
          },
          "xaxis": {
           "automargin": true,
           "gridcolor": "white",
           "linecolor": "white",
           "ticks": "",
           "title": {
            "standoff": 15
           },
           "zerolinecolor": "white",
           "zerolinewidth": 2
          },
          "yaxis": {
           "automargin": true,
           "gridcolor": "white",
           "linecolor": "white",
           "ticks": "",
           "title": {
            "standoff": 15
           },
           "zerolinecolor": "white",
           "zerolinewidth": 2
          }
         }
        },
        "title": {
         "text": "Testing Actual vs. Predicted for Entire Data Set",
         "x": 0.5
        },
        "xaxis": {
         "anchor": "y",
         "domain": [
          0,
          1
         ],
         "range": [
          0.2,
          0.45
         ],
         "title": {
          "text": "Actual"
         }
        },
        "yaxis": {
         "anchor": "x",
         "domain": [
          0,
          1
         ],
         "range": [
          0.2,
          0.5
         ],
         "title": {
          "text": "Predicted"
         }
        }
       }
      },
      "text/html": [
       "<div>                            <div id=\"086309cf-adce-4c34-a945-01173f210d94\" class=\"plotly-graph-div\" style=\"height:525px; width:100%;\"></div>            <script type=\"text/javascript\">                require([\"plotly\"], function(Plotly) {                    window.PLOTLYENV=window.PLOTLYENV || {};                                    if (document.getElementById(\"086309cf-adce-4c34-a945-01173f210d94\")) {                    Plotly.newPlot(                        \"086309cf-adce-4c34-a945-01173f210d94\",                        [{\"hovertemplate\":\"<b>%{hovertext}</b><br><br>Actual=%{x}<br>Predicted=%{y}<extra></extra>\",\"hovertext\":[\"Cody Bellinger\",\"Christian Yelich\",\"Scott Kingery\",\"Eric Sogard\",\"Daniel Vogelbach\",\"Anthony Rendon\",\"Mitch Garver\",\"Tom Murphy\",\"Hunter Dozier\",\"Austin Meadows\",\"Michael Chavis\",\"Joey Gallo\",\"Mike Trout\",\"Willson Contreras\",\"Elvis Andrus\",\"Tim Anderson\",\"Trey Mancini\",\"Dominic Smith\",\"Paul DeJong\",\"Pete Alonso\",\"Rhys Hoskins\",\"Brian Goodwin\",\"Shin-Soo Choo\",\"Jeff McNeil\",\"Christian Walker\",\"Jorge Polanco\",\"Howie Kendrick\",\"Omar Narvaez\",\"Alex Verdugo\",\"Yandy Diaz\",\"Tyler Flowers\",\"Nelson Cruz\",\"James McCann\",\"Joc Pederson\",\"Gary Sanchez\",\"Clint Frazier\",\"Yoan Moncada\",\"Freddie Freeman\",\"Ronny Rodriguez\",\"Jason Heyward\",\"Matt Chapman\",\"J.D. Davis\",\"Alex Gordon\",\"Marcell Ozuna\",\"Luke Voit\",\"Aaron Judge\",\"Josh Bell\",\"Gio Urshela\",\"Javier Baez\",\"Michael Conforto\",\"Eduardo Escobar\",\"George Springer\",\"Carlos Correa\",\"Jarrod Dyson\",\"Alex Bregman\",\"Mookie Betts\",\"Josh Donaldson\",\"Max Kepler\",\"Tommy Pham\",\"Matt Joyce\",\"Fernando Tatis Jr.\",\"Brandon Lowe\",\"Josh Reddick\",\"Mike Moustakas\",\"Pedro Severino\",\"Ronald Acuna Jr.\",\"Eric Thames\",\"David Dahl\",\"Michael Brantley\",\"Carlos Santana\",\"J.D. Martinez\",\"Tommy La Stella\",\"Edwin Encarnacion\",\"Danny Santana\",\"Nick Markakis\",\"Jean Segura\",\"Ji-Man Choi\",\"Dexter Fowler\",\"David Peralta\",\"David Bote\",\"Brian McCann\",\"Anthony Rizzo\",\"Jose Martinez\",\"Justin Smoak\",\"Bryce Harper\",\"Kolten Wong\",\"Hunter Pence\",\"David Freese\",\"Adam Jones\",\"Paul Goldschmidt\",\"Logan Forsythe\",\"Yasmani Grandal\",\"Trevor Story\",\"Eddie Rosario\",\"Daniel Murphy\",\"John Hicks\",\"Robinson Chirinos\",\"Juan Soto\",\"Marcus Semien\",\"Domingo Santana\",\"Willians Astudillo\",\"Brandon Belt\",\"Andrew McCutchen\",\"Ozzie Albies\",\"Jose Abreu\",\"Ryan Cordell\",\"Harrison Bader\",\"Pablo Sandoval\",\"Melky Cabrera\",\"Freddy Galvis\",\"Enrique Hernandez\",\"Dansby Swanson\",\"Niko Goodrum\",\"Xander Bogaerts\",\"Jose Altuve\",\"Hunter Renfroe\",\"Derek Dietrich\",\"Kevin Plawecki\",\"Raimel Tapia\",\"Mitch Haniger\",\"Jay Bruce\",\"Jorge Alfaro\",\"Gordon Beckham\",\"Ben Gamel\",\"Matt Adams\",\"Whit Merrifield\",\"Josh Phegley\",\"Franmil Reyes\",\"Jason Castro\",\"Dwight Smith Jr.\",\"Kevan Smith\",\"Jesse Winker\",\"DJ LeMahieu\",\"Mitch Moreland\",\"Max Muncy\",\"Tyler Austin\",\"Kris Bryant\",\"Rafael Devers\",\"Eugenio Suarez\",\"Jonathan Schoop\",\"Nolan Arenado\",\"Jake Marisnick\",\"Mark Canha\",\"J.T. Realmuto\",\"Tim Beckham\",\"Charlie Blackmon\",\"Christin Stewart\",\"Adalberto Mondesi\",\"Joey Votto\",\"Nick Castellanos\",\"Renato Nunez\",\"Neil Walker\",\"Adam Eaton\",\"Colin Moran\",\"Brandon Nimmo\",\"Tyler O'Neill\",\"Daniel Descalso\",\"Maikel Franco\",\"Curt Casali\",\"Victor Robles\",\"Nomar Mazara\",\"David Fletcher\",\"Andrew Benintendi\",\"Ketel Marte\",\"Kevin Kiermaier\",\"Justin Turner\",\"Robinson Cano\",\"Brett Gardner\",\"Jose Rondon\",\"Chad Pinder\",\"Asdrubal Cabrera\",\"Welington Castillo\",\"Gleyber Torres\",\"Dee Gordon\",\"Lorenzo Cain\",\"Greg Garcia\",\"Brad Miller\",\"Miguel Cabrera\",\"Andrelton Simmons\",\"Jorge Soler\",\"Tyler White\",\"Byron Buxton\",\"Carlos Gonzalez\",\"Jonathan Villar\",\"Kyle Schwarber\",\"Eric Hosmer\",\"Leonys Martin\",\"Leury Garcia\",\"Khris Davis\",\"Rowdy Tellez\",\"Stephen Piscotty\",\"Jose Iglesias\",\"Yonder Alonso\",\"Yan Gomes\",\"Cesar Hernandez\",\"Ryon Healy\",\"Wil Myers\",\"Hanser Alberto\",\"Avisail Garcia\",\"C.J. Cron\",\"Robbie Grossman\",\"Mark Reynolds\",\"Albert Pujols\",\"Randal Grichuk\",\"Amed Rosario\",\"Jake Bauers\",\"Manny Machado\",\"Corey Seager\",\"Mike Ford\",\"Matt Carpenter\",\"Buster Posey\",\"Adam Frazier\",\"Martin Prado\",\"Kole Calhoun\",\"Austin Barnes\",\"Kurt Suzuki\",\"Miguel Rojas\",\"Chris Iannetta\",\"Brian Anderson\",\"Tony Wolters\",\"Nick Ahmed\",\"Brandon Drury\",\"Guillermo Heredia\",\"Delino DeShields\",\"Ryan Zimmerman\",\"Curtis Granderson\",\"Ryan McMahon\",\"Francisco Lindor\",\"Eloy Jimenez\",\"Ramon Laureano\",\"Jonathan Lucroy\",\"Ender Inciarte\",\"Cole Tucker\",\"Mike Tauchman\",\"Yadier Molina\",\"Christian Vazquez\",\"Yuli Gurriel\",\"Rio Ruiz\",\"Hernan Perez\",\"Orlando Arcia\",\"Mike Zunino\",\"Johan Camargo\",\"Starlin Castro\",\"Brian Dozier\",\"Tucker Barnhart\",\"Grayson Greiner\",\"Jeimer Candelario\",\"Tyler Naquin\",\"Roberto Perez\",\"Juan Lagares\",\"Wilmer Flores\",\"Joey Rickard\",\"Albert Almora Jr.\",\"Manuel Margot\",\"Jordy Mercer\",\"Todd Frazier\",\"Teoscar Hernandez\",\"Ben Zobrist\",\"Starling Marte\",\"Ryan Braun\",\"Travis Shaw\",\"Ryan O'Hearn\",\"Tony Kemp\",\"Wilson Ramos\",\"Steven Duggar\",\"Billy McKinney\",\"Dylan Moore\",\"Justin Bour\",\"A.J. Pollock\",\"Aledmys Diaz\",\"Evan Longoria\",\"Billy Hamilton\",\"Yolmer Sanchez\",\"Isiah Kiner-Falefa\",\"Ehire Adrianza\",\"Chris Davis\",\"Austin Hedges\",\"Austin Romine\",\"Ian Desmond\",\"Kevin Pillar\",\"Willy Adames\",\"Jose Ramirez\",\"Joe Panik\",\"Jung Ho Kang\",\"Jake Cave\",\"Yasiel Puig\",\"Daniel Robertson\",\"Erik Gonzalez\",\"Jesus Aguilar\",\"Kendrys Morales\",\"Manny Pina\",\"Carson Kelly\",\"Chris Taylor\",\"Lourdes Gurriel Jr.\",\"Jason Kipnis\",\"Danny Jansen\",\"Martin Maldonado\",\"Gerardo Parra\",\"Jose Peraza\",\"Mallex Smith\",\"Ildemaro Vargas\",\"Lewis Brinson\",\"Adam Engel\",\"Brandon Crawford\",\"Marwin Gonzalez\",\"Francisco Cervelli\",\"Jurickson Profar\",\"Chris Owings\",\"Jeff Mathis\",\"Rougned Odor\",\"Richie Martin Jr.\",\"Ian Kinsler\",\"Garrett Hampson\",\"JaCoby Jones\",\"Francisco Mejia\",\"Jackie Bradley Jr.\",\"Keon Broxton\",\"Pablo Reyes\",\"Eduardo Nunez\",\"Greg Allen\"],\"legendgroup\":\"\",\"marker\":{\"color\":\"#636efa\",\"symbol\":\"circle\"},\"mode\":\"markers\",\"name\":\"\",\"orientation\":\"v\",\"showlegend\":false,\"type\":\"scatter\",\"x\":[0.406,0.429,0.315,0.353,0.341,0.412,0.365,0.324,0.348,0.364,0.322,0.389,0.4379999999999999,0.355,0.313,0.357,0.364,0.355,0.318,0.358,0.364,0.326,0.371,0.384,0.348,0.356,0.395,0.353,0.342,0.34,0.319,0.392,0.3279999999999999,0.3389999999999999,0.316,0.317,0.367,0.389,0.252,0.3429999999999999,0.342,0.369,0.345,0.3279999999999999,0.3779999999999999,0.381,0.367,0.355,0.316,0.363,0.32,0.3829999999999999,0.358,0.313,0.423,0.391,0.379,0.336,0.369,0.408,0.379,0.336,0.319,0.3289999999999999,0.321,0.365,0.346,0.353,0.372,0.397,0.3829999999999999,0.346,0.344,0.324,0.356,0.3229999999999999,0.363,0.346,0.3429999999999999,0.362,0.3229999999999999,0.405,0.34,0.342,0.372,0.361,0.358,0.4029999999999999,0.313,0.346,0.325,0.38,0.363,0.3,0.3279999999999999,0.24,0.347,0.401,0.369,0.3289999999999999,0.299,0.3389999999999999,0.3779999999999999,0.352,0.33,0.29,0.314,0.313,0.313,0.296,0.304,0.325,0.322,0.384,0.353,0.289,0.3279999999999999,0.287,0.309,0.314,0.261,0.312,0.271,0.337,0.276,0.348,0.282,0.31,0.332,0.297,0.318,0.357,0.375,0.3279999999999999,0.374,0.296,0.382,0.361,0.358,0.304,0.379,0.289,0.396,0.3279999999999999,0.293,0.364,0.305,0.291,0.357,0.337,0.311,0.344,0.365,0.322,0.375,0.311,0.271,0.297,0.331,0.326,0.318,0.35,0.3429999999999999,0.389,0.278,0.372,0.307,0.325,0.263,0.29,0.342,0.267,0.337,0.304,0.325,0.364,0.3289999999999999,0.346,0.309,0.354,0.308,0.314,0.289,0.3389999999999999,0.3389999999999999,0.31,0.276,0.31,0.293,0.293,0.309,0.318,0.296,0.316,0.3329999999999999,0.289,0.321,0.3289999999999999,0.332,0.311,0.3339999999999999,0.29,0.305,0.28,0.3229999999999999,0.312,0.3339999999999999,0.335,0.35,0.3339999999999999,0.32,0.336,0.265,0.325,0.293,0.324,0.331,0.311,0.342,0.337,0.316,0.262,0.306,0.325,0.321,0.281,0.3289999999999999,0.335,0.315,0.34,0.305,0.3429999999999999,0.266,0.361,0.312,0.32,0.3429999999999999,0.306,0.262,0.283,0.2319999999999999,0.2789999999999999,0.3,0.34,0.3279999999999999,0.251,0.306,0.325,0.321,0.2789999999999999,0.361,0.312,0.271,0.304,0.31,0.3289999999999999,0.306,0.358,0.342,0.3429999999999999,0.281,0.281,0.291,0.351,0.278,0.2739999999999999,0.302,0.259,0.327,0.356,0.325,0.289,0.318,0.299,0.349,0.276,0.252,0.31,0.31,0.287,0.317,0.327,0.315,0.222,0.351,0.327,0.312,0.301,0.325,0.313,0.313,0.348,0.3329999999999999,0.327,0.304,0.2789999999999999,0.293,0.293,0.285,0.3,0.299,0.236,0.304,0.304,0.322,0.302,0.301,0.209,0.209,0.283,0.26,0.278,0.302,0.31,0.316,0.317,0.242,0.2739999999999999,0.243,0.29],\"xaxis\":\"x\",\"y\":[0.406,0.389,0.315,0.34259999999999996,0.341,0.412,0.412,0.315,0.381,0.374,0.322,0.389,0.3429999999999999,0.3643846153846153,0.313,0.364,0.364,0.3229999999999999,0.318,0.3643846153846153,0.364,0.34259999999999996,0.34259999999999996,0.374,0.34259999999999996,0.3643846153846153,0.361,0.3643846153846153,0.3456,0.34,0.319,0.38219999999999993,0.3279999999999999,0.3389999999999999,0.316,0.316,0.367,0.389,0.252,0.3429999999999999,0.342,0.369,0.345,0.3279999999999999,0.38219999999999993,0.381,0.3643846153846153,0.3565,0.316,0.363,0.32,0.38219999999999993,0.3643846153846153,0.313,0.423,0.345,0.372,0.336,0.369,0.3185,0.367,0.336,0.319,0.3389999999999999,0.28900000000000003,0.3643846153846153,0.316,0.3456,0.3456,0.397,0.38219999999999993,0.345,0.345,0.324,0.3643846153846153,0.3229999999999999,0.3643846153846153,0.34259999999999996,0.3456,0.3643846153846153,0.3229999999999999,0.345,0.3456,0.342,0.372,0.361,0.3565,0.4029999999999999,0.313,0.346,0.3643846153846153,0.3643846153846153,0.346,0.3,0.3279999999999999,0.24,0.347,0.401,0.3643846153846153,0.34259999999999996,0.299,0.3389999999999999,0.3779999999999999,0.364,0.3185,0.29,0.314,0.313,0.3565,0.3185,0.3185,0.3185,0.322,0.3643846153846153,0.353,0.287,0.3123333333333333,0.287,0.3105,0.314,0.261,0.3105,0.3,0.34259999999999996,0.361,0.348,0.28900000000000003,0.316,0.332,0.3185,0.318,0.357,0.375,0.357,0.3185,0.296,0.361,0.3643846153846153,0.358,0.304,0.379,0.289,0.396,0.3279999999999999,0.33249999999999996,0.364,0.3185,0.291,0.3643846153846153,0.3185,0.335,0.3475,0.313,0.3123333333333333,0.38219999999999993,0.311,0.3185,0.361,0.3185,0.3185,0.3185,0.3456,0.3185,0.389,0.3185,0.3643846153846153,0.3185,0.312,0.263,0.28900000000000003,0.3185,0.267,0.3185,0.3185,0.325,0.361,0.3475,0.346,0.312,0.354,0.308,0.316,0.289,0.3389999999999999,0.3185,0.3185,0.278,0.3185,0.293,0.3,0.309,0.318,0.30762500000000004,0.3185,0.33749999999999997,0.28900000000000003,0.316,0.3289999999999999,0.33249999999999996,0.3185,0.3185,0.3,0.3123333333333333,0.278,0.3229999999999999,0.3123333333333333,0.354,0.335,0.35,0.3339999999999999,0.3185,0.33749999999999997,0.265,0.325,0.29179999999999995,0.3185,0.312,0.3,0.3185,0.33749999999999997,0.3185,0.262,0.305,0.30762500000000004,0.3185,0.281,0.3185,0.335,0.33249999999999996,0.3185,0.312,0.3185,0.266,0.361,0.312,0.3185,0.33749999999999997,0.3123333333333333,0.262,0.28900000000000003,0.335,0.2789999999999999,0.3185,0.34,0.3185,0.251,0.3185,0.325,0.276,0.3185,0.361,0.312,0.28900000000000003,0.28900000000000003,0.3475,0.3289999999999999,0.3,0.357,0.30762500000000004,0.30762500000000004,0.281,0.29179999999999995,0.30762500000000004,0.351,0.3185,0.28900000000000003,0.29179999999999995,0.302,0.3185,0.357,0.3185,0.3123333333333333,0.3475,0.30762500000000004,0.33749999999999997,0.276,0.252,0.28900000000000003,0.29179999999999995,0.287,0.317,0.33749999999999997,0.312,0.222,0.3475,0.327,0.30762500000000004,0.3123333333333333,0.252,0.30762500000000004,0.30762500000000004,0.348,0.33249999999999996,0.327,0.29179999999999995,0.29179999999999995,0.28900000000000003,0.28900000000000003,0.287,0.3,0.299,0.236,0.304,0.305,0.30762500000000004,0.30762500000000004,0.28900000000000003,0.209,0.209,0.252,0.209,0.28900000000000003,0.302,0.31,0.316,0.252,0.242,0.2739999999999999,0.243,0.29],\"yaxis\":\"y\"},{\"hovertemplate\":\"<b>OLS trendline</b><br>Predicted = 0.820579 * Actual + 0.0576984<br>R<sup>2</sup>=0.752012<br><br>Actual=%{x}<br>Predicted=%{y} <b>(trend)</b><extra></extra>\",\"legendgroup\":\"\",\"marker\":{\"color\":\"#636efa\",\"symbol\":\"circle\"},\"mode\":\"lines\",\"name\":\"\",\"showlegend\":false,\"type\":\"scatter\",\"x\":[0.209,0.209,0.222,0.2319999999999999,0.236,0.24,0.242,0.243,0.251,0.252,0.252,0.259,0.26,0.261,0.262,0.262,0.263,0.265,0.266,0.267,0.271,0.271,0.271,0.2739999999999999,0.2739999999999999,0.276,0.276,0.276,0.278,0.278,0.278,0.2789999999999999,0.2789999999999999,0.2789999999999999,0.28,0.281,0.281,0.281,0.282,0.283,0.283,0.285,0.287,0.287,0.289,0.289,0.289,0.289,0.289,0.29,0.29,0.29,0.29,0.291,0.291,0.293,0.293,0.293,0.293,0.293,0.293,0.296,0.296,0.296,0.297,0.297,0.299,0.299,0.299,0.3,0.3,0.3,0.301,0.301,0.302,0.302,0.302,0.304,0.304,0.304,0.304,0.304,0.304,0.304,0.305,0.305,0.305,0.306,0.306,0.306,0.306,0.307,0.308,0.309,0.309,0.309,0.31,0.31,0.31,0.31,0.31,0.31,0.31,0.311,0.311,0.311,0.311,0.312,0.312,0.312,0.312,0.312,0.313,0.313,0.313,0.313,0.313,0.313,0.313,0.314,0.314,0.314,0.315,0.315,0.315,0.316,0.316,0.316,0.316,0.316,0.317,0.317,0.317,0.318,0.318,0.318,0.318,0.318,0.319,0.319,0.32,0.32,0.32,0.321,0.321,0.321,0.321,0.322,0.322,0.322,0.322,0.3229999999999999,0.3229999999999999,0.3229999999999999,0.324,0.324,0.324,0.325,0.325,0.325,0.325,0.325,0.325,0.325,0.325,0.325,0.326,0.326,0.327,0.327,0.327,0.327,0.3279999999999999,0.3279999999999999,0.3279999999999999,0.3279999999999999,0.3279999999999999,0.3279999999999999,0.3279999999999999,0.3289999999999999,0.3289999999999999,0.3289999999999999,0.3289999999999999,0.3289999999999999,0.3289999999999999,0.33,0.331,0.331,0.332,0.332,0.3329999999999999,0.3329999999999999,0.3339999999999999,0.3339999999999999,0.3339999999999999,0.335,0.335,0.336,0.336,0.336,0.337,0.337,0.337,0.337,0.3389999999999999,0.3389999999999999,0.3389999999999999,0.3389999999999999,0.34,0.34,0.34,0.34,0.341,0.342,0.342,0.342,0.342,0.342,0.342,0.3429999999999999,0.3429999999999999,0.3429999999999999,0.3429999999999999,0.3429999999999999,0.3429999999999999,0.344,0.344,0.345,0.346,0.346,0.346,0.346,0.346,0.347,0.348,0.348,0.348,0.348,0.349,0.35,0.35,0.351,0.351,0.352,0.353,0.353,0.353,0.353,0.354,0.355,0.355,0.355,0.356,0.356,0.356,0.357,0.357,0.357,0.358,0.358,0.358,0.358,0.358,0.361,0.361,0.361,0.361,0.362,0.363,0.363,0.363,0.364,0.364,0.364,0.364,0.364,0.365,0.365,0.365,0.367,0.367,0.369,0.369,0.369,0.371,0.372,0.372,0.372,0.374,0.375,0.375,0.3779999999999999,0.3779999999999999,0.379,0.379,0.379,0.38,0.381,0.382,0.3829999999999999,0.3829999999999999,0.384,0.384,0.389,0.389,0.389,0.391,0.392,0.395,0.396,0.397,0.401,0.4029999999999999,0.405,0.406,0.408,0.412,0.423,0.429,0.4379999999999999],\"xaxis\":\"x\",\"y\":[0.2291994680894411,0.2291994680894411,0.23986699812913181,0.24807279046735534,0.25135510740264483,0.2546374243379343,0.256278582805579,0.25709916203940136,0.2636637959099803,0.26448437514380263,0.26448437514380263,0.27022842978055917,0.2710490090143815,0.2718695882482039,0.27269016748202624,0.27269016748202624,0.27351074671584863,0.27515190518349336,0.2759724844173157,0.27679306365113804,0.2800753805864275,0.2800753805864275,0.2800753805864275,0.2825371182878945,0.2825371182878945,0.2841782767555393,0.2841782767555393,0.2841782767555393,0.28581943522318404,0.28581943522318404,0.28581943522318404,0.2866400144570063,0.2866400144570063,0.2866400144570063,0.28746059369082877,0.2882811729246511,0.2882811729246511,0.2882811729246511,0.28910175215847345,0.2899223313922958,0.2899223313922958,0.2915634898599405,0.29320464832758525,0.29320464832758525,0.29484580679523,0.29484580679523,0.29484580679523,0.29484580679523,0.29484580679523,0.2956663860290523,0.2956663860290523,0.2956663860290523,0.2956663860290523,0.2964869652628747,0.2964869652628747,0.2981281237305194,0.2981281237305194,0.2981281237305194,0.2981281237305194,0.2981281237305194,0.2981281237305194,0.3005898614319865,0.3005898614319865,0.3005898614319865,0.30141044066580885,0.30141044066580885,0.3030515991334536,0.3030515991334536,0.3030515991334536,0.3038721783672759,0.3038721783672759,0.3038721783672759,0.3046927576010983,0.3046927576010983,0.30551333683492066,0.30551333683492066,0.30551333683492066,0.3071544953025654,0.3071544953025654,0.3071544953025654,0.3071544953025654,0.3071544953025654,0.3071544953025654,0.3071544953025654,0.3079750745363878,0.3079750745363878,0.3079750745363878,0.3087956537702101,0.3087956537702101,0.3087956537702101,0.3087956537702101,0.3096162330040325,0.31043681223785485,0.3112573914716772,0.3112573914716772,0.3112573914716772,0.3120779707054996,0.3120779707054996,0.3120779707054996,0.3120779707054996,0.3120779707054996,0.3120779707054996,0.3120779707054996,0.3128985499393219,0.3128985499393219,0.3128985499393219,0.3128985499393219,0.3137191291731443,0.3137191291731443,0.3137191291731443,0.3137191291731443,0.3137191291731443,0.31453970840696666,0.31453970840696666,0.31453970840696666,0.31453970840696666,0.31453970840696666,0.31453970840696666,0.31453970840696666,0.31536028764078905,0.31536028764078905,0.31536028764078905,0.3161808668746114,0.3161808668746114,0.3161808668746114,0.3170014461084337,0.3170014461084337,0.3170014461084337,0.3170014461084337,0.3170014461084337,0.3178220253422561,0.3178220253422561,0.3178220253422561,0.31864260457607846,0.31864260457607846,0.31864260457607846,0.31864260457607846,0.31864260457607846,0.31946318380990085,0.31946318380990085,0.3202837630437232,0.3202837630437232,0.3202837630437232,0.32110434227754553,0.32110434227754553,0.32110434227754553,0.32110434227754553,0.3219249215113679,0.3219249215113679,0.3219249215113679,0.3219249215113679,0.3227455007451902,0.3227455007451902,0.3227455007451902,0.32356607997901266,0.32356607997901266,0.32356607997901266,0.324386659212835,0.324386659212835,0.324386659212835,0.324386659212835,0.324386659212835,0.324386659212835,0.324386659212835,0.324386659212835,0.324386659212835,0.3252072384466574,0.3252072384466574,0.3260278176804797,0.3260278176804797,0.3260278176804797,0.3260278176804797,0.326848396914302,0.326848396914302,0.326848396914302,0.326848396914302,0.326848396914302,0.326848396914302,0.326848396914302,0.32766897614812435,0.32766897614812435,0.32766897614812435,0.32766897614812435,0.32766897614812435,0.32766897614812435,0.3284895553819468,0.3293101346157692,0.3293101346157692,0.33013071384959153,0.33013071384959153,0.3309512930834138,0.3309512930834138,0.33177187231723615,0.33177187231723615,0.33177187231723615,0.3325924515510586,0.3325924515510586,0.333413030784881,0.333413030784881,0.333413030784881,0.33423361001870333,0.33423361001870333,0.33423361001870333,0.33423361001870333,0.33587476848634795,0.33587476848634795,0.33587476848634795,0.33587476848634795,0.3366953477201704,0.3366953477201704,0.3366953477201704,0.3366953477201704,0.3375159269539928,0.33833650618781513,0.33833650618781513,0.33833650618781513,0.33833650618781513,0.33833650618781513,0.33833650618781513,0.3391570854216374,0.3391570854216374,0.3391570854216374,0.3391570854216374,0.3391570854216374,0.3391570854216374,0.3399776646554598,0.3399776646554598,0.3407982438892822,0.34161882312310454,0.34161882312310454,0.34161882312310454,0.34161882312310454,0.34161882312310454,0.34243940235692694,0.3432599815907493,0.3432599815907493,0.3432599815907493,0.3432599815907493,0.3440805608245716,0.344901140058394,0.344901140058394,0.34572171929221635,0.34572171929221635,0.34654229852603874,0.3473628777598611,0.3473628777598611,0.3473628777598611,0.3473628777598611,0.3481834569936834,0.3490040362275058,0.3490040362275058,0.3490040362275058,0.34982461546132815,0.34982461546132815,0.34982461546132815,0.35064519469515054,0.35064519469515054,0.35064519469515054,0.3514657739289729,0.3514657739289729,0.3514657739289729,0.3514657739289729,0.3514657739289729,0.35392751163043995,0.35392751163043995,0.35392751163043995,0.35392751163043995,0.35474809086426234,0.3555686700980847,0.3555686700980847,0.3555686700980847,0.3563892493319071,0.3563892493319071,0.3563892493319071,0.3563892493319071,0.3563892493319071,0.3572098285657294,0.3572098285657294,0.3572098285657294,0.35885098703337415,0.35885098703337415,0.3604921455010189,0.3604921455010189,0.3604921455010189,0.3621333039686636,0.36295388320248595,0.36295388320248595,0.36295388320248595,0.3645950416701307,0.365415620903953,0.365415620903953,0.36787735860542004,0.36787735860542004,0.3686979378392425,0.3686979378392425,0.3686979378392425,0.3695185170730648,0.3703390963068872,0.37115967554070955,0.37198025477453184,0.37198025477453184,0.3728008340083543,0.3728008340083543,0.3769037301774661,0.3769037301774661,0.3769037301774661,0.3785448886451108,0.37936546787893316,0.3818272055804003,0.3826477848142226,0.38346836404804496,0.3867506809833344,0.38839183945097905,0.3900329979186239,0.39085357715244623,0.3924947356200909,0.39577705255538037,0.40480342412742637,0.4097268995303605,0.41711211263476167],\"yaxis\":\"y\"}],                        {\"legend\":{\"tracegroupgap\":0},\"margin\":{\"t\":60},\"template\":{\"data\":{\"bar\":[{\"error_x\":{\"color\":\"#2a3f5f\"},\"error_y\":{\"color\":\"#2a3f5f\"},\"marker\":{\"line\":{\"color\":\"#E5ECF6\",\"width\":0.5},\"pattern\":{\"fillmode\":\"overlay\",\"size\":10,\"solidity\":0.2}},\"type\":\"bar\"}],\"barpolar\":[{\"marker\":{\"line\":{\"color\":\"#E5ECF6\",\"width\":0.5},\"pattern\":{\"fillmode\":\"overlay\",\"size\":10,\"solidity\":0.2}},\"type\":\"barpolar\"}],\"carpet\":[{\"aaxis\":{\"endlinecolor\":\"#2a3f5f\",\"gridcolor\":\"white\",\"linecolor\":\"white\",\"minorgridcolor\":\"white\",\"startlinecolor\":\"#2a3f5f\"},\"baxis\":{\"endlinecolor\":\"#2a3f5f\",\"gridcolor\":\"white\",\"linecolor\":\"white\",\"minorgridcolor\":\"white\",\"startlinecolor\":\"#2a3f5f\"},\"type\":\"carpet\"}],\"choropleth\":[{\"colorbar\":{\"outlinewidth\":0,\"ticks\":\"\"},\"type\":\"choropleth\"}],\"contour\":[{\"colorbar\":{\"outlinewidth\":0,\"ticks\":\"\"},\"colorscale\":[[0.0,\"#0d0887\"],[0.1111111111111111,\"#46039f\"],[0.2222222222222222,\"#7201a8\"],[0.3333333333333333,\"#9c179e\"],[0.4444444444444444,\"#bd3786\"],[0.5555555555555556,\"#d8576b\"],[0.6666666666666666,\"#ed7953\"],[0.7777777777777778,\"#fb9f3a\"],[0.8888888888888888,\"#fdca26\"],[1.0,\"#f0f921\"]],\"type\":\"contour\"}],\"contourcarpet\":[{\"colorbar\":{\"outlinewidth\":0,\"ticks\":\"\"},\"type\":\"contourcarpet\"}],\"heatmap\":[{\"colorbar\":{\"outlinewidth\":0,\"ticks\":\"\"},\"colorscale\":[[0.0,\"#0d0887\"],[0.1111111111111111,\"#46039f\"],[0.2222222222222222,\"#7201a8\"],[0.3333333333333333,\"#9c179e\"],[0.4444444444444444,\"#bd3786\"],[0.5555555555555556,\"#d8576b\"],[0.6666666666666666,\"#ed7953\"],[0.7777777777777778,\"#fb9f3a\"],[0.8888888888888888,\"#fdca26\"],[1.0,\"#f0f921\"]],\"type\":\"heatmap\"}],\"heatmapgl\":[{\"colorbar\":{\"outlinewidth\":0,\"ticks\":\"\"},\"colorscale\":[[0.0,\"#0d0887\"],[0.1111111111111111,\"#46039f\"],[0.2222222222222222,\"#7201a8\"],[0.3333333333333333,\"#9c179e\"],[0.4444444444444444,\"#bd3786\"],[0.5555555555555556,\"#d8576b\"],[0.6666666666666666,\"#ed7953\"],[0.7777777777777778,\"#fb9f3a\"],[0.8888888888888888,\"#fdca26\"],[1.0,\"#f0f921\"]],\"type\":\"heatmapgl\"}],\"histogram\":[{\"marker\":{\"pattern\":{\"fillmode\":\"overlay\",\"size\":10,\"solidity\":0.2}},\"type\":\"histogram\"}],\"histogram2d\":[{\"colorbar\":{\"outlinewidth\":0,\"ticks\":\"\"},\"colorscale\":[[0.0,\"#0d0887\"],[0.1111111111111111,\"#46039f\"],[0.2222222222222222,\"#7201a8\"],[0.3333333333333333,\"#9c179e\"],[0.4444444444444444,\"#bd3786\"],[0.5555555555555556,\"#d8576b\"],[0.6666666666666666,\"#ed7953\"],[0.7777777777777778,\"#fb9f3a\"],[0.8888888888888888,\"#fdca26\"],[1.0,\"#f0f921\"]],\"type\":\"histogram2d\"}],\"histogram2dcontour\":[{\"colorbar\":{\"outlinewidth\":0,\"ticks\":\"\"},\"colorscale\":[[0.0,\"#0d0887\"],[0.1111111111111111,\"#46039f\"],[0.2222222222222222,\"#7201a8\"],[0.3333333333333333,\"#9c179e\"],[0.4444444444444444,\"#bd3786\"],[0.5555555555555556,\"#d8576b\"],[0.6666666666666666,\"#ed7953\"],[0.7777777777777778,\"#fb9f3a\"],[0.8888888888888888,\"#fdca26\"],[1.0,\"#f0f921\"]],\"type\":\"histogram2dcontour\"}],\"mesh3d\":[{\"colorbar\":{\"outlinewidth\":0,\"ticks\":\"\"},\"type\":\"mesh3d\"}],\"parcoords\":[{\"line\":{\"colorbar\":{\"outlinewidth\":0,\"ticks\":\"\"}},\"type\":\"parcoords\"}],\"pie\":[{\"automargin\":true,\"type\":\"pie\"}],\"scatter\":[{\"marker\":{\"colorbar\":{\"outlinewidth\":0,\"ticks\":\"\"}},\"type\":\"scatter\"}],\"scatter3d\":[{\"line\":{\"colorbar\":{\"outlinewidth\":0,\"ticks\":\"\"}},\"marker\":{\"colorbar\":{\"outlinewidth\":0,\"ticks\":\"\"}},\"type\":\"scatter3d\"}],\"scattercarpet\":[{\"marker\":{\"colorbar\":{\"outlinewidth\":0,\"ticks\":\"\"}},\"type\":\"scattercarpet\"}],\"scattergeo\":[{\"marker\":{\"colorbar\":{\"outlinewidth\":0,\"ticks\":\"\"}},\"type\":\"scattergeo\"}],\"scattergl\":[{\"marker\":{\"colorbar\":{\"outlinewidth\":0,\"ticks\":\"\"}},\"type\":\"scattergl\"}],\"scattermapbox\":[{\"marker\":{\"colorbar\":{\"outlinewidth\":0,\"ticks\":\"\"}},\"type\":\"scattermapbox\"}],\"scatterpolar\":[{\"marker\":{\"colorbar\":{\"outlinewidth\":0,\"ticks\":\"\"}},\"type\":\"scatterpolar\"}],\"scatterpolargl\":[{\"marker\":{\"colorbar\":{\"outlinewidth\":0,\"ticks\":\"\"}},\"type\":\"scatterpolargl\"}],\"scatterternary\":[{\"marker\":{\"colorbar\":{\"outlinewidth\":0,\"ticks\":\"\"}},\"type\":\"scatterternary\"}],\"surface\":[{\"colorbar\":{\"outlinewidth\":0,\"ticks\":\"\"},\"colorscale\":[[0.0,\"#0d0887\"],[0.1111111111111111,\"#46039f\"],[0.2222222222222222,\"#7201a8\"],[0.3333333333333333,\"#9c179e\"],[0.4444444444444444,\"#bd3786\"],[0.5555555555555556,\"#d8576b\"],[0.6666666666666666,\"#ed7953\"],[0.7777777777777778,\"#fb9f3a\"],[0.8888888888888888,\"#fdca26\"],[1.0,\"#f0f921\"]],\"type\":\"surface\"}],\"table\":[{\"cells\":{\"fill\":{\"color\":\"#EBF0F8\"},\"line\":{\"color\":\"white\"}},\"header\":{\"fill\":{\"color\":\"#C8D4E3\"},\"line\":{\"color\":\"white\"}},\"type\":\"table\"}]},\"layout\":{\"annotationdefaults\":{\"arrowcolor\":\"#2a3f5f\",\"arrowhead\":0,\"arrowwidth\":1},\"autotypenumbers\":\"strict\",\"coloraxis\":{\"colorbar\":{\"outlinewidth\":0,\"ticks\":\"\"}},\"colorscale\":{\"diverging\":[[0,\"#8e0152\"],[0.1,\"#c51b7d\"],[0.2,\"#de77ae\"],[0.3,\"#f1b6da\"],[0.4,\"#fde0ef\"],[0.5,\"#f7f7f7\"],[0.6,\"#e6f5d0\"],[0.7,\"#b8e186\"],[0.8,\"#7fbc41\"],[0.9,\"#4d9221\"],[1,\"#276419\"]],\"sequential\":[[0.0,\"#0d0887\"],[0.1111111111111111,\"#46039f\"],[0.2222222222222222,\"#7201a8\"],[0.3333333333333333,\"#9c179e\"],[0.4444444444444444,\"#bd3786\"],[0.5555555555555556,\"#d8576b\"],[0.6666666666666666,\"#ed7953\"],[0.7777777777777778,\"#fb9f3a\"],[0.8888888888888888,\"#fdca26\"],[1.0,\"#f0f921\"]],\"sequentialminus\":[[0.0,\"#0d0887\"],[0.1111111111111111,\"#46039f\"],[0.2222222222222222,\"#7201a8\"],[0.3333333333333333,\"#9c179e\"],[0.4444444444444444,\"#bd3786\"],[0.5555555555555556,\"#d8576b\"],[0.6666666666666666,\"#ed7953\"],[0.7777777777777778,\"#fb9f3a\"],[0.8888888888888888,\"#fdca26\"],[1.0,\"#f0f921\"]]},\"colorway\":[\"#636efa\",\"#EF553B\",\"#00cc96\",\"#ab63fa\",\"#FFA15A\",\"#19d3f3\",\"#FF6692\",\"#B6E880\",\"#FF97FF\",\"#FECB52\"],\"font\":{\"color\":\"#2a3f5f\"},\"geo\":{\"bgcolor\":\"white\",\"lakecolor\":\"white\",\"landcolor\":\"#E5ECF6\",\"showlakes\":true,\"showland\":true,\"subunitcolor\":\"white\"},\"hoverlabel\":{\"align\":\"left\"},\"hovermode\":\"closest\",\"mapbox\":{\"style\":\"light\"},\"paper_bgcolor\":\"white\",\"plot_bgcolor\":\"#E5ECF6\",\"polar\":{\"angularaxis\":{\"gridcolor\":\"white\",\"linecolor\":\"white\",\"ticks\":\"\"},\"bgcolor\":\"#E5ECF6\",\"radialaxis\":{\"gridcolor\":\"white\",\"linecolor\":\"white\",\"ticks\":\"\"}},\"scene\":{\"xaxis\":{\"backgroundcolor\":\"#E5ECF6\",\"gridcolor\":\"white\",\"gridwidth\":2,\"linecolor\":\"white\",\"showbackground\":true,\"ticks\":\"\",\"zerolinecolor\":\"white\"},\"yaxis\":{\"backgroundcolor\":\"#E5ECF6\",\"gridcolor\":\"white\",\"gridwidth\":2,\"linecolor\":\"white\",\"showbackground\":true,\"ticks\":\"\",\"zerolinecolor\":\"white\"},\"zaxis\":{\"backgroundcolor\":\"#E5ECF6\",\"gridcolor\":\"white\",\"gridwidth\":2,\"linecolor\":\"white\",\"showbackground\":true,\"ticks\":\"\",\"zerolinecolor\":\"white\"}},\"shapedefaults\":{\"line\":{\"color\":\"#2a3f5f\"}},\"ternary\":{\"aaxis\":{\"gridcolor\":\"white\",\"linecolor\":\"white\",\"ticks\":\"\"},\"baxis\":{\"gridcolor\":\"white\",\"linecolor\":\"white\",\"ticks\":\"\"},\"bgcolor\":\"#E5ECF6\",\"caxis\":{\"gridcolor\":\"white\",\"linecolor\":\"white\",\"ticks\":\"\"}},\"title\":{\"x\":0.05},\"xaxis\":{\"automargin\":true,\"gridcolor\":\"white\",\"linecolor\":\"white\",\"ticks\":\"\",\"title\":{\"standoff\":15},\"zerolinecolor\":\"white\",\"zerolinewidth\":2},\"yaxis\":{\"automargin\":true,\"gridcolor\":\"white\",\"linecolor\":\"white\",\"ticks\":\"\",\"title\":{\"standoff\":15},\"zerolinecolor\":\"white\",\"zerolinewidth\":2}}},\"title\":{\"text\":\"Testing Actual vs. Predicted for Entire Data Set\",\"x\":0.5},\"xaxis\":{\"anchor\":\"y\",\"domain\":[0.0,1.0],\"range\":[0.2,0.45],\"title\":{\"text\":\"Actual\"}},\"yaxis\":{\"anchor\":\"x\",\"domain\":[0.0,1.0],\"range\":[0.2,0.5],\"title\":{\"text\":\"Predicted\"}}},                        {\"responsive\": true}                    ).then(function(){\n",
       "                            \n",
       "var gd = document.getElementById('086309cf-adce-4c34-a945-01173f210d94');\n",
       "var x = new MutationObserver(function (mutations, observer) {{\n",
       "        var display = window.getComputedStyle(gd).display;\n",
       "        if (!display || display === 'none') {{\n",
       "            console.log([gd, 'removed!']);\n",
       "            Plotly.purge(gd);\n",
       "            observer.disconnect();\n",
       "        }}\n",
       "}});\n",
       "\n",
       "// Listen for the removal of the full notebook cells\n",
       "var notebookContainer = gd.closest('#notebook-container');\n",
       "if (notebookContainer) {{\n",
       "    x.observe(notebookContainer, {childList: true});\n",
       "}}\n",
       "\n",
       "// Listen for the clearing of the current output cell\n",
       "var outputEl = gd.closest('.output');\n",
       "if (outputEl) {{\n",
       "    x.observe(outputEl, {childList: true});\n",
       "}}\n",
       "\n",
       "                        })                };                });            </script>        </div>"
      ]
     },
     "metadata": {},
     "output_type": "display_data"
    },
    {
     "name": "stdout",
     "output_type": "stream",
     "text": [
      "Mean Absolute Error: 0.009662962740384615\n",
      "Mean Squared Error: 0.00035940332278697196\n",
      "Root Mean Squared Error: 0.01895793561511833\n"
     ]
    }
   ],
   "source": [
    "predictionAllPlayers = regressor.predict(independentSet)\n",
    "resultFrameAllPlayers = pd.DataFrame({'Name': battingData[columns[1]],'Actual': dependentSet, 'Predicted': predictionAllPlayers})\n",
    "#print(resultFrameAllPlayers)\n",
    "\n",
    "# Print XY Scatter Plot using plotly. The closer to the line, the smaller the error in the prediction. \n",
    "\n",
    "fig = px.scatter(resultFrameAllPlayers, x=\"Actual\", y=\"Predicted\", hover_name=\"Name\", trendline=\"ols\")\n",
    "fig.update_layout(title_text='Testing Actual vs. Predicted for Entire Data Set', title_x=0.5)\n",
    "fig.update_xaxes(range=[0.2, 0.45])\n",
    "fig.update_yaxes(range=[0.2, 0.5])\n",
    "fig.show()\n",
    "\n",
    "print('Mean Absolute Error:', metrics.mean_absolute_error(dependentSet, predictionAllPlayers))\n",
    "print('Mean Squared Error:', metrics.mean_squared_error(dependentSet, predictionAllPlayers))\n",
    "print('Root Mean Squared Error:', np.sqrt(metrics.mean_squared_error(dependentSet, predictionAllPlayers)))"
   ]
  },
  {
   "cell_type": "code",
   "execution_count": 50,
   "id": "450b5f1a",
   "metadata": {
    "scrolled": true
   },
   "outputs": [
    {
     "data": {
      "application/vnd.jupyter.widget-view+json": {
       "model_id": "d51d2863cdb448b0a2285743be567425",
       "version_major": 2,
       "version_minor": 0
      },
      "text/plain": [
       "Dropdown(options=('ALL', 'A.J. Pollock', 'Aaron Judge', 'Adalberto Mondesi', 'Adam Eaton', 'Adam Engel', 'Adam…"
      ]
     },
     "metadata": {},
     "output_type": "display_data"
    }
   ],
   "source": [
    "# Add Widget to select Player and See Predictions vs. Actual performance via dropdown box\n",
    "# For dropbox selection to work, must run this and the next cell\n",
    "# Code adopted and modified from:\n",
    "# https://stackoverflow.com/questions/45754356/jupyter-notebook-widgets-create-dependent-dropdowns\n",
    "\n",
    "\n",
    "# Define function to call and sort all values based on the given input (in this case player's name)\n",
    "\n",
    "ALL = 'ALL'\n",
    "def sortedValues(array):\n",
    "    unique = array.unique().tolist()\n",
    "    unique.sort()\n",
    "    unique.insert(0, ALL)\n",
    "    return unique\n",
    "\n",
    "dropdownName = widgets.Dropdown(options = sortedValues(resultFrameAllPlayers.Name))\n",
    "outputName = widgets.Output()\n",
    "\n",
    "# Define Function to handle the change in event(i.e. selecting a new name from the dropdown)\n",
    "\n",
    "def dropdownNameEventhandler(change):\n",
    "    outputName.clear_output()\n",
    "    with outputName:\n",
    "        if (change.new == ALL):\n",
    "            display(resultFrameAllPlayers)\n",
    "        else:\n",
    "            display(resultFrameAllPlayers[resultFrameAllPlayers.Name == change.new])\n",
    "\n",
    "dropdownName.observe(dropdownNameEventhandler, names='value')\n",
    "display(dropdownName)"
   ]
  },
  {
   "cell_type": "code",
   "execution_count": 51,
   "id": "d069ed10",
   "metadata": {},
   "outputs": [
    {
     "data": {
      "application/vnd.jupyter.widget-view+json": {
       "model_id": "a5600c9c14444071b163fbe09d916ce1",
       "version_major": 2,
       "version_minor": 0
      },
      "text/plain": [
       "Output()"
      ]
     },
     "metadata": {},
     "output_type": "display_data"
    }
   ],
   "source": [
    "display((outputName))"
   ]
  },
  {
   "cell_type": "code",
   "execution_count": null,
   "id": "81ffe73f",
   "metadata": {},
   "outputs": [],
   "source": []
  }
 ],
 "metadata": {
  "kernelspec": {
   "display_name": "Python 3",
   "language": "python",
   "name": "python3"
  },
  "language_info": {
   "codemirror_mode": {
    "name": "ipython",
    "version": 3
   },
   "file_extension": ".py",
   "mimetype": "text/x-python",
   "name": "python",
   "nbconvert_exporter": "python",
   "pygments_lexer": "ipython3",
   "version": "3.8.8"
  }
 },
 "nbformat": 4,
 "nbformat_minor": 5
}
