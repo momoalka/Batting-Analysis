{
 "cells": [
  {
   "cell_type": "code",
   "execution_count": 1,
   "id": "7bd8ef24",
   "metadata": {},
   "outputs": [],
   "source": [
    "# Import Necessary Libraries\n",
    "\n",
    "import sys\n",
    "import pandas as pd\n",
    "from sklearn import tree\n",
    "from sklearn import neighbors\n",
    "from sklearn import svm\n",
    "from sklearn import linear_model\n",
    "from sklearn.model_selection import train_test_split\n",
    "from sklearn.preprocessing import PolynomialFeatures\n",
    "from sklearn.linear_model import LinearRegression\n",
    "from sklearn import metrics\n",
    "import numpy as np\n",
    "import plotly.express as px\n",
    "import ipywidgets as widgets"
   ]
  },
  {
   "cell_type": "code",
   "execution_count": 2,
   "id": "b78653c3",
   "metadata": {},
   "outputs": [],
   "source": [
    "# Import CSV file using pd.read\n",
    "\n",
    "battingData = pd.read_csv('batting.csv')\n",
    "#print(battingData.describe())\n",
    "\n",
    "# When printing battingData (csv data stored as a dataframe, need arises to convert percentages 'strings' to floats)\n",
    "\n",
    "columns = battingData.columns\n",
    "for i in [10,11,17,18,19,20,21,22,23,24,25,26,27]:\n",
    "    \n",
    "    battingData[columns[i]] = battingData[columns[i]].str.rstrip('%').astype('float') / 100.0\n",
    "    \n",
    "\n",
    "#Verify Inputs Imported/Converted Correctly\n",
    "#print(battingData)            \n",
    "#print(battingData.columns)"
   ]
  },
  {
   "cell_type": "code",
   "execution_count": 3,
   "id": "9b29c85f",
   "metadata": {
    "scrolled": true
   },
   "outputs": [],
   "source": [
    "# Create Testing and Training Sets\n",
    "\n",
    "independentSet = battingData[columns[3:28]]\n",
    "independentColumns = independentSet.columns\n",
    "dependentSet = battingData[columns[28]]\n",
    "\n",
    "# Split the data set into testing and training sets, setting test_size to percentage\n",
    "# of those to be held back for testing. Generally, try to target 20% for test\n",
    "\n",
    "independentTrain, independentTest, dependentTrain, dependentTest = train_test_split(\n",
    "    independentSet, dependentSet, test_size=0.20, random_state=0)\n",
    "\n",
    "# Try Linear Regression or Decision Tree Regressor. Linear likely makes the most sense\n",
    "# for the data set provided, however it can be useful to compare \n",
    "\n",
    "method = 'Nearest Neighbor'\n",
    "\n",
    "if method == 'Linear Regression':\n",
    "    regressor = LinearRegression()\n",
    "    regressor.fit(independentTrain, dependentTrain)\n",
    "    coeff_Data = pd.DataFrame(regressor.coef_, independentSet.columns, columns=['Coefficient'])\n",
    "    print(coeff_Data)\n",
    "\n",
    "elif method == 'Decision Tree':\n",
    "    regressor = tree.DecisionTreeRegressor( max_depth = 10 )\n",
    "    regressor.fit(independentTrain, dependentTrain)\n",
    "\n",
    "elif method == \"Support Vector\":\n",
    "    regressor = svm.SVR(kernel='poly')\n",
    "    regressor.fit(independentTrain, dependentTrain)\n",
    "    \n",
    "elif method == \"Nearest Neighbor\":\n",
    "    regressor = neighbors.KNeighborsRegressor( n_neighbors = 3, weights='distance')\n",
    "    regressor.fit(independentTrain, dependentTrain)\n"
   ]
  },
  {
   "cell_type": "code",
   "execution_count": 4,
   "id": "8daadbaa",
   "metadata": {
    "scrolled": false
   },
   "outputs": [
    {
     "name": "stdout",
     "output_type": "stream",
     "text": [
      "     Actual  Predicted\n",
      "181   0.314   0.317206\n",
      "258   0.342   0.287922\n",
      "15    0.357   0.335247\n",
      "65    0.365   0.378817\n",
      "216   0.331   0.325257\n",
      "..      ...        ...\n",
      "17    0.355   0.277881\n",
      "1     0.429   0.363443\n",
      "8     0.348   0.338009\n",
      "150   0.311   0.299985\n",
      "206   0.334   0.298947\n",
      "\n",
      "[64 rows x 2 columns]\n"
     ]
    }
   ],
   "source": [
    "prediction = regressor.predict(independentTest)\n",
    "resultFrame = pd.DataFrame({'Actual': dependentTest, 'Predicted': prediction})\n",
    "\n",
    "print(resultFrame)"
   ]
  },
  {
   "cell_type": "code",
   "execution_count": 7,
   "id": "33447e4e",
   "metadata": {
    "scrolled": true
   },
   "outputs": [
    {
     "data": {
      "application/vnd.plotly.v1+json": {
       "config": {
        "plotlyServerURL": "https://plot.ly"
       },
       "data": [
        {
         "hovertemplate": "Actual=%{x}<br>Predicted=%{y}<extra></extra>",
         "legendgroup": "",
         "marker": {
          "color": "#636efa",
          "symbol": "circle"
         },
         "mode": "markers",
         "name": "",
         "orientation": "v",
         "showlegend": false,
         "type": "scatter",
         "x": [
          0.314,
          0.342,
          0.357,
          0.365,
          0.331,
          0.3289999999999999,
          0.2319999999999999,
          0.315,
          0.325,
          0.271,
          0.321,
          0.352,
          0.276,
          0.317,
          0.26,
          0.379,
          0.271,
          0.289,
          0.346,
          0.395,
          0.312,
          0.331,
          0.382,
          0.283,
          0.278,
          0.3339999999999999,
          0.318,
          0.324,
          0.365,
          0.305,
          0.31,
          0.371,
          0.365,
          0.326,
          0.391,
          0.297,
          0.4379999999999999,
          0.313,
          0.372,
          0.293,
          0.342,
          0.31,
          0.408,
          0.374,
          0.3429999999999999,
          0.363,
          0.364,
          0.259,
          0.356,
          0.405,
          0.325,
          0.3429999999999999,
          0.278,
          0.358,
          0.3279999999999999,
          0.3289999999999999,
          0.379,
          0.325,
          0.321,
          0.355,
          0.429,
          0.348,
          0.311,
          0.3339999999999999
         ],
         "xaxis": "x",
         "y": [
          0.31720622041003277,
          0.28792172487470413,
          0.3352465399528022,
          0.3788171211512721,
          0.32525682464518707,
          0.34043543258792847,
          0.29751025714367624,
          0.34109206491652205,
          0.3060460008942104,
          0.32439654514618327,
          0.3012609722194237,
          0.33176625955498884,
          0.298109396436716,
          0.31337508737072395,
          0.2901105115026873,
          0.3377564752661846,
          0.305158904405395,
          0.31640174619086675,
          0.3306496206129425,
          0.3317837732304065,
          0.31628728971422343,
          0.28296432115024744,
          0.347947513314861,
          0.3096558055518543,
          0.3522902329501036,
          0.3172689210840828,
          0.3088161352790484,
          0.29437281219488304,
          0.31674868558710556,
          0.3309597040407185,
          0.28107233052259945,
          0.37210809299070724,
          0.35214196537631526,
          0.36468659189792907,
          0.3718184045706447,
          0.34368751744751375,
          0.3487381487134104,
          0.3290264374820885,
          0.3405168704204911,
          0.31826775540063057,
          0.30210471265691535,
          0.3060532675320915,
          0.2989549434849006,
          0.3189339058712663,
          0.32572066729525884,
          0.36975484781163104,
          0.28171647211398093,
          0.29929154167383604,
          0.37117238858083335,
          0.35424399234638926,
          0.2949647525446929,
          0.3081297093766932,
          0.3235908543970207,
          0.32647601687898853,
          0.330299681938579,
          0.2861047173975788,
          0.36730786026091095,
          0.3616119237759577,
          0.3068435913493962,
          0.2778809663234932,
          0.3634431698200306,
          0.33800860936475174,
          0.29998532264155825,
          0.2989467268425603
         ],
         "yaxis": "y"
        },
        {
         "hovertemplate": "<b>OLS trendline</b><br>Predicted = 0.277381 * Actual + 0.231098<br>R<sup>2</sup>=0.187200<br><br>Actual=%{x}<br>Predicted=%{y} <b>(trend)</b><extra></extra>",
         "legendgroup": "",
         "marker": {
          "color": "#636efa",
          "symbol": "circle"
         },
         "mode": "lines",
         "name": "",
         "showlegend": false,
         "type": "scatter",
         "x": [
          0.2319999999999999,
          0.259,
          0.26,
          0.271,
          0.271,
          0.276,
          0.278,
          0.278,
          0.283,
          0.289,
          0.293,
          0.297,
          0.305,
          0.31,
          0.31,
          0.311,
          0.312,
          0.313,
          0.314,
          0.315,
          0.317,
          0.318,
          0.321,
          0.321,
          0.324,
          0.325,
          0.325,
          0.325,
          0.326,
          0.3279999999999999,
          0.3289999999999999,
          0.3289999999999999,
          0.331,
          0.331,
          0.3339999999999999,
          0.3339999999999999,
          0.342,
          0.342,
          0.3429999999999999,
          0.3429999999999999,
          0.346,
          0.348,
          0.352,
          0.355,
          0.356,
          0.357,
          0.358,
          0.363,
          0.364,
          0.365,
          0.365,
          0.365,
          0.371,
          0.372,
          0.374,
          0.379,
          0.379,
          0.382,
          0.391,
          0.395,
          0.405,
          0.408,
          0.429,
          0.4379999999999999
         ],
         "xaxis": "x",
         "y": [
          0.2954501790632525,
          0.3029394608666966,
          0.3032168416742316,
          0.30626803055711616,
          0.30626803055711616,
          0.307654934594791,
          0.30820969620986094,
          0.30820969620986094,
          0.30959660024753577,
          0.3112608850927455,
          0.31237040832288543,
          0.3134799315530253,
          0.315698978013305,
          0.3170858820509798,
          0.3170858820509798,
          0.3173632628585148,
          0.31764064366604977,
          0.31791802447358475,
          0.31819540528111967,
          0.31847278608865465,
          0.3190275477037246,
          0.3193049285112596,
          0.32013707093386445,
          0.32013707093386445,
          0.32096921335646933,
          0.3212465941640043,
          0.3212465941640043,
          0.3212465941640043,
          0.3215239749715393,
          0.3220787365866092,
          0.32235611739414416,
          0.32235611739414416,
          0.3229108790092141,
          0.3229108790092141,
          0.323743021431819,
          0.323743021431819,
          0.32596206789209875,
          0.32596206789209875,
          0.32623944869963367,
          0.32623944869963367,
          0.3270715911222386,
          0.3276263527373085,
          0.32873587596744835,
          0.3295680183900533,
          0.32984539919758826,
          0.3301227800051232,
          0.33040016081265816,
          0.331787064850333,
          0.33206444565786797,
          0.33234182646540295,
          0.33234182646540295,
          0.33234182646540295,
          0.33400611131061275,
          0.3342834921181477,
          0.33483825373321763,
          0.33622515777089246,
          0.33622515777089246,
          0.33705730019349733,
          0.33955372746131207,
          0.3406632506914519,
          0.3434370587668016,
          0.34426920118940646,
          0.35009419814764076,
          0.3525906254154554
         ],
         "yaxis": "y"
        }
       ],
       "layout": {
        "legend": {
         "tracegroupgap": 0
        },
        "margin": {
         "t": 60
        },
        "template": {
         "data": {
          "bar": [
           {
            "error_x": {
             "color": "#2a3f5f"
            },
            "error_y": {
             "color": "#2a3f5f"
            },
            "marker": {
             "line": {
              "color": "#E5ECF6",
              "width": 0.5
             },
             "pattern": {
              "fillmode": "overlay",
              "size": 10,
              "solidity": 0.2
             }
            },
            "type": "bar"
           }
          ],
          "barpolar": [
           {
            "marker": {
             "line": {
              "color": "#E5ECF6",
              "width": 0.5
             },
             "pattern": {
              "fillmode": "overlay",
              "size": 10,
              "solidity": 0.2
             }
            },
            "type": "barpolar"
           }
          ],
          "carpet": [
           {
            "aaxis": {
             "endlinecolor": "#2a3f5f",
             "gridcolor": "white",
             "linecolor": "white",
             "minorgridcolor": "white",
             "startlinecolor": "#2a3f5f"
            },
            "baxis": {
             "endlinecolor": "#2a3f5f",
             "gridcolor": "white",
             "linecolor": "white",
             "minorgridcolor": "white",
             "startlinecolor": "#2a3f5f"
            },
            "type": "carpet"
           }
          ],
          "choropleth": [
           {
            "colorbar": {
             "outlinewidth": 0,
             "ticks": ""
            },
            "type": "choropleth"
           }
          ],
          "contour": [
           {
            "colorbar": {
             "outlinewidth": 0,
             "ticks": ""
            },
            "colorscale": [
             [
              0,
              "#0d0887"
             ],
             [
              0.1111111111111111,
              "#46039f"
             ],
             [
              0.2222222222222222,
              "#7201a8"
             ],
             [
              0.3333333333333333,
              "#9c179e"
             ],
             [
              0.4444444444444444,
              "#bd3786"
             ],
             [
              0.5555555555555556,
              "#d8576b"
             ],
             [
              0.6666666666666666,
              "#ed7953"
             ],
             [
              0.7777777777777778,
              "#fb9f3a"
             ],
             [
              0.8888888888888888,
              "#fdca26"
             ],
             [
              1,
              "#f0f921"
             ]
            ],
            "type": "contour"
           }
          ],
          "contourcarpet": [
           {
            "colorbar": {
             "outlinewidth": 0,
             "ticks": ""
            },
            "type": "contourcarpet"
           }
          ],
          "heatmap": [
           {
            "colorbar": {
             "outlinewidth": 0,
             "ticks": ""
            },
            "colorscale": [
             [
              0,
              "#0d0887"
             ],
             [
              0.1111111111111111,
              "#46039f"
             ],
             [
              0.2222222222222222,
              "#7201a8"
             ],
             [
              0.3333333333333333,
              "#9c179e"
             ],
             [
              0.4444444444444444,
              "#bd3786"
             ],
             [
              0.5555555555555556,
              "#d8576b"
             ],
             [
              0.6666666666666666,
              "#ed7953"
             ],
             [
              0.7777777777777778,
              "#fb9f3a"
             ],
             [
              0.8888888888888888,
              "#fdca26"
             ],
             [
              1,
              "#f0f921"
             ]
            ],
            "type": "heatmap"
           }
          ],
          "heatmapgl": [
           {
            "colorbar": {
             "outlinewidth": 0,
             "ticks": ""
            },
            "colorscale": [
             [
              0,
              "#0d0887"
             ],
             [
              0.1111111111111111,
              "#46039f"
             ],
             [
              0.2222222222222222,
              "#7201a8"
             ],
             [
              0.3333333333333333,
              "#9c179e"
             ],
             [
              0.4444444444444444,
              "#bd3786"
             ],
             [
              0.5555555555555556,
              "#d8576b"
             ],
             [
              0.6666666666666666,
              "#ed7953"
             ],
             [
              0.7777777777777778,
              "#fb9f3a"
             ],
             [
              0.8888888888888888,
              "#fdca26"
             ],
             [
              1,
              "#f0f921"
             ]
            ],
            "type": "heatmapgl"
           }
          ],
          "histogram": [
           {
            "marker": {
             "pattern": {
              "fillmode": "overlay",
              "size": 10,
              "solidity": 0.2
             }
            },
            "type": "histogram"
           }
          ],
          "histogram2d": [
           {
            "colorbar": {
             "outlinewidth": 0,
             "ticks": ""
            },
            "colorscale": [
             [
              0,
              "#0d0887"
             ],
             [
              0.1111111111111111,
              "#46039f"
             ],
             [
              0.2222222222222222,
              "#7201a8"
             ],
             [
              0.3333333333333333,
              "#9c179e"
             ],
             [
              0.4444444444444444,
              "#bd3786"
             ],
             [
              0.5555555555555556,
              "#d8576b"
             ],
             [
              0.6666666666666666,
              "#ed7953"
             ],
             [
              0.7777777777777778,
              "#fb9f3a"
             ],
             [
              0.8888888888888888,
              "#fdca26"
             ],
             [
              1,
              "#f0f921"
             ]
            ],
            "type": "histogram2d"
           }
          ],
          "histogram2dcontour": [
           {
            "colorbar": {
             "outlinewidth": 0,
             "ticks": ""
            },
            "colorscale": [
             [
              0,
              "#0d0887"
             ],
             [
              0.1111111111111111,
              "#46039f"
             ],
             [
              0.2222222222222222,
              "#7201a8"
             ],
             [
              0.3333333333333333,
              "#9c179e"
             ],
             [
              0.4444444444444444,
              "#bd3786"
             ],
             [
              0.5555555555555556,
              "#d8576b"
             ],
             [
              0.6666666666666666,
              "#ed7953"
             ],
             [
              0.7777777777777778,
              "#fb9f3a"
             ],
             [
              0.8888888888888888,
              "#fdca26"
             ],
             [
              1,
              "#f0f921"
             ]
            ],
            "type": "histogram2dcontour"
           }
          ],
          "mesh3d": [
           {
            "colorbar": {
             "outlinewidth": 0,
             "ticks": ""
            },
            "type": "mesh3d"
           }
          ],
          "parcoords": [
           {
            "line": {
             "colorbar": {
              "outlinewidth": 0,
              "ticks": ""
             }
            },
            "type": "parcoords"
           }
          ],
          "pie": [
           {
            "automargin": true,
            "type": "pie"
           }
          ],
          "scatter": [
           {
            "marker": {
             "colorbar": {
              "outlinewidth": 0,
              "ticks": ""
             }
            },
            "type": "scatter"
           }
          ],
          "scatter3d": [
           {
            "line": {
             "colorbar": {
              "outlinewidth": 0,
              "ticks": ""
             }
            },
            "marker": {
             "colorbar": {
              "outlinewidth": 0,
              "ticks": ""
             }
            },
            "type": "scatter3d"
           }
          ],
          "scattercarpet": [
           {
            "marker": {
             "colorbar": {
              "outlinewidth": 0,
              "ticks": ""
             }
            },
            "type": "scattercarpet"
           }
          ],
          "scattergeo": [
           {
            "marker": {
             "colorbar": {
              "outlinewidth": 0,
              "ticks": ""
             }
            },
            "type": "scattergeo"
           }
          ],
          "scattergl": [
           {
            "marker": {
             "colorbar": {
              "outlinewidth": 0,
              "ticks": ""
             }
            },
            "type": "scattergl"
           }
          ],
          "scattermapbox": [
           {
            "marker": {
             "colorbar": {
              "outlinewidth": 0,
              "ticks": ""
             }
            },
            "type": "scattermapbox"
           }
          ],
          "scatterpolar": [
           {
            "marker": {
             "colorbar": {
              "outlinewidth": 0,
              "ticks": ""
             }
            },
            "type": "scatterpolar"
           }
          ],
          "scatterpolargl": [
           {
            "marker": {
             "colorbar": {
              "outlinewidth": 0,
              "ticks": ""
             }
            },
            "type": "scatterpolargl"
           }
          ],
          "scatterternary": [
           {
            "marker": {
             "colorbar": {
              "outlinewidth": 0,
              "ticks": ""
             }
            },
            "type": "scatterternary"
           }
          ],
          "surface": [
           {
            "colorbar": {
             "outlinewidth": 0,
             "ticks": ""
            },
            "colorscale": [
             [
              0,
              "#0d0887"
             ],
             [
              0.1111111111111111,
              "#46039f"
             ],
             [
              0.2222222222222222,
              "#7201a8"
             ],
             [
              0.3333333333333333,
              "#9c179e"
             ],
             [
              0.4444444444444444,
              "#bd3786"
             ],
             [
              0.5555555555555556,
              "#d8576b"
             ],
             [
              0.6666666666666666,
              "#ed7953"
             ],
             [
              0.7777777777777778,
              "#fb9f3a"
             ],
             [
              0.8888888888888888,
              "#fdca26"
             ],
             [
              1,
              "#f0f921"
             ]
            ],
            "type": "surface"
           }
          ],
          "table": [
           {
            "cells": {
             "fill": {
              "color": "#EBF0F8"
             },
             "line": {
              "color": "white"
             }
            },
            "header": {
             "fill": {
              "color": "#C8D4E3"
             },
             "line": {
              "color": "white"
             }
            },
            "type": "table"
           }
          ]
         },
         "layout": {
          "annotationdefaults": {
           "arrowcolor": "#2a3f5f",
           "arrowhead": 0,
           "arrowwidth": 1
          },
          "autotypenumbers": "strict",
          "coloraxis": {
           "colorbar": {
            "outlinewidth": 0,
            "ticks": ""
           }
          },
          "colorscale": {
           "diverging": [
            [
             0,
             "#8e0152"
            ],
            [
             0.1,
             "#c51b7d"
            ],
            [
             0.2,
             "#de77ae"
            ],
            [
             0.3,
             "#f1b6da"
            ],
            [
             0.4,
             "#fde0ef"
            ],
            [
             0.5,
             "#f7f7f7"
            ],
            [
             0.6,
             "#e6f5d0"
            ],
            [
             0.7,
             "#b8e186"
            ],
            [
             0.8,
             "#7fbc41"
            ],
            [
             0.9,
             "#4d9221"
            ],
            [
             1,
             "#276419"
            ]
           ],
           "sequential": [
            [
             0,
             "#0d0887"
            ],
            [
             0.1111111111111111,
             "#46039f"
            ],
            [
             0.2222222222222222,
             "#7201a8"
            ],
            [
             0.3333333333333333,
             "#9c179e"
            ],
            [
             0.4444444444444444,
             "#bd3786"
            ],
            [
             0.5555555555555556,
             "#d8576b"
            ],
            [
             0.6666666666666666,
             "#ed7953"
            ],
            [
             0.7777777777777778,
             "#fb9f3a"
            ],
            [
             0.8888888888888888,
             "#fdca26"
            ],
            [
             1,
             "#f0f921"
            ]
           ],
           "sequentialminus": [
            [
             0,
             "#0d0887"
            ],
            [
             0.1111111111111111,
             "#46039f"
            ],
            [
             0.2222222222222222,
             "#7201a8"
            ],
            [
             0.3333333333333333,
             "#9c179e"
            ],
            [
             0.4444444444444444,
             "#bd3786"
            ],
            [
             0.5555555555555556,
             "#d8576b"
            ],
            [
             0.6666666666666666,
             "#ed7953"
            ],
            [
             0.7777777777777778,
             "#fb9f3a"
            ],
            [
             0.8888888888888888,
             "#fdca26"
            ],
            [
             1,
             "#f0f921"
            ]
           ]
          },
          "colorway": [
           "#636efa",
           "#EF553B",
           "#00cc96",
           "#ab63fa",
           "#FFA15A",
           "#19d3f3",
           "#FF6692",
           "#B6E880",
           "#FF97FF",
           "#FECB52"
          ],
          "font": {
           "color": "#2a3f5f"
          },
          "geo": {
           "bgcolor": "white",
           "lakecolor": "white",
           "landcolor": "#E5ECF6",
           "showlakes": true,
           "showland": true,
           "subunitcolor": "white"
          },
          "hoverlabel": {
           "align": "left"
          },
          "hovermode": "closest",
          "mapbox": {
           "style": "light"
          },
          "paper_bgcolor": "white",
          "plot_bgcolor": "#E5ECF6",
          "polar": {
           "angularaxis": {
            "gridcolor": "white",
            "linecolor": "white",
            "ticks": ""
           },
           "bgcolor": "#E5ECF6",
           "radialaxis": {
            "gridcolor": "white",
            "linecolor": "white",
            "ticks": ""
           }
          },
          "scene": {
           "xaxis": {
            "backgroundcolor": "#E5ECF6",
            "gridcolor": "white",
            "gridwidth": 2,
            "linecolor": "white",
            "showbackground": true,
            "ticks": "",
            "zerolinecolor": "white"
           },
           "yaxis": {
            "backgroundcolor": "#E5ECF6",
            "gridcolor": "white",
            "gridwidth": 2,
            "linecolor": "white",
            "showbackground": true,
            "ticks": "",
            "zerolinecolor": "white"
           },
           "zaxis": {
            "backgroundcolor": "#E5ECF6",
            "gridcolor": "white",
            "gridwidth": 2,
            "linecolor": "white",
            "showbackground": true,
            "ticks": "",
            "zerolinecolor": "white"
           }
          },
          "shapedefaults": {
           "line": {
            "color": "#2a3f5f"
           }
          },
          "ternary": {
           "aaxis": {
            "gridcolor": "white",
            "linecolor": "white",
            "ticks": ""
           },
           "baxis": {
            "gridcolor": "white",
            "linecolor": "white",
            "ticks": ""
           },
           "bgcolor": "#E5ECF6",
           "caxis": {
            "gridcolor": "white",
            "linecolor": "white",
            "ticks": ""
           }
          },
          "title": {
           "x": 0.05
          },
          "xaxis": {
           "automargin": true,
           "gridcolor": "white",
           "linecolor": "white",
           "ticks": "",
           "title": {
            "standoff": 15
           },
           "zerolinecolor": "white",
           "zerolinewidth": 2
          },
          "yaxis": {
           "automargin": true,
           "gridcolor": "white",
           "linecolor": "white",
           "ticks": "",
           "title": {
            "standoff": 15
           },
           "zerolinecolor": "white",
           "zerolinewidth": 2
          }
         }
        },
        "title": {
         "text": "Testing Actual vs. Predicted for Testing Data Set",
         "x": 0.5
        },
        "xaxis": {
         "anchor": "y",
         "domain": [
          0,
          1
         ],
         "range": [
          0.225,
          0.45
         ],
         "title": {
          "text": "Actual"
         }
        },
        "yaxis": {
         "anchor": "x",
         "domain": [
          0,
          1
         ],
         "range": [
          0.225,
          0.4
         ],
         "title": {
          "text": "Predicted"
         }
        }
       }
      },
      "text/html": [
       "<div>                            <div id=\"b57e899e-a97f-4426-8c9b-7bbfd421de65\" class=\"plotly-graph-div\" style=\"height:525px; width:100%;\"></div>            <script type=\"text/javascript\">                require([\"plotly\"], function(Plotly) {                    window.PLOTLYENV=window.PLOTLYENV || {};                                    if (document.getElementById(\"b57e899e-a97f-4426-8c9b-7bbfd421de65\")) {                    Plotly.newPlot(                        \"b57e899e-a97f-4426-8c9b-7bbfd421de65\",                        [{\"hovertemplate\":\"Actual=%{x}<br>Predicted=%{y}<extra></extra>\",\"legendgroup\":\"\",\"marker\":{\"color\":\"#636efa\",\"symbol\":\"circle\"},\"mode\":\"markers\",\"name\":\"\",\"orientation\":\"v\",\"showlegend\":false,\"type\":\"scatter\",\"x\":[0.314,0.342,0.357,0.365,0.331,0.3289999999999999,0.2319999999999999,0.315,0.325,0.271,0.321,0.352,0.276,0.317,0.26,0.379,0.271,0.289,0.346,0.395,0.312,0.331,0.382,0.283,0.278,0.3339999999999999,0.318,0.324,0.365,0.305,0.31,0.371,0.365,0.326,0.391,0.297,0.4379999999999999,0.313,0.372,0.293,0.342,0.31,0.408,0.374,0.3429999999999999,0.363,0.364,0.259,0.356,0.405,0.325,0.3429999999999999,0.278,0.358,0.3279999999999999,0.3289999999999999,0.379,0.325,0.321,0.355,0.429,0.348,0.311,0.3339999999999999],\"xaxis\":\"x\",\"y\":[0.31720622041003277,0.28792172487470413,0.3352465399528022,0.3788171211512721,0.32525682464518707,0.34043543258792847,0.29751025714367624,0.34109206491652205,0.3060460008942104,0.32439654514618327,0.3012609722194237,0.33176625955498884,0.298109396436716,0.31337508737072395,0.2901105115026873,0.3377564752661846,0.305158904405395,0.31640174619086675,0.3306496206129425,0.3317837732304065,0.31628728971422343,0.28296432115024744,0.347947513314861,0.3096558055518543,0.3522902329501036,0.3172689210840828,0.3088161352790484,0.29437281219488304,0.31674868558710556,0.3309597040407185,0.28107233052259945,0.37210809299070724,0.35214196537631526,0.36468659189792907,0.3718184045706447,0.34368751744751375,0.3487381487134104,0.3290264374820885,0.3405168704204911,0.31826775540063057,0.30210471265691535,0.3060532675320915,0.2989549434849006,0.3189339058712663,0.32572066729525884,0.36975484781163104,0.28171647211398093,0.29929154167383604,0.37117238858083335,0.35424399234638926,0.2949647525446929,0.3081297093766932,0.3235908543970207,0.32647601687898853,0.330299681938579,0.2861047173975788,0.36730786026091095,0.3616119237759577,0.3068435913493962,0.2778809663234932,0.3634431698200306,0.33800860936475174,0.29998532264155825,0.2989467268425603],\"yaxis\":\"y\"},{\"hovertemplate\":\"<b>OLS trendline</b><br>Predicted = 0.277381 * Actual + 0.231098<br>R<sup>2</sup>=0.187200<br><br>Actual=%{x}<br>Predicted=%{y} <b>(trend)</b><extra></extra>\",\"legendgroup\":\"\",\"marker\":{\"color\":\"#636efa\",\"symbol\":\"circle\"},\"mode\":\"lines\",\"name\":\"\",\"showlegend\":false,\"type\":\"scatter\",\"x\":[0.2319999999999999,0.259,0.26,0.271,0.271,0.276,0.278,0.278,0.283,0.289,0.293,0.297,0.305,0.31,0.31,0.311,0.312,0.313,0.314,0.315,0.317,0.318,0.321,0.321,0.324,0.325,0.325,0.325,0.326,0.3279999999999999,0.3289999999999999,0.3289999999999999,0.331,0.331,0.3339999999999999,0.3339999999999999,0.342,0.342,0.3429999999999999,0.3429999999999999,0.346,0.348,0.352,0.355,0.356,0.357,0.358,0.363,0.364,0.365,0.365,0.365,0.371,0.372,0.374,0.379,0.379,0.382,0.391,0.395,0.405,0.408,0.429,0.4379999999999999],\"xaxis\":\"x\",\"y\":[0.2954501790632525,0.3029394608666966,0.3032168416742316,0.30626803055711616,0.30626803055711616,0.307654934594791,0.30820969620986094,0.30820969620986094,0.30959660024753577,0.3112608850927455,0.31237040832288543,0.3134799315530253,0.315698978013305,0.3170858820509798,0.3170858820509798,0.3173632628585148,0.31764064366604977,0.31791802447358475,0.31819540528111967,0.31847278608865465,0.3190275477037246,0.3193049285112596,0.32013707093386445,0.32013707093386445,0.32096921335646933,0.3212465941640043,0.3212465941640043,0.3212465941640043,0.3215239749715393,0.3220787365866092,0.32235611739414416,0.32235611739414416,0.3229108790092141,0.3229108790092141,0.323743021431819,0.323743021431819,0.32596206789209875,0.32596206789209875,0.32623944869963367,0.32623944869963367,0.3270715911222386,0.3276263527373085,0.32873587596744835,0.3295680183900533,0.32984539919758826,0.3301227800051232,0.33040016081265816,0.331787064850333,0.33206444565786797,0.33234182646540295,0.33234182646540295,0.33234182646540295,0.33400611131061275,0.3342834921181477,0.33483825373321763,0.33622515777089246,0.33622515777089246,0.33705730019349733,0.33955372746131207,0.3406632506914519,0.3434370587668016,0.34426920118940646,0.35009419814764076,0.3525906254154554],\"yaxis\":\"y\"}],                        {\"legend\":{\"tracegroupgap\":0},\"margin\":{\"t\":60},\"template\":{\"data\":{\"bar\":[{\"error_x\":{\"color\":\"#2a3f5f\"},\"error_y\":{\"color\":\"#2a3f5f\"},\"marker\":{\"line\":{\"color\":\"#E5ECF6\",\"width\":0.5},\"pattern\":{\"fillmode\":\"overlay\",\"size\":10,\"solidity\":0.2}},\"type\":\"bar\"}],\"barpolar\":[{\"marker\":{\"line\":{\"color\":\"#E5ECF6\",\"width\":0.5},\"pattern\":{\"fillmode\":\"overlay\",\"size\":10,\"solidity\":0.2}},\"type\":\"barpolar\"}],\"carpet\":[{\"aaxis\":{\"endlinecolor\":\"#2a3f5f\",\"gridcolor\":\"white\",\"linecolor\":\"white\",\"minorgridcolor\":\"white\",\"startlinecolor\":\"#2a3f5f\"},\"baxis\":{\"endlinecolor\":\"#2a3f5f\",\"gridcolor\":\"white\",\"linecolor\":\"white\",\"minorgridcolor\":\"white\",\"startlinecolor\":\"#2a3f5f\"},\"type\":\"carpet\"}],\"choropleth\":[{\"colorbar\":{\"outlinewidth\":0,\"ticks\":\"\"},\"type\":\"choropleth\"}],\"contour\":[{\"colorbar\":{\"outlinewidth\":0,\"ticks\":\"\"},\"colorscale\":[[0.0,\"#0d0887\"],[0.1111111111111111,\"#46039f\"],[0.2222222222222222,\"#7201a8\"],[0.3333333333333333,\"#9c179e\"],[0.4444444444444444,\"#bd3786\"],[0.5555555555555556,\"#d8576b\"],[0.6666666666666666,\"#ed7953\"],[0.7777777777777778,\"#fb9f3a\"],[0.8888888888888888,\"#fdca26\"],[1.0,\"#f0f921\"]],\"type\":\"contour\"}],\"contourcarpet\":[{\"colorbar\":{\"outlinewidth\":0,\"ticks\":\"\"},\"type\":\"contourcarpet\"}],\"heatmap\":[{\"colorbar\":{\"outlinewidth\":0,\"ticks\":\"\"},\"colorscale\":[[0.0,\"#0d0887\"],[0.1111111111111111,\"#46039f\"],[0.2222222222222222,\"#7201a8\"],[0.3333333333333333,\"#9c179e\"],[0.4444444444444444,\"#bd3786\"],[0.5555555555555556,\"#d8576b\"],[0.6666666666666666,\"#ed7953\"],[0.7777777777777778,\"#fb9f3a\"],[0.8888888888888888,\"#fdca26\"],[1.0,\"#f0f921\"]],\"type\":\"heatmap\"}],\"heatmapgl\":[{\"colorbar\":{\"outlinewidth\":0,\"ticks\":\"\"},\"colorscale\":[[0.0,\"#0d0887\"],[0.1111111111111111,\"#46039f\"],[0.2222222222222222,\"#7201a8\"],[0.3333333333333333,\"#9c179e\"],[0.4444444444444444,\"#bd3786\"],[0.5555555555555556,\"#d8576b\"],[0.6666666666666666,\"#ed7953\"],[0.7777777777777778,\"#fb9f3a\"],[0.8888888888888888,\"#fdca26\"],[1.0,\"#f0f921\"]],\"type\":\"heatmapgl\"}],\"histogram\":[{\"marker\":{\"pattern\":{\"fillmode\":\"overlay\",\"size\":10,\"solidity\":0.2}},\"type\":\"histogram\"}],\"histogram2d\":[{\"colorbar\":{\"outlinewidth\":0,\"ticks\":\"\"},\"colorscale\":[[0.0,\"#0d0887\"],[0.1111111111111111,\"#46039f\"],[0.2222222222222222,\"#7201a8\"],[0.3333333333333333,\"#9c179e\"],[0.4444444444444444,\"#bd3786\"],[0.5555555555555556,\"#d8576b\"],[0.6666666666666666,\"#ed7953\"],[0.7777777777777778,\"#fb9f3a\"],[0.8888888888888888,\"#fdca26\"],[1.0,\"#f0f921\"]],\"type\":\"histogram2d\"}],\"histogram2dcontour\":[{\"colorbar\":{\"outlinewidth\":0,\"ticks\":\"\"},\"colorscale\":[[0.0,\"#0d0887\"],[0.1111111111111111,\"#46039f\"],[0.2222222222222222,\"#7201a8\"],[0.3333333333333333,\"#9c179e\"],[0.4444444444444444,\"#bd3786\"],[0.5555555555555556,\"#d8576b\"],[0.6666666666666666,\"#ed7953\"],[0.7777777777777778,\"#fb9f3a\"],[0.8888888888888888,\"#fdca26\"],[1.0,\"#f0f921\"]],\"type\":\"histogram2dcontour\"}],\"mesh3d\":[{\"colorbar\":{\"outlinewidth\":0,\"ticks\":\"\"},\"type\":\"mesh3d\"}],\"parcoords\":[{\"line\":{\"colorbar\":{\"outlinewidth\":0,\"ticks\":\"\"}},\"type\":\"parcoords\"}],\"pie\":[{\"automargin\":true,\"type\":\"pie\"}],\"scatter\":[{\"marker\":{\"colorbar\":{\"outlinewidth\":0,\"ticks\":\"\"}},\"type\":\"scatter\"}],\"scatter3d\":[{\"line\":{\"colorbar\":{\"outlinewidth\":0,\"ticks\":\"\"}},\"marker\":{\"colorbar\":{\"outlinewidth\":0,\"ticks\":\"\"}},\"type\":\"scatter3d\"}],\"scattercarpet\":[{\"marker\":{\"colorbar\":{\"outlinewidth\":0,\"ticks\":\"\"}},\"type\":\"scattercarpet\"}],\"scattergeo\":[{\"marker\":{\"colorbar\":{\"outlinewidth\":0,\"ticks\":\"\"}},\"type\":\"scattergeo\"}],\"scattergl\":[{\"marker\":{\"colorbar\":{\"outlinewidth\":0,\"ticks\":\"\"}},\"type\":\"scattergl\"}],\"scattermapbox\":[{\"marker\":{\"colorbar\":{\"outlinewidth\":0,\"ticks\":\"\"}},\"type\":\"scattermapbox\"}],\"scatterpolar\":[{\"marker\":{\"colorbar\":{\"outlinewidth\":0,\"ticks\":\"\"}},\"type\":\"scatterpolar\"}],\"scatterpolargl\":[{\"marker\":{\"colorbar\":{\"outlinewidth\":0,\"ticks\":\"\"}},\"type\":\"scatterpolargl\"}],\"scatterternary\":[{\"marker\":{\"colorbar\":{\"outlinewidth\":0,\"ticks\":\"\"}},\"type\":\"scatterternary\"}],\"surface\":[{\"colorbar\":{\"outlinewidth\":0,\"ticks\":\"\"},\"colorscale\":[[0.0,\"#0d0887\"],[0.1111111111111111,\"#46039f\"],[0.2222222222222222,\"#7201a8\"],[0.3333333333333333,\"#9c179e\"],[0.4444444444444444,\"#bd3786\"],[0.5555555555555556,\"#d8576b\"],[0.6666666666666666,\"#ed7953\"],[0.7777777777777778,\"#fb9f3a\"],[0.8888888888888888,\"#fdca26\"],[1.0,\"#f0f921\"]],\"type\":\"surface\"}],\"table\":[{\"cells\":{\"fill\":{\"color\":\"#EBF0F8\"},\"line\":{\"color\":\"white\"}},\"header\":{\"fill\":{\"color\":\"#C8D4E3\"},\"line\":{\"color\":\"white\"}},\"type\":\"table\"}]},\"layout\":{\"annotationdefaults\":{\"arrowcolor\":\"#2a3f5f\",\"arrowhead\":0,\"arrowwidth\":1},\"autotypenumbers\":\"strict\",\"coloraxis\":{\"colorbar\":{\"outlinewidth\":0,\"ticks\":\"\"}},\"colorscale\":{\"diverging\":[[0,\"#8e0152\"],[0.1,\"#c51b7d\"],[0.2,\"#de77ae\"],[0.3,\"#f1b6da\"],[0.4,\"#fde0ef\"],[0.5,\"#f7f7f7\"],[0.6,\"#e6f5d0\"],[0.7,\"#b8e186\"],[0.8,\"#7fbc41\"],[0.9,\"#4d9221\"],[1,\"#276419\"]],\"sequential\":[[0.0,\"#0d0887\"],[0.1111111111111111,\"#46039f\"],[0.2222222222222222,\"#7201a8\"],[0.3333333333333333,\"#9c179e\"],[0.4444444444444444,\"#bd3786\"],[0.5555555555555556,\"#d8576b\"],[0.6666666666666666,\"#ed7953\"],[0.7777777777777778,\"#fb9f3a\"],[0.8888888888888888,\"#fdca26\"],[1.0,\"#f0f921\"]],\"sequentialminus\":[[0.0,\"#0d0887\"],[0.1111111111111111,\"#46039f\"],[0.2222222222222222,\"#7201a8\"],[0.3333333333333333,\"#9c179e\"],[0.4444444444444444,\"#bd3786\"],[0.5555555555555556,\"#d8576b\"],[0.6666666666666666,\"#ed7953\"],[0.7777777777777778,\"#fb9f3a\"],[0.8888888888888888,\"#fdca26\"],[1.0,\"#f0f921\"]]},\"colorway\":[\"#636efa\",\"#EF553B\",\"#00cc96\",\"#ab63fa\",\"#FFA15A\",\"#19d3f3\",\"#FF6692\",\"#B6E880\",\"#FF97FF\",\"#FECB52\"],\"font\":{\"color\":\"#2a3f5f\"},\"geo\":{\"bgcolor\":\"white\",\"lakecolor\":\"white\",\"landcolor\":\"#E5ECF6\",\"showlakes\":true,\"showland\":true,\"subunitcolor\":\"white\"},\"hoverlabel\":{\"align\":\"left\"},\"hovermode\":\"closest\",\"mapbox\":{\"style\":\"light\"},\"paper_bgcolor\":\"white\",\"plot_bgcolor\":\"#E5ECF6\",\"polar\":{\"angularaxis\":{\"gridcolor\":\"white\",\"linecolor\":\"white\",\"ticks\":\"\"},\"bgcolor\":\"#E5ECF6\",\"radialaxis\":{\"gridcolor\":\"white\",\"linecolor\":\"white\",\"ticks\":\"\"}},\"scene\":{\"xaxis\":{\"backgroundcolor\":\"#E5ECF6\",\"gridcolor\":\"white\",\"gridwidth\":2,\"linecolor\":\"white\",\"showbackground\":true,\"ticks\":\"\",\"zerolinecolor\":\"white\"},\"yaxis\":{\"backgroundcolor\":\"#E5ECF6\",\"gridcolor\":\"white\",\"gridwidth\":2,\"linecolor\":\"white\",\"showbackground\":true,\"ticks\":\"\",\"zerolinecolor\":\"white\"},\"zaxis\":{\"backgroundcolor\":\"#E5ECF6\",\"gridcolor\":\"white\",\"gridwidth\":2,\"linecolor\":\"white\",\"showbackground\":true,\"ticks\":\"\",\"zerolinecolor\":\"white\"}},\"shapedefaults\":{\"line\":{\"color\":\"#2a3f5f\"}},\"ternary\":{\"aaxis\":{\"gridcolor\":\"white\",\"linecolor\":\"white\",\"ticks\":\"\"},\"baxis\":{\"gridcolor\":\"white\",\"linecolor\":\"white\",\"ticks\":\"\"},\"bgcolor\":\"#E5ECF6\",\"caxis\":{\"gridcolor\":\"white\",\"linecolor\":\"white\",\"ticks\":\"\"}},\"title\":{\"x\":0.05},\"xaxis\":{\"automargin\":true,\"gridcolor\":\"white\",\"linecolor\":\"white\",\"ticks\":\"\",\"title\":{\"standoff\":15},\"zerolinecolor\":\"white\",\"zerolinewidth\":2},\"yaxis\":{\"automargin\":true,\"gridcolor\":\"white\",\"linecolor\":\"white\",\"ticks\":\"\",\"title\":{\"standoff\":15},\"zerolinecolor\":\"white\",\"zerolinewidth\":2}}},\"title\":{\"text\":\"Testing Actual vs. Predicted for Testing Data Set\",\"x\":0.5},\"xaxis\":{\"anchor\":\"y\",\"domain\":[0.0,1.0],\"range\":[0.225,0.45],\"title\":{\"text\":\"Actual\"}},\"yaxis\":{\"anchor\":\"x\",\"domain\":[0.0,1.0],\"range\":[0.225,0.4],\"title\":{\"text\":\"Predicted\"}}},                        {\"responsive\": true}                    ).then(function(){\n",
       "                            \n",
       "var gd = document.getElementById('b57e899e-a97f-4426-8c9b-7bbfd421de65');\n",
       "var x = new MutationObserver(function (mutations, observer) {{\n",
       "        var display = window.getComputedStyle(gd).display;\n",
       "        if (!display || display === 'none') {{\n",
       "            console.log([gd, 'removed!']);\n",
       "            Plotly.purge(gd);\n",
       "            observer.disconnect();\n",
       "        }}\n",
       "}});\n",
       "\n",
       "// Listen for the removal of the full notebook cells\n",
       "var notebookContainer = gd.closest('#notebook-container');\n",
       "if (notebookContainer) {{\n",
       "    x.observe(notebookContainer, {childList: true});\n",
       "}}\n",
       "\n",
       "// Listen for the clearing of the current output cell\n",
       "var outputEl = gd.closest('.output');\n",
       "if (outputEl) {{\n",
       "    x.observe(outputEl, {childList: true});\n",
       "}}\n",
       "\n",
       "                        })                };                });            </script>        </div>"
      ]
     },
     "metadata": {},
     "output_type": "display_data"
    },
    {
     "name": "stdout",
     "output_type": "stream",
     "text": [
      "Mean Absolute Error: 0.031978751165752904\n",
      "Mean Squared Error: 0.0015523070377327722\n",
      "Root Mean Squared Error: 0.039399327884277066\n"
     ]
    }
   ],
   "source": [
    "# Print XY Scatter Plot using plotly\n",
    "\n",
    "fig = px.scatter(resultFrame, x=\"Actual\", y=\"Predicted\",  trendline=\"ols\")\n",
    "fig.update_layout(title_text='Testing Actual vs. Predicted for Testing Data Set', title_x=0.5)\n",
    "fig.update_xaxes(range=[0.225, 0.45])\n",
    "fig.update_yaxes(range=[0.225, 0.4])\n",
    "fig.show()\n",
    "\n",
    "print('Mean Absolute Error:', metrics.mean_absolute_error(dependentTest, prediction))\n",
    "print('Mean Squared Error:', metrics.mean_squared_error(dependentTest, prediction))\n",
    "print('Root Mean Squared Error:', np.sqrt(metrics.mean_squared_error(dependentTest, prediction)))\n"
   ]
  },
  {
   "cell_type": "code",
   "execution_count": 49,
   "id": "edb87259",
   "metadata": {},
   "outputs": [
    {
     "data": {
      "application/vnd.plotly.v1+json": {
       "config": {
        "plotlyServerURL": "https://plot.ly"
       },
       "data": [
        {
         "hovertemplate": "Actual=%{x}<br>Predicted=%{y}<extra></extra>",
         "legendgroup": "",
         "marker": {
          "color": "#636efa",
          "symbol": "circle"
         },
         "mode": "markers",
         "name": "",
         "orientation": "v",
         "showlegend": false,
         "type": "scatter",
         "x": [
          0.406,
          0.429,
          0.315,
          0.353,
          0.341,
          0.412,
          0.365,
          0.324,
          0.348,
          0.364,
          0.322,
          0.389,
          0.4379999999999999,
          0.355,
          0.313,
          0.357,
          0.364,
          0.355,
          0.318,
          0.358,
          0.364,
          0.326,
          0.371,
          0.384,
          0.348,
          0.356,
          0.395,
          0.353,
          0.342,
          0.34,
          0.319,
          0.392,
          0.3279999999999999,
          0.3389999999999999,
          0.316,
          0.317,
          0.367,
          0.389,
          0.252,
          0.3429999999999999,
          0.342,
          0.369,
          0.345,
          0.3279999999999999,
          0.3779999999999999,
          0.381,
          0.367,
          0.355,
          0.316,
          0.363,
          0.32,
          0.3829999999999999,
          0.358,
          0.313,
          0.423,
          0.391,
          0.379,
          0.336,
          0.369,
          0.408,
          0.379,
          0.336,
          0.319,
          0.3289999999999999,
          0.321,
          0.365,
          0.346,
          0.353,
          0.372,
          0.397,
          0.3829999999999999,
          0.346,
          0.344,
          0.324,
          0.356,
          0.3229999999999999,
          0.363,
          0.346,
          0.3429999999999999,
          0.362,
          0.3229999999999999,
          0.405,
          0.34,
          0.342,
          0.372,
          0.361,
          0.358,
          0.4029999999999999,
          0.313,
          0.346,
          0.325,
          0.38,
          0.363,
          0.3,
          0.3279999999999999,
          0.24,
          0.347,
          0.401,
          0.369,
          0.3289999999999999,
          0.299,
          0.3389999999999999,
          0.3779999999999999,
          0.352,
          0.33,
          0.29,
          0.314,
          0.313,
          0.313,
          0.296,
          0.304,
          0.325,
          0.322,
          0.384,
          0.353,
          0.289,
          0.3279999999999999,
          0.287,
          0.309,
          0.314,
          0.261,
          0.312,
          0.271,
          0.337,
          0.276,
          0.348,
          0.282,
          0.31,
          0.332,
          0.297,
          0.318,
          0.357,
          0.375,
          0.3279999999999999,
          0.374,
          0.296,
          0.382,
          0.361,
          0.358,
          0.304,
          0.379,
          0.289,
          0.396,
          0.3279999999999999,
          0.293,
          0.364,
          0.305,
          0.291,
          0.357,
          0.337,
          0.311,
          0.344,
          0.365,
          0.322,
          0.375,
          0.311,
          0.271,
          0.297,
          0.331,
          0.326,
          0.318,
          0.35,
          0.3429999999999999,
          0.389,
          0.278,
          0.372,
          0.307,
          0.325,
          0.263,
          0.29,
          0.342,
          0.267,
          0.337,
          0.304,
          0.325,
          0.364,
          0.3289999999999999,
          0.346,
          0.309,
          0.354,
          0.308,
          0.314,
          0.289,
          0.3389999999999999,
          0.3389999999999999,
          0.31,
          0.276,
          0.31,
          0.293,
          0.293,
          0.309,
          0.318,
          0.296,
          0.316,
          0.3329999999999999,
          0.289,
          0.321,
          0.3289999999999999,
          0.332,
          0.311,
          0.3339999999999999,
          0.29,
          0.305,
          0.28,
          0.3229999999999999,
          0.312,
          0.3339999999999999,
          0.335,
          0.35,
          0.3339999999999999,
          0.32,
          0.336,
          0.265,
          0.325,
          0.293,
          0.324,
          0.331,
          0.311,
          0.342,
          0.337,
          0.316,
          0.262,
          0.306,
          0.325,
          0.321,
          0.281,
          0.3289999999999999,
          0.335,
          0.315,
          0.34,
          0.305,
          0.3429999999999999,
          0.266,
          0.361,
          0.312,
          0.32,
          0.3429999999999999,
          0.306,
          0.262,
          0.283,
          0.2319999999999999,
          0.2789999999999999,
          0.3,
          0.34,
          0.3279999999999999,
          0.251,
          0.306,
          0.325,
          0.321,
          0.2789999999999999,
          0.361,
          0.312,
          0.271,
          0.304,
          0.31,
          0.3289999999999999,
          0.306,
          0.358,
          0.342,
          0.3429999999999999,
          0.281,
          0.281,
          0.291,
          0.351,
          0.278,
          0.2739999999999999,
          0.302,
          0.259,
          0.327,
          0.356,
          0.325,
          0.289,
          0.318,
          0.299,
          0.349,
          0.276,
          0.252,
          0.31,
          0.31,
          0.287,
          0.317,
          0.327,
          0.315,
          0.222,
          0.351,
          0.327,
          0.312,
          0.301,
          0.325,
          0.313,
          0.313,
          0.348,
          0.3329999999999999,
          0.327,
          0.304,
          0.2789999999999999,
          0.293,
          0.293,
          0.285,
          0.3,
          0.299,
          0.236,
          0.304,
          0.304,
          0.322,
          0.302,
          0.301,
          0.209,
          0.209,
          0.283,
          0.26,
          0.278,
          0.302,
          0.31,
          0.316,
          0.317,
          0.242,
          0.2739999999999999,
          0.243,
          0.29
         ],
         "xaxis": "x",
         "y": [
          0.406,
          0.3634431698200306,
          0.315,
          0.353,
          0.341,
          0.412,
          0.31674868558710556,
          0.29437281219488304,
          0.33800860936475174,
          0.364,
          0.322,
          0.389,
          0.3487381487134104,
          0.355,
          0.313,
          0.3352465399528022,
          0.364,
          0.2778809663234932,
          0.318,
          0.358,
          0.364,
          0.36468659189792907,
          0.37210809299070724,
          0.384,
          0.348,
          0.356,
          0.3317837732304065,
          0.353,
          0.342,
          0.34,
          0.319,
          0.392,
          0.3279999999999999,
          0.3389999999999999,
          0.316,
          0.317,
          0.367,
          0.389,
          0.252,
          0.3429999999999999,
          0.342,
          0.369,
          0.345,
          0.3279999999999999,
          0.3779999999999999,
          0.381,
          0.367,
          0.354999987023261,
          0.316,
          0.363,
          0.32,
          0.3829999999999999,
          0.3264760168789888,
          0.313,
          0.423,
          0.3718184045706447,
          0.36730786026091095,
          0.336,
          0.369,
          0.2989549434849006,
          0.33775647526618524,
          0.336,
          0.319,
          0.34043543258792847,
          0.3012609722194237,
          0.3788171211512721,
          0.33064962061294223,
          0.353,
          0.3405168704204911,
          0.397,
          0.3829999999999999,
          0.346,
          0.344,
          0.324,
          0.37117238858083335,
          0.3229999999999999,
          0.363,
          0.346,
          0.3429999999999999,
          0.362,
          0.3229999999999999,
          0.35424399234638926,
          0.34,
          0.342,
          0.372,
          0.361,
          0.358,
          0.4029999999999999,
          0.313,
          0.346,
          0.3616119237759577,
          0.38,
          0.36975484781163104,
          0.3,
          0.3279999999999999,
          0.24,
          0.347,
          0.401,
          0.369,
          0.3289999999999999,
          0.299,
          0.3389999999999999,
          0.3779999999999999,
          0.33176625955498884,
          0.33,
          0.29,
          0.314,
          0.313,
          0.3290264374820885,
          0.296,
          0.304,
          0.325,
          0.322,
          0.384,
          0.353,
          0.289,
          0.3279999999999999,
          0.287,
          0.309,
          0.314,
          0.261,
          0.312,
          0.305158904405395,
          0.337,
          0.298109396436716,
          0.348,
          0.282,
          0.31,
          0.332,
          0.297,
          0.318,
          0.357,
          0.375,
          0.330299681938579,
          0.3189339058712663,
          0.296,
          0.347947513314861,
          0.361,
          0.358,
          0.304,
          0.379,
          0.289,
          0.396,
          0.3279999999999999,
          0.31826775540063057,
          0.364,
          0.305,
          0.291,
          0.357,
          0.337,
          0.29998532264155825,
          0.344,
          0.35214196537631526,
          0.322,
          0.375,
          0.311,
          0.32439654514618327,
          0.34368751744751647,
          0.28296432115024744,
          0.326,
          0.318,
          0.35,
          0.3429999999999999,
          0.389,
          0.3522902329501036,
          0.372,
          0.307,
          0.3060460008942104,
          0.263,
          0.29,
          0.30210471265691535,
          0.267,
          0.3369999763460599,
          0.304,
          0.325,
          0.28171647211398093,
          0.2861047173975784,
          0.346,
          0.309,
          0.354,
          0.308,
          0.31720622041003277,
          0.289,
          0.3389999999999999,
          0.3389999999999999,
          0.31,
          0.276,
          0.31,
          0.293,
          0.293,
          0.309,
          0.318,
          0.296,
          0.316,
          0.3329999999999999,
          0.289,
          0.321,
          0.3289999999999999,
          0.332,
          0.311,
          0.31726892108408455,
          0.29,
          0.305,
          0.28,
          0.3229999999999999,
          0.312,
          0.2989467268425603,
          0.335,
          0.35,
          0.3339999999999999,
          0.32,
          0.336,
          0.265,
          0.325,
          0.293,
          0.324,
          0.32525682464518707,
          0.311,
          0.342,
          0.337,
          0.316,
          0.262,
          0.306,
          0.325,
          0.321,
          0.281,
          0.3289999999999999,
          0.335,
          0.34109206491652205,
          0.34,
          0.3309597040407185,
          0.32572066729525884,
          0.266,
          0.361,
          0.312,
          0.32,
          0.3429999999999999,
          0.306,
          0.262,
          0.283,
          0.29751025714367624,
          0.2789999999999999,
          0.3,
          0.34,
          0.3279999999999999,
          0.251,
          0.306,
          0.325,
          0.3068435913493962,
          0.2789999999999999,
          0.361,
          0.312,
          0.271,
          0.304,
          0.28107233052259945,
          0.3289999999999999,
          0.306,
          0.358,
          0.28792172487470413,
          0.3081297093766932,
          0.281,
          0.281,
          0.291,
          0.351,
          0.3235908543970207,
          0.2739999999999999,
          0.302,
          0.29929154167383604,
          0.327,
          0.356,
          0.325,
          0.31640174619086675,
          0.3088161352790484,
          0.299,
          0.349,
          0.276,
          0.252,
          0.31,
          0.3060532675320915,
          0.287,
          0.317,
          0.327,
          0.315,
          0.222,
          0.351,
          0.327,
          0.31628728971422343,
          0.301,
          0.2949647525446929,
          0.313,
          0.313,
          0.348,
          0.3329999999999999,
          0.327,
          0.304,
          0.2789999999999999,
          0.293,
          0.293,
          0.285,
          0.3,
          0.299,
          0.236,
          0.304,
          0.304,
          0.322,
          0.302,
          0.301,
          0.209,
          0.209,
          0.3096558055518543,
          0.2901105115026873,
          0.278,
          0.302,
          0.31,
          0.316,
          0.31337508737072395,
          0.242,
          0.2739999999999999,
          0.243,
          0.29
         ],
         "yaxis": "y"
        },
        {
         "hovertemplate": "<b>OLS trendline</b><br>Predicted = 0.814741 * Actual + 0.0582601<br>R<sup>2</sup>=0.784264<br><br>Actual=%{x}<br>Predicted=%{y} <b>(trend)</b><extra></extra>",
         "legendgroup": "",
         "marker": {
          "color": "#636efa",
          "symbol": "circle"
         },
         "mode": "lines",
         "name": "",
         "showlegend": false,
         "type": "scatter",
         "x": [
          0.209,
          0.209,
          0.222,
          0.2319999999999999,
          0.236,
          0.24,
          0.242,
          0.243,
          0.251,
          0.252,
          0.252,
          0.259,
          0.26,
          0.261,
          0.262,
          0.262,
          0.263,
          0.265,
          0.266,
          0.267,
          0.271,
          0.271,
          0.271,
          0.2739999999999999,
          0.2739999999999999,
          0.276,
          0.276,
          0.276,
          0.278,
          0.278,
          0.278,
          0.2789999999999999,
          0.2789999999999999,
          0.2789999999999999,
          0.28,
          0.281,
          0.281,
          0.281,
          0.282,
          0.283,
          0.283,
          0.285,
          0.287,
          0.287,
          0.289,
          0.289,
          0.289,
          0.289,
          0.289,
          0.29,
          0.29,
          0.29,
          0.29,
          0.291,
          0.291,
          0.293,
          0.293,
          0.293,
          0.293,
          0.293,
          0.293,
          0.296,
          0.296,
          0.296,
          0.297,
          0.297,
          0.299,
          0.299,
          0.299,
          0.3,
          0.3,
          0.3,
          0.301,
          0.301,
          0.302,
          0.302,
          0.302,
          0.304,
          0.304,
          0.304,
          0.304,
          0.304,
          0.304,
          0.304,
          0.305,
          0.305,
          0.305,
          0.306,
          0.306,
          0.306,
          0.306,
          0.307,
          0.308,
          0.309,
          0.309,
          0.309,
          0.31,
          0.31,
          0.31,
          0.31,
          0.31,
          0.31,
          0.31,
          0.311,
          0.311,
          0.311,
          0.311,
          0.312,
          0.312,
          0.312,
          0.312,
          0.312,
          0.313,
          0.313,
          0.313,
          0.313,
          0.313,
          0.313,
          0.313,
          0.314,
          0.314,
          0.314,
          0.315,
          0.315,
          0.315,
          0.316,
          0.316,
          0.316,
          0.316,
          0.316,
          0.317,
          0.317,
          0.317,
          0.318,
          0.318,
          0.318,
          0.318,
          0.318,
          0.319,
          0.319,
          0.32,
          0.32,
          0.32,
          0.321,
          0.321,
          0.321,
          0.321,
          0.322,
          0.322,
          0.322,
          0.322,
          0.3229999999999999,
          0.3229999999999999,
          0.3229999999999999,
          0.324,
          0.324,
          0.324,
          0.325,
          0.325,
          0.325,
          0.325,
          0.325,
          0.325,
          0.325,
          0.325,
          0.325,
          0.326,
          0.326,
          0.327,
          0.327,
          0.327,
          0.327,
          0.3279999999999999,
          0.3279999999999999,
          0.3279999999999999,
          0.3279999999999999,
          0.3279999999999999,
          0.3279999999999999,
          0.3279999999999999,
          0.3289999999999999,
          0.3289999999999999,
          0.3289999999999999,
          0.3289999999999999,
          0.3289999999999999,
          0.3289999999999999,
          0.33,
          0.331,
          0.331,
          0.332,
          0.332,
          0.3329999999999999,
          0.3329999999999999,
          0.3339999999999999,
          0.3339999999999999,
          0.3339999999999999,
          0.335,
          0.335,
          0.336,
          0.336,
          0.336,
          0.337,
          0.337,
          0.337,
          0.337,
          0.3389999999999999,
          0.3389999999999999,
          0.3389999999999999,
          0.3389999999999999,
          0.34,
          0.34,
          0.34,
          0.34,
          0.341,
          0.342,
          0.342,
          0.342,
          0.342,
          0.342,
          0.342,
          0.3429999999999999,
          0.3429999999999999,
          0.3429999999999999,
          0.3429999999999999,
          0.3429999999999999,
          0.3429999999999999,
          0.344,
          0.344,
          0.345,
          0.346,
          0.346,
          0.346,
          0.346,
          0.346,
          0.347,
          0.348,
          0.348,
          0.348,
          0.348,
          0.349,
          0.35,
          0.35,
          0.351,
          0.351,
          0.352,
          0.353,
          0.353,
          0.353,
          0.353,
          0.354,
          0.355,
          0.355,
          0.355,
          0.356,
          0.356,
          0.356,
          0.357,
          0.357,
          0.357,
          0.358,
          0.358,
          0.358,
          0.358,
          0.358,
          0.361,
          0.361,
          0.361,
          0.361,
          0.362,
          0.363,
          0.363,
          0.363,
          0.364,
          0.364,
          0.364,
          0.364,
          0.364,
          0.365,
          0.365,
          0.365,
          0.367,
          0.367,
          0.369,
          0.369,
          0.369,
          0.371,
          0.372,
          0.372,
          0.372,
          0.374,
          0.375,
          0.375,
          0.3779999999999999,
          0.3779999999999999,
          0.379,
          0.379,
          0.379,
          0.38,
          0.381,
          0.382,
          0.3829999999999999,
          0.3829999999999999,
          0.384,
          0.384,
          0.389,
          0.389,
          0.389,
          0.391,
          0.392,
          0.395,
          0.396,
          0.397,
          0.401,
          0.4029999999999999,
          0.405,
          0.406,
          0.408,
          0.412,
          0.423,
          0.429,
          0.4379999999999999
         ],
         "xaxis": "x",
         "y": [
          0.22854092441452442,
          0.22854092441452442,
          0.23913255312550083,
          0.24727995982625187,
          0.25053892250655235,
          0.2537978851868528,
          0.25542736652700304,
          0.25624210719707813,
          0.26276003255767905,
          0.26357477322775413,
          0.26357477322775413,
          0.2692779579182799,
          0.270092698588355,
          0.27090743925843014,
          0.2717221799285052,
          0.2717221799285052,
          0.27253692059858037,
          0.2741664019387306,
          0.2749811426088057,
          0.27579588327888077,
          0.27905484595918123,
          0.27905484595918123,
          0.27905484595918123,
          0.2814990679694065,
          0.2814990679694065,
          0.2831285493095568,
          0.2831285493095568,
          0.2831285493095568,
          0.284758030649707,
          0.284758030649707,
          0.284758030649707,
          0.28557277131978204,
          0.28557277131978204,
          0.28557277131978204,
          0.28638751198985724,
          0.2872022526599323,
          0.2872022526599323,
          0.2872022526599323,
          0.2880169933300074,
          0.2888317340000825,
          0.2888317340000825,
          0.2904612153402327,
          0.29209069668038296,
          0.29209069668038296,
          0.2937201780205332,
          0.2937201780205332,
          0.2937201780205332,
          0.2937201780205332,
          0.2937201780205332,
          0.29453491869060827,
          0.29453491869060827,
          0.29453491869060827,
          0.29453491869060827,
          0.2953496593606834,
          0.2953496593606834,
          0.2969791407008336,
          0.2969791407008336,
          0.2969791407008336,
          0.2969791407008336,
          0.2969791407008336,
          0.2969791407008336,
          0.29942336271105896,
          0.29942336271105896,
          0.29942336271105896,
          0.30023810338113405,
          0.30023810338113405,
          0.3018675847212843,
          0.3018675847212843,
          0.3018675847212843,
          0.30268232539135936,
          0.30268232539135936,
          0.30268232539135936,
          0.3034970660614345,
          0.3034970660614345,
          0.3043118067315096,
          0.3043118067315096,
          0.3043118067315096,
          0.3059412880716598,
          0.3059412880716598,
          0.3059412880716598,
          0.3059412880716598,
          0.3059412880716598,
          0.3059412880716598,
          0.3059412880716598,
          0.3067560287417349,
          0.3067560287417349,
          0.3067560287417349,
          0.30757076941181005,
          0.30757076941181005,
          0.30757076941181005,
          0.30757076941181005,
          0.30838551008188514,
          0.3092002507519602,
          0.31001499142203537,
          0.31001499142203537,
          0.31001499142203537,
          0.31082973209211046,
          0.31082973209211046,
          0.31082973209211046,
          0.31082973209211046,
          0.31082973209211046,
          0.31082973209211046,
          0.31082973209211046,
          0.3116444727621856,
          0.3116444727621856,
          0.3116444727621856,
          0.3116444727621856,
          0.3124592134322607,
          0.3124592134322607,
          0.3124592134322607,
          0.3124592134322607,
          0.3124592134322607,
          0.31327395410233577,
          0.31327395410233577,
          0.31327395410233577,
          0.31327395410233577,
          0.31327395410233577,
          0.31327395410233577,
          0.31327395410233577,
          0.3140886947724109,
          0.3140886947724109,
          0.3140886947724109,
          0.314903435442486,
          0.314903435442486,
          0.314903435442486,
          0.31571817611256114,
          0.31571817611256114,
          0.31571817611256114,
          0.31571817611256114,
          0.31571817611256114,
          0.31653291678263623,
          0.31653291678263623,
          0.31653291678263623,
          0.3173476574527114,
          0.3173476574527114,
          0.3173476574527114,
          0.3173476574527114,
          0.3173476574527114,
          0.31816239812278646,
          0.31816239812278646,
          0.31897713879286155,
          0.31897713879286155,
          0.31897713879286155,
          0.3197918794629367,
          0.3197918794629367,
          0.3197918794629367,
          0.3197918794629367,
          0.3206066201330118,
          0.3206066201330118,
          0.3206066201330118,
          0.3206066201330118,
          0.3214213608030868,
          0.3214213608030868,
          0.3214213608030868,
          0.322236101473162,
          0.322236101473162,
          0.322236101473162,
          0.3230508421432371,
          0.3230508421432371,
          0.3230508421432371,
          0.3230508421432371,
          0.3230508421432371,
          0.3230508421432371,
          0.3230508421432371,
          0.3230508421432371,
          0.3230508421432371,
          0.32386558281331224,
          0.32386558281331224,
          0.3246803234833873,
          0.3246803234833873,
          0.3246803234833873,
          0.3246803234833873,
          0.32549506415346235,
          0.32549506415346235,
          0.32549506415346235,
          0.32549506415346235,
          0.32549506415346235,
          0.32549506415346235,
          0.32549506415346235,
          0.3263098048235375,
          0.3263098048235375,
          0.3263098048235375,
          0.3263098048235375,
          0.3263098048235375,
          0.3263098048235375,
          0.3271245454936127,
          0.3279392861636878,
          0.3279392861636878,
          0.32875402683376287,
          0.32875402683376287,
          0.3295687675038379,
          0.3295687675038379,
          0.33038350817391304,
          0.33038350817391304,
          0.33038350817391304,
          0.33119824884398824,
          0.33119824884398824,
          0.33201298951406333,
          0.33201298951406333,
          0.33201298951406333,
          0.3328277301841384,
          0.3328277301841384,
          0.3328277301841384,
          0.3328277301841384,
          0.3344572115242886,
          0.3344572115242886,
          0.3344572115242886,
          0.3344572115242886,
          0.3352719521943638,
          0.3352719521943638,
          0.3352719521943638,
          0.3352719521943638,
          0.3360866928644389,
          0.336901433534514,
          0.336901433534514,
          0.336901433534514,
          0.336901433534514,
          0.336901433534514,
          0.336901433534514,
          0.337716174204589,
          0.337716174204589,
          0.337716174204589,
          0.337716174204589,
          0.337716174204589,
          0.337716174204589,
          0.3385309148746642,
          0.3385309148746642,
          0.3393456555447393,
          0.34016039621481436,
          0.34016039621481436,
          0.34016039621481436,
          0.34016039621481436,
          0.34016039621481436,
          0.3409751368848895,
          0.3417898775549646,
          0.3417898775549646,
          0.3417898775549646,
          0.3417898775549646,
          0.34260461822503974,
          0.3434193588951148,
          0.3434193588951148,
          0.3442340995651899,
          0.3442340995651899,
          0.34504884023526505,
          0.34586358090534014,
          0.34586358090534014,
          0.34586358090534014,
          0.34586358090534014,
          0.3466783215754153,
          0.34749306224549037,
          0.34749306224549037,
          0.34749306224549037,
          0.3483078029155655,
          0.3483078029155655,
          0.3483078029155655,
          0.3491225435856406,
          0.3491225435856406,
          0.3491225435856406,
          0.3499372842557157,
          0.3499372842557157,
          0.3499372842557157,
          0.3499372842557157,
          0.3499372842557157,
          0.35238150626594106,
          0.35238150626594106,
          0.35238150626594106,
          0.35238150626594106,
          0.35319624693601614,
          0.35401098760609123,
          0.35401098760609123,
          0.35401098760609123,
          0.3548257282761664,
          0.3548257282761664,
          0.3548257282761664,
          0.3548257282761664,
          0.3548257282761664,
          0.35564046894624146,
          0.35564046894624146,
          0.35564046894624146,
          0.3572699502863917,
          0.3572699502863917,
          0.3588994316265419,
          0.3588994316265419,
          0.3588994316265419,
          0.36052891296669215,
          0.36134365363676724,
          0.36134365363676724,
          0.36134365363676724,
          0.36297313497691747,
          0.36378787564699255,
          0.36378787564699255,
          0.3662320976572178,
          0.3662320976572178,
          0.367046838327293,
          0.367046838327293,
          0.367046838327293,
          0.36786157899736815,
          0.36867631966744324,
          0.36949106033751833,
          0.37030580100759336,
          0.37030580100759336,
          0.37112054167766856,
          0.37112054167766856,
          0.3751942450280441,
          0.3751942450280441,
          0.3751942450280441,
          0.37682372636819433,
          0.3776384670382695,
          0.3800826890484948,
          0.3808974297185699,
          0.381712170388645,
          0.3849711330689454,
          0.3866006144090956,
          0.3882300957492459,
          0.38904483641932097,
          0.39067431775947115,
          0.3939332804397716,
          0.40289542781059784,
          0.4077838718310485,
          0.41511653786172437
         ],
         "yaxis": "y"
        }
       ],
       "layout": {
        "legend": {
         "tracegroupgap": 0
        },
        "margin": {
         "t": 60
        },
        "template": {
         "data": {
          "bar": [
           {
            "error_x": {
             "color": "#2a3f5f"
            },
            "error_y": {
             "color": "#2a3f5f"
            },
            "marker": {
             "line": {
              "color": "#E5ECF6",
              "width": 0.5
             },
             "pattern": {
              "fillmode": "overlay",
              "size": 10,
              "solidity": 0.2
             }
            },
            "type": "bar"
           }
          ],
          "barpolar": [
           {
            "marker": {
             "line": {
              "color": "#E5ECF6",
              "width": 0.5
             },
             "pattern": {
              "fillmode": "overlay",
              "size": 10,
              "solidity": 0.2
             }
            },
            "type": "barpolar"
           }
          ],
          "carpet": [
           {
            "aaxis": {
             "endlinecolor": "#2a3f5f",
             "gridcolor": "white",
             "linecolor": "white",
             "minorgridcolor": "white",
             "startlinecolor": "#2a3f5f"
            },
            "baxis": {
             "endlinecolor": "#2a3f5f",
             "gridcolor": "white",
             "linecolor": "white",
             "minorgridcolor": "white",
             "startlinecolor": "#2a3f5f"
            },
            "type": "carpet"
           }
          ],
          "choropleth": [
           {
            "colorbar": {
             "outlinewidth": 0,
             "ticks": ""
            },
            "type": "choropleth"
           }
          ],
          "contour": [
           {
            "colorbar": {
             "outlinewidth": 0,
             "ticks": ""
            },
            "colorscale": [
             [
              0,
              "#0d0887"
             ],
             [
              0.1111111111111111,
              "#46039f"
             ],
             [
              0.2222222222222222,
              "#7201a8"
             ],
             [
              0.3333333333333333,
              "#9c179e"
             ],
             [
              0.4444444444444444,
              "#bd3786"
             ],
             [
              0.5555555555555556,
              "#d8576b"
             ],
             [
              0.6666666666666666,
              "#ed7953"
             ],
             [
              0.7777777777777778,
              "#fb9f3a"
             ],
             [
              0.8888888888888888,
              "#fdca26"
             ],
             [
              1,
              "#f0f921"
             ]
            ],
            "type": "contour"
           }
          ],
          "contourcarpet": [
           {
            "colorbar": {
             "outlinewidth": 0,
             "ticks": ""
            },
            "type": "contourcarpet"
           }
          ],
          "heatmap": [
           {
            "colorbar": {
             "outlinewidth": 0,
             "ticks": ""
            },
            "colorscale": [
             [
              0,
              "#0d0887"
             ],
             [
              0.1111111111111111,
              "#46039f"
             ],
             [
              0.2222222222222222,
              "#7201a8"
             ],
             [
              0.3333333333333333,
              "#9c179e"
             ],
             [
              0.4444444444444444,
              "#bd3786"
             ],
             [
              0.5555555555555556,
              "#d8576b"
             ],
             [
              0.6666666666666666,
              "#ed7953"
             ],
             [
              0.7777777777777778,
              "#fb9f3a"
             ],
             [
              0.8888888888888888,
              "#fdca26"
             ],
             [
              1,
              "#f0f921"
             ]
            ],
            "type": "heatmap"
           }
          ],
          "heatmapgl": [
           {
            "colorbar": {
             "outlinewidth": 0,
             "ticks": ""
            },
            "colorscale": [
             [
              0,
              "#0d0887"
             ],
             [
              0.1111111111111111,
              "#46039f"
             ],
             [
              0.2222222222222222,
              "#7201a8"
             ],
             [
              0.3333333333333333,
              "#9c179e"
             ],
             [
              0.4444444444444444,
              "#bd3786"
             ],
             [
              0.5555555555555556,
              "#d8576b"
             ],
             [
              0.6666666666666666,
              "#ed7953"
             ],
             [
              0.7777777777777778,
              "#fb9f3a"
             ],
             [
              0.8888888888888888,
              "#fdca26"
             ],
             [
              1,
              "#f0f921"
             ]
            ],
            "type": "heatmapgl"
           }
          ],
          "histogram": [
           {
            "marker": {
             "pattern": {
              "fillmode": "overlay",
              "size": 10,
              "solidity": 0.2
             }
            },
            "type": "histogram"
           }
          ],
          "histogram2d": [
           {
            "colorbar": {
             "outlinewidth": 0,
             "ticks": ""
            },
            "colorscale": [
             [
              0,
              "#0d0887"
             ],
             [
              0.1111111111111111,
              "#46039f"
             ],
             [
              0.2222222222222222,
              "#7201a8"
             ],
             [
              0.3333333333333333,
              "#9c179e"
             ],
             [
              0.4444444444444444,
              "#bd3786"
             ],
             [
              0.5555555555555556,
              "#d8576b"
             ],
             [
              0.6666666666666666,
              "#ed7953"
             ],
             [
              0.7777777777777778,
              "#fb9f3a"
             ],
             [
              0.8888888888888888,
              "#fdca26"
             ],
             [
              1,
              "#f0f921"
             ]
            ],
            "type": "histogram2d"
           }
          ],
          "histogram2dcontour": [
           {
            "colorbar": {
             "outlinewidth": 0,
             "ticks": ""
            },
            "colorscale": [
             [
              0,
              "#0d0887"
             ],
             [
              0.1111111111111111,
              "#46039f"
             ],
             [
              0.2222222222222222,
              "#7201a8"
             ],
             [
              0.3333333333333333,
              "#9c179e"
             ],
             [
              0.4444444444444444,
              "#bd3786"
             ],
             [
              0.5555555555555556,
              "#d8576b"
             ],
             [
              0.6666666666666666,
              "#ed7953"
             ],
             [
              0.7777777777777778,
              "#fb9f3a"
             ],
             [
              0.8888888888888888,
              "#fdca26"
             ],
             [
              1,
              "#f0f921"
             ]
            ],
            "type": "histogram2dcontour"
           }
          ],
          "mesh3d": [
           {
            "colorbar": {
             "outlinewidth": 0,
             "ticks": ""
            },
            "type": "mesh3d"
           }
          ],
          "parcoords": [
           {
            "line": {
             "colorbar": {
              "outlinewidth": 0,
              "ticks": ""
             }
            },
            "type": "parcoords"
           }
          ],
          "pie": [
           {
            "automargin": true,
            "type": "pie"
           }
          ],
          "scatter": [
           {
            "marker": {
             "colorbar": {
              "outlinewidth": 0,
              "ticks": ""
             }
            },
            "type": "scatter"
           }
          ],
          "scatter3d": [
           {
            "line": {
             "colorbar": {
              "outlinewidth": 0,
              "ticks": ""
             }
            },
            "marker": {
             "colorbar": {
              "outlinewidth": 0,
              "ticks": ""
             }
            },
            "type": "scatter3d"
           }
          ],
          "scattercarpet": [
           {
            "marker": {
             "colorbar": {
              "outlinewidth": 0,
              "ticks": ""
             }
            },
            "type": "scattercarpet"
           }
          ],
          "scattergeo": [
           {
            "marker": {
             "colorbar": {
              "outlinewidth": 0,
              "ticks": ""
             }
            },
            "type": "scattergeo"
           }
          ],
          "scattergl": [
           {
            "marker": {
             "colorbar": {
              "outlinewidth": 0,
              "ticks": ""
             }
            },
            "type": "scattergl"
           }
          ],
          "scattermapbox": [
           {
            "marker": {
             "colorbar": {
              "outlinewidth": 0,
              "ticks": ""
             }
            },
            "type": "scattermapbox"
           }
          ],
          "scatterpolar": [
           {
            "marker": {
             "colorbar": {
              "outlinewidth": 0,
              "ticks": ""
             }
            },
            "type": "scatterpolar"
           }
          ],
          "scatterpolargl": [
           {
            "marker": {
             "colorbar": {
              "outlinewidth": 0,
              "ticks": ""
             }
            },
            "type": "scatterpolargl"
           }
          ],
          "scatterternary": [
           {
            "marker": {
             "colorbar": {
              "outlinewidth": 0,
              "ticks": ""
             }
            },
            "type": "scatterternary"
           }
          ],
          "surface": [
           {
            "colorbar": {
             "outlinewidth": 0,
             "ticks": ""
            },
            "colorscale": [
             [
              0,
              "#0d0887"
             ],
             [
              0.1111111111111111,
              "#46039f"
             ],
             [
              0.2222222222222222,
              "#7201a8"
             ],
             [
              0.3333333333333333,
              "#9c179e"
             ],
             [
              0.4444444444444444,
              "#bd3786"
             ],
             [
              0.5555555555555556,
              "#d8576b"
             ],
             [
              0.6666666666666666,
              "#ed7953"
             ],
             [
              0.7777777777777778,
              "#fb9f3a"
             ],
             [
              0.8888888888888888,
              "#fdca26"
             ],
             [
              1,
              "#f0f921"
             ]
            ],
            "type": "surface"
           }
          ],
          "table": [
           {
            "cells": {
             "fill": {
              "color": "#EBF0F8"
             },
             "line": {
              "color": "white"
             }
            },
            "header": {
             "fill": {
              "color": "#C8D4E3"
             },
             "line": {
              "color": "white"
             }
            },
            "type": "table"
           }
          ]
         },
         "layout": {
          "annotationdefaults": {
           "arrowcolor": "#2a3f5f",
           "arrowhead": 0,
           "arrowwidth": 1
          },
          "autotypenumbers": "strict",
          "coloraxis": {
           "colorbar": {
            "outlinewidth": 0,
            "ticks": ""
           }
          },
          "colorscale": {
           "diverging": [
            [
             0,
             "#8e0152"
            ],
            [
             0.1,
             "#c51b7d"
            ],
            [
             0.2,
             "#de77ae"
            ],
            [
             0.3,
             "#f1b6da"
            ],
            [
             0.4,
             "#fde0ef"
            ],
            [
             0.5,
             "#f7f7f7"
            ],
            [
             0.6,
             "#e6f5d0"
            ],
            [
             0.7,
             "#b8e186"
            ],
            [
             0.8,
             "#7fbc41"
            ],
            [
             0.9,
             "#4d9221"
            ],
            [
             1,
             "#276419"
            ]
           ],
           "sequential": [
            [
             0,
             "#0d0887"
            ],
            [
             0.1111111111111111,
             "#46039f"
            ],
            [
             0.2222222222222222,
             "#7201a8"
            ],
            [
             0.3333333333333333,
             "#9c179e"
            ],
            [
             0.4444444444444444,
             "#bd3786"
            ],
            [
             0.5555555555555556,
             "#d8576b"
            ],
            [
             0.6666666666666666,
             "#ed7953"
            ],
            [
             0.7777777777777778,
             "#fb9f3a"
            ],
            [
             0.8888888888888888,
             "#fdca26"
            ],
            [
             1,
             "#f0f921"
            ]
           ],
           "sequentialminus": [
            [
             0,
             "#0d0887"
            ],
            [
             0.1111111111111111,
             "#46039f"
            ],
            [
             0.2222222222222222,
             "#7201a8"
            ],
            [
             0.3333333333333333,
             "#9c179e"
            ],
            [
             0.4444444444444444,
             "#bd3786"
            ],
            [
             0.5555555555555556,
             "#d8576b"
            ],
            [
             0.6666666666666666,
             "#ed7953"
            ],
            [
             0.7777777777777778,
             "#fb9f3a"
            ],
            [
             0.8888888888888888,
             "#fdca26"
            ],
            [
             1,
             "#f0f921"
            ]
           ]
          },
          "colorway": [
           "#636efa",
           "#EF553B",
           "#00cc96",
           "#ab63fa",
           "#FFA15A",
           "#19d3f3",
           "#FF6692",
           "#B6E880",
           "#FF97FF",
           "#FECB52"
          ],
          "font": {
           "color": "#2a3f5f"
          },
          "geo": {
           "bgcolor": "white",
           "lakecolor": "white",
           "landcolor": "#E5ECF6",
           "showlakes": true,
           "showland": true,
           "subunitcolor": "white"
          },
          "hoverlabel": {
           "align": "left"
          },
          "hovermode": "closest",
          "mapbox": {
           "style": "light"
          },
          "paper_bgcolor": "white",
          "plot_bgcolor": "#E5ECF6",
          "polar": {
           "angularaxis": {
            "gridcolor": "white",
            "linecolor": "white",
            "ticks": ""
           },
           "bgcolor": "#E5ECF6",
           "radialaxis": {
            "gridcolor": "white",
            "linecolor": "white",
            "ticks": ""
           }
          },
          "scene": {
           "xaxis": {
            "backgroundcolor": "#E5ECF6",
            "gridcolor": "white",
            "gridwidth": 2,
            "linecolor": "white",
            "showbackground": true,
            "ticks": "",
            "zerolinecolor": "white"
           },
           "yaxis": {
            "backgroundcolor": "#E5ECF6",
            "gridcolor": "white",
            "gridwidth": 2,
            "linecolor": "white",
            "showbackground": true,
            "ticks": "",
            "zerolinecolor": "white"
           },
           "zaxis": {
            "backgroundcolor": "#E5ECF6",
            "gridcolor": "white",
            "gridwidth": 2,
            "linecolor": "white",
            "showbackground": true,
            "ticks": "",
            "zerolinecolor": "white"
           }
          },
          "shapedefaults": {
           "line": {
            "color": "#2a3f5f"
           }
          },
          "ternary": {
           "aaxis": {
            "gridcolor": "white",
            "linecolor": "white",
            "ticks": ""
           },
           "baxis": {
            "gridcolor": "white",
            "linecolor": "white",
            "ticks": ""
           },
           "bgcolor": "#E5ECF6",
           "caxis": {
            "gridcolor": "white",
            "linecolor": "white",
            "ticks": ""
           }
          },
          "title": {
           "x": 0.05
          },
          "xaxis": {
           "automargin": true,
           "gridcolor": "white",
           "linecolor": "white",
           "ticks": "",
           "title": {
            "standoff": 15
           },
           "zerolinecolor": "white",
           "zerolinewidth": 2
          },
          "yaxis": {
           "automargin": true,
           "gridcolor": "white",
           "linecolor": "white",
           "ticks": "",
           "title": {
            "standoff": 15
           },
           "zerolinecolor": "white",
           "zerolinewidth": 2
          }
         }
        },
        "title": {
         "text": "Testing Actual vs. Predicted for Entire Data Set",
         "x": 0.5
        },
        "xaxis": {
         "anchor": "y",
         "domain": [
          0,
          1
         ],
         "range": [
          0.2,
          0.45
         ],
         "title": {
          "text": "Actual"
         }
        },
        "yaxis": {
         "anchor": "x",
         "domain": [
          0,
          1
         ],
         "range": [
          0.1,
          0.5
         ],
         "title": {
          "text": "Predicted"
         }
        }
       }
      },
      "text/html": [
       "<div>                            <div id=\"edd871d7-d0ea-4162-b131-70438d13c861\" class=\"plotly-graph-div\" style=\"height:525px; width:100%;\"></div>            <script type=\"text/javascript\">                require([\"plotly\"], function(Plotly) {                    window.PLOTLYENV=window.PLOTLYENV || {};                                    if (document.getElementById(\"edd871d7-d0ea-4162-b131-70438d13c861\")) {                    Plotly.newPlot(                        \"edd871d7-d0ea-4162-b131-70438d13c861\",                        [{\"hovertemplate\":\"Actual=%{x}<br>Predicted=%{y}<extra></extra>\",\"legendgroup\":\"\",\"marker\":{\"color\":\"#636efa\",\"symbol\":\"circle\"},\"mode\":\"markers\",\"name\":\"\",\"orientation\":\"v\",\"showlegend\":false,\"type\":\"scatter\",\"x\":[0.406,0.429,0.315,0.353,0.341,0.412,0.365,0.324,0.348,0.364,0.322,0.389,0.4379999999999999,0.355,0.313,0.357,0.364,0.355,0.318,0.358,0.364,0.326,0.371,0.384,0.348,0.356,0.395,0.353,0.342,0.34,0.319,0.392,0.3279999999999999,0.3389999999999999,0.316,0.317,0.367,0.389,0.252,0.3429999999999999,0.342,0.369,0.345,0.3279999999999999,0.3779999999999999,0.381,0.367,0.355,0.316,0.363,0.32,0.3829999999999999,0.358,0.313,0.423,0.391,0.379,0.336,0.369,0.408,0.379,0.336,0.319,0.3289999999999999,0.321,0.365,0.346,0.353,0.372,0.397,0.3829999999999999,0.346,0.344,0.324,0.356,0.3229999999999999,0.363,0.346,0.3429999999999999,0.362,0.3229999999999999,0.405,0.34,0.342,0.372,0.361,0.358,0.4029999999999999,0.313,0.346,0.325,0.38,0.363,0.3,0.3279999999999999,0.24,0.347,0.401,0.369,0.3289999999999999,0.299,0.3389999999999999,0.3779999999999999,0.352,0.33,0.29,0.314,0.313,0.313,0.296,0.304,0.325,0.322,0.384,0.353,0.289,0.3279999999999999,0.287,0.309,0.314,0.261,0.312,0.271,0.337,0.276,0.348,0.282,0.31,0.332,0.297,0.318,0.357,0.375,0.3279999999999999,0.374,0.296,0.382,0.361,0.358,0.304,0.379,0.289,0.396,0.3279999999999999,0.293,0.364,0.305,0.291,0.357,0.337,0.311,0.344,0.365,0.322,0.375,0.311,0.271,0.297,0.331,0.326,0.318,0.35,0.3429999999999999,0.389,0.278,0.372,0.307,0.325,0.263,0.29,0.342,0.267,0.337,0.304,0.325,0.364,0.3289999999999999,0.346,0.309,0.354,0.308,0.314,0.289,0.3389999999999999,0.3389999999999999,0.31,0.276,0.31,0.293,0.293,0.309,0.318,0.296,0.316,0.3329999999999999,0.289,0.321,0.3289999999999999,0.332,0.311,0.3339999999999999,0.29,0.305,0.28,0.3229999999999999,0.312,0.3339999999999999,0.335,0.35,0.3339999999999999,0.32,0.336,0.265,0.325,0.293,0.324,0.331,0.311,0.342,0.337,0.316,0.262,0.306,0.325,0.321,0.281,0.3289999999999999,0.335,0.315,0.34,0.305,0.3429999999999999,0.266,0.361,0.312,0.32,0.3429999999999999,0.306,0.262,0.283,0.2319999999999999,0.2789999999999999,0.3,0.34,0.3279999999999999,0.251,0.306,0.325,0.321,0.2789999999999999,0.361,0.312,0.271,0.304,0.31,0.3289999999999999,0.306,0.358,0.342,0.3429999999999999,0.281,0.281,0.291,0.351,0.278,0.2739999999999999,0.302,0.259,0.327,0.356,0.325,0.289,0.318,0.299,0.349,0.276,0.252,0.31,0.31,0.287,0.317,0.327,0.315,0.222,0.351,0.327,0.312,0.301,0.325,0.313,0.313,0.348,0.3329999999999999,0.327,0.304,0.2789999999999999,0.293,0.293,0.285,0.3,0.299,0.236,0.304,0.304,0.322,0.302,0.301,0.209,0.209,0.283,0.26,0.278,0.302,0.31,0.316,0.317,0.242,0.2739999999999999,0.243,0.29],\"xaxis\":\"x\",\"y\":[0.406,0.3634431698200306,0.315,0.353,0.341,0.412,0.31674868558710556,0.29437281219488304,0.33800860936475174,0.364,0.322,0.389,0.3487381487134104,0.355,0.313,0.3352465399528022,0.364,0.2778809663234932,0.318,0.358,0.364,0.36468659189792907,0.37210809299070724,0.384,0.348,0.356,0.3317837732304065,0.353,0.342,0.34,0.319,0.392,0.3279999999999999,0.3389999999999999,0.316,0.317,0.367,0.389,0.252,0.3429999999999999,0.342,0.369,0.345,0.3279999999999999,0.3779999999999999,0.381,0.367,0.354999987023261,0.316,0.363,0.32,0.3829999999999999,0.3264760168789888,0.313,0.423,0.3718184045706447,0.36730786026091095,0.336,0.369,0.2989549434849006,0.33775647526618524,0.336,0.319,0.34043543258792847,0.3012609722194237,0.3788171211512721,0.33064962061294223,0.353,0.3405168704204911,0.397,0.3829999999999999,0.346,0.344,0.324,0.37117238858083335,0.3229999999999999,0.363,0.346,0.3429999999999999,0.362,0.3229999999999999,0.35424399234638926,0.34,0.342,0.372,0.361,0.358,0.4029999999999999,0.313,0.346,0.3616119237759577,0.38,0.36975484781163104,0.3,0.3279999999999999,0.24,0.347,0.401,0.369,0.3289999999999999,0.299,0.3389999999999999,0.3779999999999999,0.33176625955498884,0.33,0.29,0.314,0.313,0.3290264374820885,0.296,0.304,0.325,0.322,0.384,0.353,0.289,0.3279999999999999,0.287,0.309,0.314,0.261,0.312,0.305158904405395,0.337,0.298109396436716,0.348,0.282,0.31,0.332,0.297,0.318,0.357,0.375,0.330299681938579,0.3189339058712663,0.296,0.347947513314861,0.361,0.358,0.304,0.379,0.289,0.396,0.3279999999999999,0.31826775540063057,0.364,0.305,0.291,0.357,0.337,0.29998532264155825,0.344,0.35214196537631526,0.322,0.375,0.311,0.32439654514618327,0.34368751744751647,0.28296432115024744,0.326,0.318,0.35,0.3429999999999999,0.389,0.3522902329501036,0.372,0.307,0.3060460008942104,0.263,0.29,0.30210471265691535,0.267,0.3369999763460599,0.304,0.325,0.28171647211398093,0.2861047173975784,0.346,0.309,0.354,0.308,0.31720622041003277,0.289,0.3389999999999999,0.3389999999999999,0.31,0.276,0.31,0.293,0.293,0.309,0.318,0.296,0.316,0.3329999999999999,0.289,0.321,0.3289999999999999,0.332,0.311,0.31726892108408455,0.29,0.305,0.28,0.3229999999999999,0.312,0.2989467268425603,0.335,0.35,0.3339999999999999,0.32,0.336,0.265,0.325,0.293,0.324,0.32525682464518707,0.311,0.342,0.337,0.316,0.262,0.306,0.325,0.321,0.281,0.3289999999999999,0.335,0.34109206491652205,0.34,0.3309597040407185,0.32572066729525884,0.266,0.361,0.312,0.32,0.3429999999999999,0.306,0.262,0.283,0.29751025714367624,0.2789999999999999,0.3,0.34,0.3279999999999999,0.251,0.306,0.325,0.3068435913493962,0.2789999999999999,0.361,0.312,0.271,0.304,0.28107233052259945,0.3289999999999999,0.306,0.358,0.28792172487470413,0.3081297093766932,0.281,0.281,0.291,0.351,0.3235908543970207,0.2739999999999999,0.302,0.29929154167383604,0.327,0.356,0.325,0.31640174619086675,0.3088161352790484,0.299,0.349,0.276,0.252,0.31,0.3060532675320915,0.287,0.317,0.327,0.315,0.222,0.351,0.327,0.31628728971422343,0.301,0.2949647525446929,0.313,0.313,0.348,0.3329999999999999,0.327,0.304,0.2789999999999999,0.293,0.293,0.285,0.3,0.299,0.236,0.304,0.304,0.322,0.302,0.301,0.209,0.209,0.3096558055518543,0.2901105115026873,0.278,0.302,0.31,0.316,0.31337508737072395,0.242,0.2739999999999999,0.243,0.29],\"yaxis\":\"y\"},{\"hovertemplate\":\"<b>OLS trendline</b><br>Predicted = 0.814741 * Actual + 0.0582601<br>R<sup>2</sup>=0.784264<br><br>Actual=%{x}<br>Predicted=%{y} <b>(trend)</b><extra></extra>\",\"legendgroup\":\"\",\"marker\":{\"color\":\"#636efa\",\"symbol\":\"circle\"},\"mode\":\"lines\",\"name\":\"\",\"showlegend\":false,\"type\":\"scatter\",\"x\":[0.209,0.209,0.222,0.2319999999999999,0.236,0.24,0.242,0.243,0.251,0.252,0.252,0.259,0.26,0.261,0.262,0.262,0.263,0.265,0.266,0.267,0.271,0.271,0.271,0.2739999999999999,0.2739999999999999,0.276,0.276,0.276,0.278,0.278,0.278,0.2789999999999999,0.2789999999999999,0.2789999999999999,0.28,0.281,0.281,0.281,0.282,0.283,0.283,0.285,0.287,0.287,0.289,0.289,0.289,0.289,0.289,0.29,0.29,0.29,0.29,0.291,0.291,0.293,0.293,0.293,0.293,0.293,0.293,0.296,0.296,0.296,0.297,0.297,0.299,0.299,0.299,0.3,0.3,0.3,0.301,0.301,0.302,0.302,0.302,0.304,0.304,0.304,0.304,0.304,0.304,0.304,0.305,0.305,0.305,0.306,0.306,0.306,0.306,0.307,0.308,0.309,0.309,0.309,0.31,0.31,0.31,0.31,0.31,0.31,0.31,0.311,0.311,0.311,0.311,0.312,0.312,0.312,0.312,0.312,0.313,0.313,0.313,0.313,0.313,0.313,0.313,0.314,0.314,0.314,0.315,0.315,0.315,0.316,0.316,0.316,0.316,0.316,0.317,0.317,0.317,0.318,0.318,0.318,0.318,0.318,0.319,0.319,0.32,0.32,0.32,0.321,0.321,0.321,0.321,0.322,0.322,0.322,0.322,0.3229999999999999,0.3229999999999999,0.3229999999999999,0.324,0.324,0.324,0.325,0.325,0.325,0.325,0.325,0.325,0.325,0.325,0.325,0.326,0.326,0.327,0.327,0.327,0.327,0.3279999999999999,0.3279999999999999,0.3279999999999999,0.3279999999999999,0.3279999999999999,0.3279999999999999,0.3279999999999999,0.3289999999999999,0.3289999999999999,0.3289999999999999,0.3289999999999999,0.3289999999999999,0.3289999999999999,0.33,0.331,0.331,0.332,0.332,0.3329999999999999,0.3329999999999999,0.3339999999999999,0.3339999999999999,0.3339999999999999,0.335,0.335,0.336,0.336,0.336,0.337,0.337,0.337,0.337,0.3389999999999999,0.3389999999999999,0.3389999999999999,0.3389999999999999,0.34,0.34,0.34,0.34,0.341,0.342,0.342,0.342,0.342,0.342,0.342,0.3429999999999999,0.3429999999999999,0.3429999999999999,0.3429999999999999,0.3429999999999999,0.3429999999999999,0.344,0.344,0.345,0.346,0.346,0.346,0.346,0.346,0.347,0.348,0.348,0.348,0.348,0.349,0.35,0.35,0.351,0.351,0.352,0.353,0.353,0.353,0.353,0.354,0.355,0.355,0.355,0.356,0.356,0.356,0.357,0.357,0.357,0.358,0.358,0.358,0.358,0.358,0.361,0.361,0.361,0.361,0.362,0.363,0.363,0.363,0.364,0.364,0.364,0.364,0.364,0.365,0.365,0.365,0.367,0.367,0.369,0.369,0.369,0.371,0.372,0.372,0.372,0.374,0.375,0.375,0.3779999999999999,0.3779999999999999,0.379,0.379,0.379,0.38,0.381,0.382,0.3829999999999999,0.3829999999999999,0.384,0.384,0.389,0.389,0.389,0.391,0.392,0.395,0.396,0.397,0.401,0.4029999999999999,0.405,0.406,0.408,0.412,0.423,0.429,0.4379999999999999],\"xaxis\":\"x\",\"y\":[0.22854092441452442,0.22854092441452442,0.23913255312550083,0.24727995982625187,0.25053892250655235,0.2537978851868528,0.25542736652700304,0.25624210719707813,0.26276003255767905,0.26357477322775413,0.26357477322775413,0.2692779579182799,0.270092698588355,0.27090743925843014,0.2717221799285052,0.2717221799285052,0.27253692059858037,0.2741664019387306,0.2749811426088057,0.27579588327888077,0.27905484595918123,0.27905484595918123,0.27905484595918123,0.2814990679694065,0.2814990679694065,0.2831285493095568,0.2831285493095568,0.2831285493095568,0.284758030649707,0.284758030649707,0.284758030649707,0.28557277131978204,0.28557277131978204,0.28557277131978204,0.28638751198985724,0.2872022526599323,0.2872022526599323,0.2872022526599323,0.2880169933300074,0.2888317340000825,0.2888317340000825,0.2904612153402327,0.29209069668038296,0.29209069668038296,0.2937201780205332,0.2937201780205332,0.2937201780205332,0.2937201780205332,0.2937201780205332,0.29453491869060827,0.29453491869060827,0.29453491869060827,0.29453491869060827,0.2953496593606834,0.2953496593606834,0.2969791407008336,0.2969791407008336,0.2969791407008336,0.2969791407008336,0.2969791407008336,0.2969791407008336,0.29942336271105896,0.29942336271105896,0.29942336271105896,0.30023810338113405,0.30023810338113405,0.3018675847212843,0.3018675847212843,0.3018675847212843,0.30268232539135936,0.30268232539135936,0.30268232539135936,0.3034970660614345,0.3034970660614345,0.3043118067315096,0.3043118067315096,0.3043118067315096,0.3059412880716598,0.3059412880716598,0.3059412880716598,0.3059412880716598,0.3059412880716598,0.3059412880716598,0.3059412880716598,0.3067560287417349,0.3067560287417349,0.3067560287417349,0.30757076941181005,0.30757076941181005,0.30757076941181005,0.30757076941181005,0.30838551008188514,0.3092002507519602,0.31001499142203537,0.31001499142203537,0.31001499142203537,0.31082973209211046,0.31082973209211046,0.31082973209211046,0.31082973209211046,0.31082973209211046,0.31082973209211046,0.31082973209211046,0.3116444727621856,0.3116444727621856,0.3116444727621856,0.3116444727621856,0.3124592134322607,0.3124592134322607,0.3124592134322607,0.3124592134322607,0.3124592134322607,0.31327395410233577,0.31327395410233577,0.31327395410233577,0.31327395410233577,0.31327395410233577,0.31327395410233577,0.31327395410233577,0.3140886947724109,0.3140886947724109,0.3140886947724109,0.314903435442486,0.314903435442486,0.314903435442486,0.31571817611256114,0.31571817611256114,0.31571817611256114,0.31571817611256114,0.31571817611256114,0.31653291678263623,0.31653291678263623,0.31653291678263623,0.3173476574527114,0.3173476574527114,0.3173476574527114,0.3173476574527114,0.3173476574527114,0.31816239812278646,0.31816239812278646,0.31897713879286155,0.31897713879286155,0.31897713879286155,0.3197918794629367,0.3197918794629367,0.3197918794629367,0.3197918794629367,0.3206066201330118,0.3206066201330118,0.3206066201330118,0.3206066201330118,0.3214213608030868,0.3214213608030868,0.3214213608030868,0.322236101473162,0.322236101473162,0.322236101473162,0.3230508421432371,0.3230508421432371,0.3230508421432371,0.3230508421432371,0.3230508421432371,0.3230508421432371,0.3230508421432371,0.3230508421432371,0.3230508421432371,0.32386558281331224,0.32386558281331224,0.3246803234833873,0.3246803234833873,0.3246803234833873,0.3246803234833873,0.32549506415346235,0.32549506415346235,0.32549506415346235,0.32549506415346235,0.32549506415346235,0.32549506415346235,0.32549506415346235,0.3263098048235375,0.3263098048235375,0.3263098048235375,0.3263098048235375,0.3263098048235375,0.3263098048235375,0.3271245454936127,0.3279392861636878,0.3279392861636878,0.32875402683376287,0.32875402683376287,0.3295687675038379,0.3295687675038379,0.33038350817391304,0.33038350817391304,0.33038350817391304,0.33119824884398824,0.33119824884398824,0.33201298951406333,0.33201298951406333,0.33201298951406333,0.3328277301841384,0.3328277301841384,0.3328277301841384,0.3328277301841384,0.3344572115242886,0.3344572115242886,0.3344572115242886,0.3344572115242886,0.3352719521943638,0.3352719521943638,0.3352719521943638,0.3352719521943638,0.3360866928644389,0.336901433534514,0.336901433534514,0.336901433534514,0.336901433534514,0.336901433534514,0.336901433534514,0.337716174204589,0.337716174204589,0.337716174204589,0.337716174204589,0.337716174204589,0.337716174204589,0.3385309148746642,0.3385309148746642,0.3393456555447393,0.34016039621481436,0.34016039621481436,0.34016039621481436,0.34016039621481436,0.34016039621481436,0.3409751368848895,0.3417898775549646,0.3417898775549646,0.3417898775549646,0.3417898775549646,0.34260461822503974,0.3434193588951148,0.3434193588951148,0.3442340995651899,0.3442340995651899,0.34504884023526505,0.34586358090534014,0.34586358090534014,0.34586358090534014,0.34586358090534014,0.3466783215754153,0.34749306224549037,0.34749306224549037,0.34749306224549037,0.3483078029155655,0.3483078029155655,0.3483078029155655,0.3491225435856406,0.3491225435856406,0.3491225435856406,0.3499372842557157,0.3499372842557157,0.3499372842557157,0.3499372842557157,0.3499372842557157,0.35238150626594106,0.35238150626594106,0.35238150626594106,0.35238150626594106,0.35319624693601614,0.35401098760609123,0.35401098760609123,0.35401098760609123,0.3548257282761664,0.3548257282761664,0.3548257282761664,0.3548257282761664,0.3548257282761664,0.35564046894624146,0.35564046894624146,0.35564046894624146,0.3572699502863917,0.3572699502863917,0.3588994316265419,0.3588994316265419,0.3588994316265419,0.36052891296669215,0.36134365363676724,0.36134365363676724,0.36134365363676724,0.36297313497691747,0.36378787564699255,0.36378787564699255,0.3662320976572178,0.3662320976572178,0.367046838327293,0.367046838327293,0.367046838327293,0.36786157899736815,0.36867631966744324,0.36949106033751833,0.37030580100759336,0.37030580100759336,0.37112054167766856,0.37112054167766856,0.3751942450280441,0.3751942450280441,0.3751942450280441,0.37682372636819433,0.3776384670382695,0.3800826890484948,0.3808974297185699,0.381712170388645,0.3849711330689454,0.3866006144090956,0.3882300957492459,0.38904483641932097,0.39067431775947115,0.3939332804397716,0.40289542781059784,0.4077838718310485,0.41511653786172437],\"yaxis\":\"y\"}],                        {\"legend\":{\"tracegroupgap\":0},\"margin\":{\"t\":60},\"template\":{\"data\":{\"bar\":[{\"error_x\":{\"color\":\"#2a3f5f\"},\"error_y\":{\"color\":\"#2a3f5f\"},\"marker\":{\"line\":{\"color\":\"#E5ECF6\",\"width\":0.5},\"pattern\":{\"fillmode\":\"overlay\",\"size\":10,\"solidity\":0.2}},\"type\":\"bar\"}],\"barpolar\":[{\"marker\":{\"line\":{\"color\":\"#E5ECF6\",\"width\":0.5},\"pattern\":{\"fillmode\":\"overlay\",\"size\":10,\"solidity\":0.2}},\"type\":\"barpolar\"}],\"carpet\":[{\"aaxis\":{\"endlinecolor\":\"#2a3f5f\",\"gridcolor\":\"white\",\"linecolor\":\"white\",\"minorgridcolor\":\"white\",\"startlinecolor\":\"#2a3f5f\"},\"baxis\":{\"endlinecolor\":\"#2a3f5f\",\"gridcolor\":\"white\",\"linecolor\":\"white\",\"minorgridcolor\":\"white\",\"startlinecolor\":\"#2a3f5f\"},\"type\":\"carpet\"}],\"choropleth\":[{\"colorbar\":{\"outlinewidth\":0,\"ticks\":\"\"},\"type\":\"choropleth\"}],\"contour\":[{\"colorbar\":{\"outlinewidth\":0,\"ticks\":\"\"},\"colorscale\":[[0.0,\"#0d0887\"],[0.1111111111111111,\"#46039f\"],[0.2222222222222222,\"#7201a8\"],[0.3333333333333333,\"#9c179e\"],[0.4444444444444444,\"#bd3786\"],[0.5555555555555556,\"#d8576b\"],[0.6666666666666666,\"#ed7953\"],[0.7777777777777778,\"#fb9f3a\"],[0.8888888888888888,\"#fdca26\"],[1.0,\"#f0f921\"]],\"type\":\"contour\"}],\"contourcarpet\":[{\"colorbar\":{\"outlinewidth\":0,\"ticks\":\"\"},\"type\":\"contourcarpet\"}],\"heatmap\":[{\"colorbar\":{\"outlinewidth\":0,\"ticks\":\"\"},\"colorscale\":[[0.0,\"#0d0887\"],[0.1111111111111111,\"#46039f\"],[0.2222222222222222,\"#7201a8\"],[0.3333333333333333,\"#9c179e\"],[0.4444444444444444,\"#bd3786\"],[0.5555555555555556,\"#d8576b\"],[0.6666666666666666,\"#ed7953\"],[0.7777777777777778,\"#fb9f3a\"],[0.8888888888888888,\"#fdca26\"],[1.0,\"#f0f921\"]],\"type\":\"heatmap\"}],\"heatmapgl\":[{\"colorbar\":{\"outlinewidth\":0,\"ticks\":\"\"},\"colorscale\":[[0.0,\"#0d0887\"],[0.1111111111111111,\"#46039f\"],[0.2222222222222222,\"#7201a8\"],[0.3333333333333333,\"#9c179e\"],[0.4444444444444444,\"#bd3786\"],[0.5555555555555556,\"#d8576b\"],[0.6666666666666666,\"#ed7953\"],[0.7777777777777778,\"#fb9f3a\"],[0.8888888888888888,\"#fdca26\"],[1.0,\"#f0f921\"]],\"type\":\"heatmapgl\"}],\"histogram\":[{\"marker\":{\"pattern\":{\"fillmode\":\"overlay\",\"size\":10,\"solidity\":0.2}},\"type\":\"histogram\"}],\"histogram2d\":[{\"colorbar\":{\"outlinewidth\":0,\"ticks\":\"\"},\"colorscale\":[[0.0,\"#0d0887\"],[0.1111111111111111,\"#46039f\"],[0.2222222222222222,\"#7201a8\"],[0.3333333333333333,\"#9c179e\"],[0.4444444444444444,\"#bd3786\"],[0.5555555555555556,\"#d8576b\"],[0.6666666666666666,\"#ed7953\"],[0.7777777777777778,\"#fb9f3a\"],[0.8888888888888888,\"#fdca26\"],[1.0,\"#f0f921\"]],\"type\":\"histogram2d\"}],\"histogram2dcontour\":[{\"colorbar\":{\"outlinewidth\":0,\"ticks\":\"\"},\"colorscale\":[[0.0,\"#0d0887\"],[0.1111111111111111,\"#46039f\"],[0.2222222222222222,\"#7201a8\"],[0.3333333333333333,\"#9c179e\"],[0.4444444444444444,\"#bd3786\"],[0.5555555555555556,\"#d8576b\"],[0.6666666666666666,\"#ed7953\"],[0.7777777777777778,\"#fb9f3a\"],[0.8888888888888888,\"#fdca26\"],[1.0,\"#f0f921\"]],\"type\":\"histogram2dcontour\"}],\"mesh3d\":[{\"colorbar\":{\"outlinewidth\":0,\"ticks\":\"\"},\"type\":\"mesh3d\"}],\"parcoords\":[{\"line\":{\"colorbar\":{\"outlinewidth\":0,\"ticks\":\"\"}},\"type\":\"parcoords\"}],\"pie\":[{\"automargin\":true,\"type\":\"pie\"}],\"scatter\":[{\"marker\":{\"colorbar\":{\"outlinewidth\":0,\"ticks\":\"\"}},\"type\":\"scatter\"}],\"scatter3d\":[{\"line\":{\"colorbar\":{\"outlinewidth\":0,\"ticks\":\"\"}},\"marker\":{\"colorbar\":{\"outlinewidth\":0,\"ticks\":\"\"}},\"type\":\"scatter3d\"}],\"scattercarpet\":[{\"marker\":{\"colorbar\":{\"outlinewidth\":0,\"ticks\":\"\"}},\"type\":\"scattercarpet\"}],\"scattergeo\":[{\"marker\":{\"colorbar\":{\"outlinewidth\":0,\"ticks\":\"\"}},\"type\":\"scattergeo\"}],\"scattergl\":[{\"marker\":{\"colorbar\":{\"outlinewidth\":0,\"ticks\":\"\"}},\"type\":\"scattergl\"}],\"scattermapbox\":[{\"marker\":{\"colorbar\":{\"outlinewidth\":0,\"ticks\":\"\"}},\"type\":\"scattermapbox\"}],\"scatterpolar\":[{\"marker\":{\"colorbar\":{\"outlinewidth\":0,\"ticks\":\"\"}},\"type\":\"scatterpolar\"}],\"scatterpolargl\":[{\"marker\":{\"colorbar\":{\"outlinewidth\":0,\"ticks\":\"\"}},\"type\":\"scatterpolargl\"}],\"scatterternary\":[{\"marker\":{\"colorbar\":{\"outlinewidth\":0,\"ticks\":\"\"}},\"type\":\"scatterternary\"}],\"surface\":[{\"colorbar\":{\"outlinewidth\":0,\"ticks\":\"\"},\"colorscale\":[[0.0,\"#0d0887\"],[0.1111111111111111,\"#46039f\"],[0.2222222222222222,\"#7201a8\"],[0.3333333333333333,\"#9c179e\"],[0.4444444444444444,\"#bd3786\"],[0.5555555555555556,\"#d8576b\"],[0.6666666666666666,\"#ed7953\"],[0.7777777777777778,\"#fb9f3a\"],[0.8888888888888888,\"#fdca26\"],[1.0,\"#f0f921\"]],\"type\":\"surface\"}],\"table\":[{\"cells\":{\"fill\":{\"color\":\"#EBF0F8\"},\"line\":{\"color\":\"white\"}},\"header\":{\"fill\":{\"color\":\"#C8D4E3\"},\"line\":{\"color\":\"white\"}},\"type\":\"table\"}]},\"layout\":{\"annotationdefaults\":{\"arrowcolor\":\"#2a3f5f\",\"arrowhead\":0,\"arrowwidth\":1},\"autotypenumbers\":\"strict\",\"coloraxis\":{\"colorbar\":{\"outlinewidth\":0,\"ticks\":\"\"}},\"colorscale\":{\"diverging\":[[0,\"#8e0152\"],[0.1,\"#c51b7d\"],[0.2,\"#de77ae\"],[0.3,\"#f1b6da\"],[0.4,\"#fde0ef\"],[0.5,\"#f7f7f7\"],[0.6,\"#e6f5d0\"],[0.7,\"#b8e186\"],[0.8,\"#7fbc41\"],[0.9,\"#4d9221\"],[1,\"#276419\"]],\"sequential\":[[0.0,\"#0d0887\"],[0.1111111111111111,\"#46039f\"],[0.2222222222222222,\"#7201a8\"],[0.3333333333333333,\"#9c179e\"],[0.4444444444444444,\"#bd3786\"],[0.5555555555555556,\"#d8576b\"],[0.6666666666666666,\"#ed7953\"],[0.7777777777777778,\"#fb9f3a\"],[0.8888888888888888,\"#fdca26\"],[1.0,\"#f0f921\"]],\"sequentialminus\":[[0.0,\"#0d0887\"],[0.1111111111111111,\"#46039f\"],[0.2222222222222222,\"#7201a8\"],[0.3333333333333333,\"#9c179e\"],[0.4444444444444444,\"#bd3786\"],[0.5555555555555556,\"#d8576b\"],[0.6666666666666666,\"#ed7953\"],[0.7777777777777778,\"#fb9f3a\"],[0.8888888888888888,\"#fdca26\"],[1.0,\"#f0f921\"]]},\"colorway\":[\"#636efa\",\"#EF553B\",\"#00cc96\",\"#ab63fa\",\"#FFA15A\",\"#19d3f3\",\"#FF6692\",\"#B6E880\",\"#FF97FF\",\"#FECB52\"],\"font\":{\"color\":\"#2a3f5f\"},\"geo\":{\"bgcolor\":\"white\",\"lakecolor\":\"white\",\"landcolor\":\"#E5ECF6\",\"showlakes\":true,\"showland\":true,\"subunitcolor\":\"white\"},\"hoverlabel\":{\"align\":\"left\"},\"hovermode\":\"closest\",\"mapbox\":{\"style\":\"light\"},\"paper_bgcolor\":\"white\",\"plot_bgcolor\":\"#E5ECF6\",\"polar\":{\"angularaxis\":{\"gridcolor\":\"white\",\"linecolor\":\"white\",\"ticks\":\"\"},\"bgcolor\":\"#E5ECF6\",\"radialaxis\":{\"gridcolor\":\"white\",\"linecolor\":\"white\",\"ticks\":\"\"}},\"scene\":{\"xaxis\":{\"backgroundcolor\":\"#E5ECF6\",\"gridcolor\":\"white\",\"gridwidth\":2,\"linecolor\":\"white\",\"showbackground\":true,\"ticks\":\"\",\"zerolinecolor\":\"white\"},\"yaxis\":{\"backgroundcolor\":\"#E5ECF6\",\"gridcolor\":\"white\",\"gridwidth\":2,\"linecolor\":\"white\",\"showbackground\":true,\"ticks\":\"\",\"zerolinecolor\":\"white\"},\"zaxis\":{\"backgroundcolor\":\"#E5ECF6\",\"gridcolor\":\"white\",\"gridwidth\":2,\"linecolor\":\"white\",\"showbackground\":true,\"ticks\":\"\",\"zerolinecolor\":\"white\"}},\"shapedefaults\":{\"line\":{\"color\":\"#2a3f5f\"}},\"ternary\":{\"aaxis\":{\"gridcolor\":\"white\",\"linecolor\":\"white\",\"ticks\":\"\"},\"baxis\":{\"gridcolor\":\"white\",\"linecolor\":\"white\",\"ticks\":\"\"},\"bgcolor\":\"#E5ECF6\",\"caxis\":{\"gridcolor\":\"white\",\"linecolor\":\"white\",\"ticks\":\"\"}},\"title\":{\"x\":0.05},\"xaxis\":{\"automargin\":true,\"gridcolor\":\"white\",\"linecolor\":\"white\",\"ticks\":\"\",\"title\":{\"standoff\":15},\"zerolinecolor\":\"white\",\"zerolinewidth\":2},\"yaxis\":{\"automargin\":true,\"gridcolor\":\"white\",\"linecolor\":\"white\",\"ticks\":\"\",\"title\":{\"standoff\":15},\"zerolinecolor\":\"white\",\"zerolinewidth\":2}}},\"title\":{\"text\":\"Testing Actual vs. Predicted for Entire Data Set\",\"x\":0.5},\"xaxis\":{\"anchor\":\"y\",\"domain\":[0.0,1.0],\"range\":[0.2,0.45],\"title\":{\"text\":\"Actual\"}},\"yaxis\":{\"anchor\":\"x\",\"domain\":[0.0,1.0],\"range\":[0.1,0.5],\"title\":{\"text\":\"Predicted\"}}},                        {\"responsive\": true}                    ).then(function(){\n",
       "                            \n",
       "var gd = document.getElementById('edd871d7-d0ea-4162-b131-70438d13c861');\n",
       "var x = new MutationObserver(function (mutations, observer) {{\n",
       "        var display = window.getComputedStyle(gd).display;\n",
       "        if (!display || display === 'none') {{\n",
       "            console.log([gd, 'removed!']);\n",
       "            Plotly.purge(gd);\n",
       "            observer.disconnect();\n",
       "        }}\n",
       "}});\n",
       "\n",
       "// Listen for the removal of the full notebook cells\n",
       "var notebookContainer = gd.closest('#notebook-container');\n",
       "if (notebookContainer) {{\n",
       "    x.observe(notebookContainer, {childList: true});\n",
       "}}\n",
       "\n",
       "// Listen for the clearing of the current output cell\n",
       "var outputEl = gd.closest('.output');\n",
       "if (outputEl) {{\n",
       "    x.observe(outputEl, {childList: true});\n",
       "}}\n",
       "\n",
       "                        })                };                });            </script>        </div>"
      ]
     },
     "metadata": {},
     "output_type": "display_data"
    },
    {
     "name": "stdout",
     "output_type": "stream",
     "text": [
      "Mean Absolute Error: 0.0063957503476214555\n",
      "Mean Squared Error: 0.00031046140754655726\n",
      "Root Mean Squared Error: 0.017619915083409377\n"
     ]
    }
   ],
   "source": [
    "predictionAllPlayers = regressor.predict(independentSet)\n",
    "resultFrameAllPlayers = pd.DataFrame({'Name': battingData[columns[1]],'Actual': dependentSet, 'Predicted': predictionAllPlayers})\n",
    "#print(resultFrameAllPlayers)\n",
    "\n",
    "# Print XY Scatter Plot using plotly\n",
    "\n",
    "fig = px.scatter(resultFrameAllPlayers, x=\"Actual\", y=\"Predicted\",  trendline=\"ols\")\n",
    "fig.update_layout(title_text='Testing Actual vs. Predicted for Entire Data Set', title_x=0.5)\n",
    "fig.update_xaxes(range=[0.2, 0.45])\n",
    "fig.update_yaxes(range=[0.1, 0.5])\n",
    "fig.show()\n",
    "\n",
    "print('Mean Absolute Error:', metrics.mean_absolute_error(dependentSet, predictionAllPlayers))\n",
    "print('Mean Squared Error:', metrics.mean_squared_error(dependentSet, predictionAllPlayers))\n",
    "print('Root Mean Squared Error:', np.sqrt(metrics.mean_squared_error(dependentSet, predictionAllPlayers)))"
   ]
  },
  {
   "cell_type": "code",
   "execution_count": 63,
   "id": "450b5f1a",
   "metadata": {
    "scrolled": true
   },
   "outputs": [
    {
     "data": {
      "application/vnd.jupyter.widget-view+json": {
       "model_id": "b07d39a354044aaca03dfda6ee916c9b",
       "version_major": 2,
       "version_minor": 0
      },
      "text/plain": [
       "Dropdown(options=('ALL', 'A.J. Pollock', 'Aaron Judge', 'Adalberto Mondesi', 'Adam Eaton', 'Adam Engel', 'Adam…"
      ]
     },
     "metadata": {},
     "output_type": "display_data"
    }
   ],
   "source": [
    "# Add Widget to select Player and See Predictions vs. Actual performance via dropdown box\n",
    "# For dropbox selection to work, must run this and the next cell\n",
    "# Code adopted and modified from:\n",
    "# https://stackoverflow.com/questions/45754356/jupyter-notebook-widgets-create-dependent-dropdowns\n",
    "\n",
    "\n",
    "# Define function to call and sort all values based on the given input (in this case player's name)\n",
    "\n",
    "ALL = 'ALL'\n",
    "def sortedValues(array):\n",
    "    unique = array.unique().tolist()\n",
    "    unique.sort()\n",
    "    unique.insert(0, ALL)\n",
    "    return unique\n",
    "\n",
    "dropdownName = widgets.Dropdown(options = sortedValues(resultFrameAllPlayers.Name))\n",
    "outputName = widgets.Output()\n",
    "\n",
    "# Define Function to handle the change in event(i.e. selecting a new name from the dropdown)\n",
    "\n",
    "def dropdownNameEventhandler(change):\n",
    "    outputName.clear_output()\n",
    "    with outputName:\n",
    "        if (change.new == ALL):\n",
    "            display(resultFrameAllPlayers)\n",
    "        else:\n",
    "            display(resultFrameAllPlayers[resultFrameAllPlayers.Name == change.new])\n",
    "\n",
    "dropdownName.observe(dropdownNameEventhandler, names='value')\n",
    "display(dropdownName)"
   ]
  },
  {
   "cell_type": "code",
   "execution_count": 64,
   "id": "d069ed10",
   "metadata": {},
   "outputs": [
    {
     "data": {
      "application/vnd.jupyter.widget-view+json": {
       "model_id": "e62508baf9374c9e86fae789e2a7c1d3",
       "version_major": 2,
       "version_minor": 0
      },
      "text/plain": [
       "Output()"
      ]
     },
     "metadata": {},
     "output_type": "display_data"
    }
   ],
   "source": [
    "display((outputName))"
   ]
  },
  {
   "cell_type": "code",
   "execution_count": null,
   "id": "81ffe73f",
   "metadata": {},
   "outputs": [],
   "source": []
  }
 ],
 "metadata": {
  "kernelspec": {
   "display_name": "Python 3",
   "language": "python",
   "name": "python3"
  },
  "language_info": {
   "codemirror_mode": {
    "name": "ipython",
    "version": 3
   },
   "file_extension": ".py",
   "mimetype": "text/x-python",
   "name": "python",
   "nbconvert_exporter": "python",
   "pygments_lexer": "ipython3",
   "version": "3.8.8"
  }
 },
 "nbformat": 4,
 "nbformat_minor": 5
}
